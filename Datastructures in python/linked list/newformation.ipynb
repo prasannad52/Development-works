{
 "cells": [
  {
   "cell_type": "code",
   "execution_count": 5,
   "metadata": {},
   "outputs": [
    {
     "name": "stdout",
     "output_type": "stream",
     "text": [
      "enter 1.insert front 2.insert rear 3.delete front 4.delete rear 5.printing 6.end\n",
      "enter an element to insert front to list\n",
      "enter 1.insert front 2.insert rear 3.delete front 4.delete rear 5.printing 6.end\n",
      "deleted item is 14\n",
      "enter 1.insert front 2.insert rear 3.delete front 4.delete rear 5.printing 6.end\n",
      "ther are no elements in the linked list\n",
      "enter 1.insert front 2.insert rear 3.delete front 4.delete rear 5.printing 6.end\n",
      "stoping the operation\n"
     ]
    }
   ],
   "source": [
    "# LINKED LIST IMPLEMENTATION\n",
    "class node:\n",
    "    def __init__(self,val):\n",
    "        self.data = val\n",
    "        self.next = None\n",
    "\n",
    "\n",
    "def insert_front(n,head):\n",
    "    newnode = node(n)\n",
    "    if head == None:\n",
    "        head = newnode\n",
    "        return head\n",
    "    else:\n",
    "        newnode.next = head\n",
    "        head = newnode\n",
    "        print(f\"node {newnode.data} is inserted to the front of the list\")\n",
    "        return head\n",
    "\n",
    "def insert_rear(n,head):\n",
    "    newnode = node(n)\n",
    "    temp = head\n",
    "    if temp == None:\n",
    "        temp = newnode\n",
    "        print(f\"node {newnode.data} is inserted to the rear of the list\")\n",
    "        return temp\n",
    "    else:\n",
    "        while temp.next != None:\n",
    "            temp = temp.next\n",
    "        temp.next = newnode\n",
    "        print(f\"node {newnode.data} is inserted to the rear of the list\")\n",
    "        return head\n",
    "\n",
    "def printing(head):\n",
    "    if head == None:\n",
    "        print(\"ther are no elements in the linked list\")\n",
    "        return\n",
    "    else:\n",
    "        print(\"elements in the linked list are\")\n",
    "        temp = head\n",
    "        while temp.next != None:\n",
    "            print(temp.data,end='->')\n",
    "            temp = temp.next\n",
    "        print(temp.data,end = '->')\n",
    "        print(None)\n",
    "        return\n",
    "\n",
    "def delete_front(head):\n",
    "    if head == None:\n",
    "        print(\"there are no elements in the linked list\")\n",
    "        return head\n",
    "    else:\n",
    "        temp = head\n",
    "        head = head.next\n",
    "        print(f\"deleted item is {temp.data}\")\n",
    "        del(temp)\n",
    "        return head\n",
    "\n",
    "def delete_rear(head):\n",
    "    if head == None:\n",
    "        print(\"there are no elemets in the linked list\")\n",
    "        return head\n",
    "    elif head.next == None:\n",
    "        print(f\"deleted item is {head.data}\")\n",
    "        del(head)\n",
    "        head = None\n",
    "        return head\n",
    "    else:\n",
    "        temp = head\n",
    "        while temp.next != None:\n",
    "            temp = temp.next\n",
    "        print(f\"deleted item is {temp.data}\")\n",
    "        del(temp)\n",
    "        return head\n",
    "\n",
    "def main():\n",
    "    head = None\n",
    "    while True:\n",
    "        print(\"enter 1.insert front 2.insert rear 3.delete front 4.delete rear 5.printing 6.end\")\n",
    "        choice = int(input(\"enter your choice\"))\n",
    "        if choice == 1:\n",
    "            print(\"enter an element to insert front to list\")\n",
    "            n = int(input())\n",
    "            head = insert_front(n,head)\n",
    "        elif choice == 2:\n",
    "            print(\"enter an element to insert front to list\")\n",
    "            n = int(input())\n",
    "            head  = insert_rear(n,head)\n",
    "        elif choice == 3:\n",
    "            head = delete_front(head)\n",
    "        elif choice == 4:\n",
    "            head = delete_rear(head)\n",
    "        elif choice == 5:\n",
    "            printing(head)\n",
    "        else:\n",
    "            print(\"stoping the operation\")\n",
    "            break\n",
    "if __name__ == \"__main__\":\n",
    "    main()"
   ]
  },
  {
   "cell_type": "code",
   "execution_count": 6,
   "metadata": {},
   "outputs": [
    {
     "name": "stdout",
     "output_type": "stream",
     "text": [
      "1\n"
     ]
    }
   ],
   "source": [
    "n = int(input(\"eneter an element\"))\n",
    "print(n)"
   ]
  },
  {
   "cell_type": "markdown",
   "metadata": {},
   "source": []
  },
  {
   "cell_type": "code",
   "execution_count": null,
   "metadata": {},
   "outputs": [],
   "source": []
  }
 ],
 "metadata": {
  "kernelspec": {
   "display_name": "Python 3",
   "language": "python",
   "name": "python3"
  },
  "language_info": {
   "codemirror_mode": {
    "name": "ipython",
    "version": 3
   },
   "file_extension": ".py",
   "mimetype": "text/x-python",
   "name": "python",
   "nbconvert_exporter": "python",
   "pygments_lexer": "ipython3",
   "version": "3.13.0"
  }
 },
 "nbformat": 4,
 "nbformat_minor": 2
}
