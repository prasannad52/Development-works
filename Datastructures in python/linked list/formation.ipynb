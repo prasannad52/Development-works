{
 "cells": [
  {
   "cell_type": "code",
   "execution_count": null,
   "metadata": {},
   "outputs": [],
   "source": [
    "# creating a linked list with head \n",
    "class node:\n",
    "    def __init__(self,val):\n",
    "        self.data = val\n",
    "        self.next = None\n",
    "first = node(1)\n",
    "second =node(2)\n",
    "third = node(3)\n",
    "\n",
    "\n",
    "first.next = second\n",
    "second.next = third\n",
    "head = first\n",
    "\n",
    "\n",
    "del(first)  #optional\n",
    "del(second) #optional\n",
    "del(third) #optional\n",
    "\n",
    "\n",
    "print(head.data) # individually iterating through each and every elements in the linked list\n",
    "print(head.next.data)\n",
    "print(head.next.next.data)\n",
    "\n",
    "\n",
    "def print_ll(head): # iterating through the all elements in the list\n",
    "    temp = head\n",
    "    while(temp!=None):\n",
    "        print(temp.data)\n",
    "        temp = temp.next\n",
    "    return\n",
    "print_ll(head)"
   ]
  },
  {
   "cell_type": "code",
   "execution_count": 2,
   "metadata": {},
   "outputs": [
    {
     "name": "stdout",
     "output_type": "stream",
     "text": [
      "hello\n"
     ]
    }
   ],
   "source": [
    "def p():\n",
    " print(\"hello\")\n",
    "p()"
   ]
  },
  {
   "cell_type": "code",
   "execution_count": null,
   "metadata": {},
   "outputs": [],
   "source": []
  },
  {
   "cell_type": "code",
   "execution_count": null,
   "metadata": {},
   "outputs": [],
   "source": [
    "class node:\n",
    "    def __init__(self,val):\n",
    "        self.data = val\n",
    "        self.next = None\n",
    "def insert_fornt():\n",
    "    head = None\n",
    "    val = int(input(\"enter an element to insert\"))\n",
    "    while val!=-1:\n",
    "        newnode = node(val)\n",
    "        if head == None:\n",
    "            head = newnode\n",
    "        else:\n",
    "            newnode.next = head\n",
    "            head = newnode\n",
    "        val = int(input(\"enter an element to insert\"))\n",
    "    return head\n",
    "head = insert_fornt()\n",
    "def printing(head):\n",
    "    current = head\n",
    "    while current:\n",
    "        print(current.data,end= '->')\n",
    "        current = current.next\n",
    "    print(None)\n",
    "    return\n",
    "printing(head)"
   ]
  },
  {
   "cell_type": "code",
   "execution_count": null,
   "metadata": {},
   "outputs": [],
   "source": [
    "def insert_rear():\n",
    "    val = int(input(\"enter an element to insert rear\"))\n",
    "    newnode = node(val)\n",
    "    "
   ]
  }
 ],
 "metadata": {
  "kernelspec": {
   "display_name": "Python 3",
   "language": "python",
   "name": "python3"
  },
  "language_info": {
   "codemirror_mode": {
    "name": "ipython",
    "version": 3
   },
   "file_extension": ".py",
   "mimetype": "text/x-python",
   "name": "python",
   "nbconvert_exporter": "python",
   "pygments_lexer": "ipython3",
   "version": "3.12.7"
  }
 },
 "nbformat": 4,
 "nbformat_minor": 2
}
