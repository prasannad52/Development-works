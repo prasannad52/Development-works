{
 "cells": [
  {
   "cell_type": "code",
   "execution_count": 1,
   "metadata": {},
   "outputs": [],
   "source": [
    "import pandas as pd\n",
    "import matplotlib.pyplot as plt\n",
    "import numpy as np"
   ]
  },
  {
   "cell_type": "code",
   "execution_count": null,
   "metadata": {},
   "outputs": [],
   "source": [
    "dataset = pd.read_csv(\"Churn_Modelling.csv\")#binary classification dataset"
   ]
  },
  {
   "cell_type": "code",
   "execution_count": 3,
   "metadata": {},
   "outputs": [
    {
     "data": {
      "application/vnd.microsoft.datawrangler.viewer.v0+json": {
       "columns": [
        {
         "name": "index",
         "rawType": "int64",
         "type": "integer"
        },
        {
         "name": "RowNumber",
         "rawType": "int64",
         "type": "integer"
        },
        {
         "name": "CustomerId",
         "rawType": "int64",
         "type": "integer"
        },
        {
         "name": "Surname",
         "rawType": "object",
         "type": "string"
        },
        {
         "name": "CreditScore",
         "rawType": "int64",
         "type": "integer"
        },
        {
         "name": "Geography",
         "rawType": "object",
         "type": "string"
        },
        {
         "name": "Gender",
         "rawType": "object",
         "type": "string"
        },
        {
         "name": "Age",
         "rawType": "int64",
         "type": "integer"
        },
        {
         "name": "Tenure",
         "rawType": "int64",
         "type": "integer"
        },
        {
         "name": "Balance",
         "rawType": "float64",
         "type": "float"
        },
        {
         "name": "NumOfProducts",
         "rawType": "int64",
         "type": "integer"
        },
        {
         "name": "HasCrCard",
         "rawType": "int64",
         "type": "integer"
        },
        {
         "name": "IsActiveMember",
         "rawType": "int64",
         "type": "integer"
        },
        {
         "name": "EstimatedSalary",
         "rawType": "float64",
         "type": "float"
        },
        {
         "name": "Exited",
         "rawType": "int64",
         "type": "integer"
        }
       ],
       "conversionMethod": "pd.DataFrame",
       "ref": "77998c5b-8f1f-40a5-9df3-d9c6060a2264",
       "rows": [
        [
         "0",
         "1",
         "15634602",
         "Hargrave",
         "619",
         "France",
         "Female",
         "42",
         "2",
         "0.0",
         "1",
         "1",
         "1",
         "101348.88",
         "1"
        ],
        [
         "1",
         "2",
         "15647311",
         "Hill",
         "608",
         "Spain",
         "Female",
         "41",
         "1",
         "83807.86",
         "1",
         "0",
         "1",
         "112542.58",
         "0"
        ],
        [
         "2",
         "3",
         "15619304",
         "Onio",
         "502",
         "France",
         "Female",
         "42",
         "8",
         "159660.8",
         "3",
         "1",
         "0",
         "113931.57",
         "1"
        ],
        [
         "3",
         "4",
         "15701354",
         "Boni",
         "699",
         "France",
         "Female",
         "39",
         "1",
         "0.0",
         "2",
         "0",
         "0",
         "93826.63",
         "0"
        ],
        [
         "4",
         "5",
         "15737888",
         "Mitchell",
         "850",
         "Spain",
         "Female",
         "43",
         "2",
         "125510.82",
         "1",
         "1",
         "1",
         "79084.1",
         "0"
        ]
       ],
       "shape": {
        "columns": 14,
        "rows": 5
       }
      },
      "text/html": [
       "<div>\n",
       "<style scoped>\n",
       "    .dataframe tbody tr th:only-of-type {\n",
       "        vertical-align: middle;\n",
       "    }\n",
       "\n",
       "    .dataframe tbody tr th {\n",
       "        vertical-align: top;\n",
       "    }\n",
       "\n",
       "    .dataframe thead th {\n",
       "        text-align: right;\n",
       "    }\n",
       "</style>\n",
       "<table border=\"1\" class=\"dataframe\">\n",
       "  <thead>\n",
       "    <tr style=\"text-align: right;\">\n",
       "      <th></th>\n",
       "      <th>RowNumber</th>\n",
       "      <th>CustomerId</th>\n",
       "      <th>Surname</th>\n",
       "      <th>CreditScore</th>\n",
       "      <th>Geography</th>\n",
       "      <th>Gender</th>\n",
       "      <th>Age</th>\n",
       "      <th>Tenure</th>\n",
       "      <th>Balance</th>\n",
       "      <th>NumOfProducts</th>\n",
       "      <th>HasCrCard</th>\n",
       "      <th>IsActiveMember</th>\n",
       "      <th>EstimatedSalary</th>\n",
       "      <th>Exited</th>\n",
       "    </tr>\n",
       "  </thead>\n",
       "  <tbody>\n",
       "    <tr>\n",
       "      <th>0</th>\n",
       "      <td>1</td>\n",
       "      <td>15634602</td>\n",
       "      <td>Hargrave</td>\n",
       "      <td>619</td>\n",
       "      <td>France</td>\n",
       "      <td>Female</td>\n",
       "      <td>42</td>\n",
       "      <td>2</td>\n",
       "      <td>0.00</td>\n",
       "      <td>1</td>\n",
       "      <td>1</td>\n",
       "      <td>1</td>\n",
       "      <td>101348.88</td>\n",
       "      <td>1</td>\n",
       "    </tr>\n",
       "    <tr>\n",
       "      <th>1</th>\n",
       "      <td>2</td>\n",
       "      <td>15647311</td>\n",
       "      <td>Hill</td>\n",
       "      <td>608</td>\n",
       "      <td>Spain</td>\n",
       "      <td>Female</td>\n",
       "      <td>41</td>\n",
       "      <td>1</td>\n",
       "      <td>83807.86</td>\n",
       "      <td>1</td>\n",
       "      <td>0</td>\n",
       "      <td>1</td>\n",
       "      <td>112542.58</td>\n",
       "      <td>0</td>\n",
       "    </tr>\n",
       "    <tr>\n",
       "      <th>2</th>\n",
       "      <td>3</td>\n",
       "      <td>15619304</td>\n",
       "      <td>Onio</td>\n",
       "      <td>502</td>\n",
       "      <td>France</td>\n",
       "      <td>Female</td>\n",
       "      <td>42</td>\n",
       "      <td>8</td>\n",
       "      <td>159660.80</td>\n",
       "      <td>3</td>\n",
       "      <td>1</td>\n",
       "      <td>0</td>\n",
       "      <td>113931.57</td>\n",
       "      <td>1</td>\n",
       "    </tr>\n",
       "    <tr>\n",
       "      <th>3</th>\n",
       "      <td>4</td>\n",
       "      <td>15701354</td>\n",
       "      <td>Boni</td>\n",
       "      <td>699</td>\n",
       "      <td>France</td>\n",
       "      <td>Female</td>\n",
       "      <td>39</td>\n",
       "      <td>1</td>\n",
       "      <td>0.00</td>\n",
       "      <td>2</td>\n",
       "      <td>0</td>\n",
       "      <td>0</td>\n",
       "      <td>93826.63</td>\n",
       "      <td>0</td>\n",
       "    </tr>\n",
       "    <tr>\n",
       "      <th>4</th>\n",
       "      <td>5</td>\n",
       "      <td>15737888</td>\n",
       "      <td>Mitchell</td>\n",
       "      <td>850</td>\n",
       "      <td>Spain</td>\n",
       "      <td>Female</td>\n",
       "      <td>43</td>\n",
       "      <td>2</td>\n",
       "      <td>125510.82</td>\n",
       "      <td>1</td>\n",
       "      <td>1</td>\n",
       "      <td>1</td>\n",
       "      <td>79084.10</td>\n",
       "      <td>0</td>\n",
       "    </tr>\n",
       "  </tbody>\n",
       "</table>\n",
       "</div>"
      ],
      "text/plain": [
       "   RowNumber  CustomerId   Surname  CreditScore Geography  Gender  Age  \\\n",
       "0          1    15634602  Hargrave          619    France  Female   42   \n",
       "1          2    15647311      Hill          608     Spain  Female   41   \n",
       "2          3    15619304      Onio          502    France  Female   42   \n",
       "3          4    15701354      Boni          699    France  Female   39   \n",
       "4          5    15737888  Mitchell          850     Spain  Female   43   \n",
       "\n",
       "   Tenure    Balance  NumOfProducts  HasCrCard  IsActiveMember  \\\n",
       "0       2       0.00              1          1               1   \n",
       "1       1   83807.86              1          0               1   \n",
       "2       8  159660.80              3          1               0   \n",
       "3       1       0.00              2          0               0   \n",
       "4       2  125510.82              1          1               1   \n",
       "\n",
       "   EstimatedSalary  Exited  \n",
       "0        101348.88       1  \n",
       "1        112542.58       0  \n",
       "2        113931.57       1  \n",
       "3         93826.63       0  \n",
       "4         79084.10       0  "
      ]
     },
     "execution_count": 3,
     "metadata": {},
     "output_type": "execute_result"
    }
   ],
   "source": [
    "dataset.head()"
   ]
  },
  {
   "cell_type": "code",
   "execution_count": 4,
   "metadata": {},
   "outputs": [
    {
     "data": {
      "text/plain": [
       "Index(['RowNumber', 'CustomerId', 'Surname', 'CreditScore', 'Geography',\n",
       "       'Gender', 'Age', 'Tenure', 'Balance', 'NumOfProducts', 'HasCrCard',\n",
       "       'IsActiveMember', 'EstimatedSalary', 'Exited'],\n",
       "      dtype='object')"
      ]
     },
     "execution_count": 4,
     "metadata": {},
     "output_type": "execute_result"
    }
   ],
   "source": [
    "dataset.columns"
   ]
  },
  {
   "cell_type": "code",
   "execution_count": 5,
   "metadata": {},
   "outputs": [
    {
     "name": "stdout",
     "output_type": "stream",
     "text": [
      "<class 'pandas.core.frame.DataFrame'>\n",
      "RangeIndex: 10000 entries, 0 to 9999\n",
      "Data columns (total 14 columns):\n",
      " #   Column           Non-Null Count  Dtype  \n",
      "---  ------           --------------  -----  \n",
      " 0   RowNumber        10000 non-null  int64  \n",
      " 1   CustomerId       10000 non-null  int64  \n",
      " 2   Surname          10000 non-null  object \n",
      " 3   CreditScore      10000 non-null  int64  \n",
      " 4   Geography        10000 non-null  object \n",
      " 5   Gender           10000 non-null  object \n",
      " 6   Age              10000 non-null  int64  \n",
      " 7   Tenure           10000 non-null  int64  \n",
      " 8   Balance          10000 non-null  float64\n",
      " 9   NumOfProducts    10000 non-null  int64  \n",
      " 10  HasCrCard        10000 non-null  int64  \n",
      " 11  IsActiveMember   10000 non-null  int64  \n",
      " 12  EstimatedSalary  10000 non-null  float64\n",
      " 13  Exited           10000 non-null  int64  \n",
      "dtypes: float64(2), int64(9), object(3)\n",
      "memory usage: 1.1+ MB\n"
     ]
    }
   ],
   "source": [
    "dataset.info()"
   ]
  },
  {
   "cell_type": "code",
   "execution_count": 6,
   "metadata": {},
   "outputs": [],
   "source": [
    "X = dataset.iloc[:,3:13]\n",
    "y = dataset.iloc[:,13:]"
   ]
  },
  {
   "cell_type": "code",
   "execution_count": 7,
   "metadata": {},
   "outputs": [
    {
     "data": {
      "application/vnd.microsoft.datawrangler.viewer.v0+json": {
       "columns": [
        {
         "name": "index",
         "rawType": "int64",
         "type": "integer"
        },
        {
         "name": "CreditScore",
         "rawType": "int64",
         "type": "integer"
        },
        {
         "name": "Geography",
         "rawType": "object",
         "type": "string"
        },
        {
         "name": "Gender",
         "rawType": "object",
         "type": "string"
        },
        {
         "name": "Age",
         "rawType": "int64",
         "type": "integer"
        },
        {
         "name": "Tenure",
         "rawType": "int64",
         "type": "integer"
        },
        {
         "name": "Balance",
         "rawType": "float64",
         "type": "float"
        },
        {
         "name": "NumOfProducts",
         "rawType": "int64",
         "type": "integer"
        },
        {
         "name": "HasCrCard",
         "rawType": "int64",
         "type": "integer"
        },
        {
         "name": "IsActiveMember",
         "rawType": "int64",
         "type": "integer"
        },
        {
         "name": "EstimatedSalary",
         "rawType": "float64",
         "type": "float"
        }
       ],
       "conversionMethod": "pd.DataFrame",
       "ref": "72ef08a6-8d8b-46ab-b2bf-9e350cd0870f",
       "rows": [
        [
         "0",
         "619",
         "France",
         "Female",
         "42",
         "2",
         "0.0",
         "1",
         "1",
         "1",
         "101348.88"
        ],
        [
         "1",
         "608",
         "Spain",
         "Female",
         "41",
         "1",
         "83807.86",
         "1",
         "0",
         "1",
         "112542.58"
        ],
        [
         "2",
         "502",
         "France",
         "Female",
         "42",
         "8",
         "159660.8",
         "3",
         "1",
         "0",
         "113931.57"
        ],
        [
         "3",
         "699",
         "France",
         "Female",
         "39",
         "1",
         "0.0",
         "2",
         "0",
         "0",
         "93826.63"
        ],
        [
         "4",
         "850",
         "Spain",
         "Female",
         "43",
         "2",
         "125510.82",
         "1",
         "1",
         "1",
         "79084.1"
        ]
       ],
       "shape": {
        "columns": 10,
        "rows": 5
       }
      },
      "text/html": [
       "<div>\n",
       "<style scoped>\n",
       "    .dataframe tbody tr th:only-of-type {\n",
       "        vertical-align: middle;\n",
       "    }\n",
       "\n",
       "    .dataframe tbody tr th {\n",
       "        vertical-align: top;\n",
       "    }\n",
       "\n",
       "    .dataframe thead th {\n",
       "        text-align: right;\n",
       "    }\n",
       "</style>\n",
       "<table border=\"1\" class=\"dataframe\">\n",
       "  <thead>\n",
       "    <tr style=\"text-align: right;\">\n",
       "      <th></th>\n",
       "      <th>CreditScore</th>\n",
       "      <th>Geography</th>\n",
       "      <th>Gender</th>\n",
       "      <th>Age</th>\n",
       "      <th>Tenure</th>\n",
       "      <th>Balance</th>\n",
       "      <th>NumOfProducts</th>\n",
       "      <th>HasCrCard</th>\n",
       "      <th>IsActiveMember</th>\n",
       "      <th>EstimatedSalary</th>\n",
       "    </tr>\n",
       "  </thead>\n",
       "  <tbody>\n",
       "    <tr>\n",
       "      <th>0</th>\n",
       "      <td>619</td>\n",
       "      <td>France</td>\n",
       "      <td>Female</td>\n",
       "      <td>42</td>\n",
       "      <td>2</td>\n",
       "      <td>0.00</td>\n",
       "      <td>1</td>\n",
       "      <td>1</td>\n",
       "      <td>1</td>\n",
       "      <td>101348.88</td>\n",
       "    </tr>\n",
       "    <tr>\n",
       "      <th>1</th>\n",
       "      <td>608</td>\n",
       "      <td>Spain</td>\n",
       "      <td>Female</td>\n",
       "      <td>41</td>\n",
       "      <td>1</td>\n",
       "      <td>83807.86</td>\n",
       "      <td>1</td>\n",
       "      <td>0</td>\n",
       "      <td>1</td>\n",
       "      <td>112542.58</td>\n",
       "    </tr>\n",
       "    <tr>\n",
       "      <th>2</th>\n",
       "      <td>502</td>\n",
       "      <td>France</td>\n",
       "      <td>Female</td>\n",
       "      <td>42</td>\n",
       "      <td>8</td>\n",
       "      <td>159660.80</td>\n",
       "      <td>3</td>\n",
       "      <td>1</td>\n",
       "      <td>0</td>\n",
       "      <td>113931.57</td>\n",
       "    </tr>\n",
       "    <tr>\n",
       "      <th>3</th>\n",
       "      <td>699</td>\n",
       "      <td>France</td>\n",
       "      <td>Female</td>\n",
       "      <td>39</td>\n",
       "      <td>1</td>\n",
       "      <td>0.00</td>\n",
       "      <td>2</td>\n",
       "      <td>0</td>\n",
       "      <td>0</td>\n",
       "      <td>93826.63</td>\n",
       "    </tr>\n",
       "    <tr>\n",
       "      <th>4</th>\n",
       "      <td>850</td>\n",
       "      <td>Spain</td>\n",
       "      <td>Female</td>\n",
       "      <td>43</td>\n",
       "      <td>2</td>\n",
       "      <td>125510.82</td>\n",
       "      <td>1</td>\n",
       "      <td>1</td>\n",
       "      <td>1</td>\n",
       "      <td>79084.10</td>\n",
       "    </tr>\n",
       "  </tbody>\n",
       "</table>\n",
       "</div>"
      ],
      "text/plain": [
       "   CreditScore Geography  Gender  Age  Tenure    Balance  NumOfProducts  \\\n",
       "0          619    France  Female   42       2       0.00              1   \n",
       "1          608     Spain  Female   41       1   83807.86              1   \n",
       "2          502    France  Female   42       8  159660.80              3   \n",
       "3          699    France  Female   39       1       0.00              2   \n",
       "4          850     Spain  Female   43       2  125510.82              1   \n",
       "\n",
       "   HasCrCard  IsActiveMember  EstimatedSalary  \n",
       "0          1               1        101348.88  \n",
       "1          0               1        112542.58  \n",
       "2          1               0        113931.57  \n",
       "3          0               0         93826.63  \n",
       "4          1               1         79084.10  "
      ]
     },
     "execution_count": 7,
     "metadata": {},
     "output_type": "execute_result"
    }
   ],
   "source": [
    "X.head()"
   ]
  },
  {
   "cell_type": "code",
   "execution_count": 8,
   "metadata": {},
   "outputs": [
    {
     "data": {
      "application/vnd.microsoft.datawrangler.viewer.v0+json": {
       "columns": [
        {
         "name": "index",
         "rawType": "int64",
         "type": "integer"
        },
        {
         "name": "Exited",
         "rawType": "int64",
         "type": "integer"
        }
       ],
       "conversionMethod": "pd.DataFrame",
       "ref": "41681e69-b758-4602-90ac-79d632bfa4e3",
       "rows": [
        [
         "0",
         "1"
        ],
        [
         "1",
         "0"
        ],
        [
         "2",
         "1"
        ],
        [
         "3",
         "0"
        ],
        [
         "4",
         "0"
        ]
       ],
       "shape": {
        "columns": 1,
        "rows": 5
       }
      },
      "text/html": [
       "<div>\n",
       "<style scoped>\n",
       "    .dataframe tbody tr th:only-of-type {\n",
       "        vertical-align: middle;\n",
       "    }\n",
       "\n",
       "    .dataframe tbody tr th {\n",
       "        vertical-align: top;\n",
       "    }\n",
       "\n",
       "    .dataframe thead th {\n",
       "        text-align: right;\n",
       "    }\n",
       "</style>\n",
       "<table border=\"1\" class=\"dataframe\">\n",
       "  <thead>\n",
       "    <tr style=\"text-align: right;\">\n",
       "      <th></th>\n",
       "      <th>Exited</th>\n",
       "    </tr>\n",
       "  </thead>\n",
       "  <tbody>\n",
       "    <tr>\n",
       "      <th>0</th>\n",
       "      <td>1</td>\n",
       "    </tr>\n",
       "    <tr>\n",
       "      <th>1</th>\n",
       "      <td>0</td>\n",
       "    </tr>\n",
       "    <tr>\n",
       "      <th>2</th>\n",
       "      <td>1</td>\n",
       "    </tr>\n",
       "    <tr>\n",
       "      <th>3</th>\n",
       "      <td>0</td>\n",
       "    </tr>\n",
       "    <tr>\n",
       "      <th>4</th>\n",
       "      <td>0</td>\n",
       "    </tr>\n",
       "  </tbody>\n",
       "</table>\n",
       "</div>"
      ],
      "text/plain": [
       "   Exited\n",
       "0       1\n",
       "1       0\n",
       "2       1\n",
       "3       0\n",
       "4       0"
      ]
     },
     "execution_count": 8,
     "metadata": {},
     "output_type": "execute_result"
    }
   ],
   "source": [
    "y.head()"
   ]
  },
  {
   "cell_type": "code",
   "execution_count": 20,
   "metadata": {},
   "outputs": [],
   "source": [
    "# feature engineering\n",
    "geography = pd.get_dummies(X['Geography'],drop_first=True)\n",
    "gender = pd.get_dummies(X['Gender'],drop_first=True)"
   ]
  },
  {
   "cell_type": "code",
   "execution_count": 22,
   "metadata": {},
   "outputs": [],
   "source": [
    "# concatinate both columns to the dataset\n",
    "X = X.drop(['Geography','Gender'],axis=1)"
   ]
  },
  {
   "cell_type": "code",
   "execution_count": 23,
   "metadata": {},
   "outputs": [
    {
     "data": {
      "application/vnd.microsoft.datawrangler.viewer.v0+json": {
       "columns": [
        {
         "name": "index",
         "rawType": "int64",
         "type": "integer"
        },
        {
         "name": "CreditScore",
         "rawType": "int64",
         "type": "integer"
        },
        {
         "name": "Age",
         "rawType": "int64",
         "type": "integer"
        },
        {
         "name": "Tenure",
         "rawType": "int64",
         "type": "integer"
        },
        {
         "name": "Balance",
         "rawType": "float64",
         "type": "float"
        },
        {
         "name": "NumOfProducts",
         "rawType": "int64",
         "type": "integer"
        },
        {
         "name": "HasCrCard",
         "rawType": "int64",
         "type": "integer"
        },
        {
         "name": "IsActiveMember",
         "rawType": "int64",
         "type": "integer"
        },
        {
         "name": "EstimatedSalary",
         "rawType": "float64",
         "type": "float"
        }
       ],
       "conversionMethod": "pd.DataFrame",
       "ref": "4a983294-82a1-4d42-97b1-6ca4718a3d64",
       "rows": [
        [
         "0",
         "619",
         "42",
         "2",
         "0.0",
         "1",
         "1",
         "1",
         "101348.88"
        ],
        [
         "1",
         "608",
         "41",
         "1",
         "83807.86",
         "1",
         "0",
         "1",
         "112542.58"
        ],
        [
         "2",
         "502",
         "42",
         "8",
         "159660.8",
         "3",
         "1",
         "0",
         "113931.57"
        ],
        [
         "3",
         "699",
         "39",
         "1",
         "0.0",
         "2",
         "0",
         "0",
         "93826.63"
        ],
        [
         "4",
         "850",
         "43",
         "2",
         "125510.82",
         "1",
         "1",
         "1",
         "79084.1"
        ]
       ],
       "shape": {
        "columns": 8,
        "rows": 5
       }
      },
      "text/html": [
       "<div>\n",
       "<style scoped>\n",
       "    .dataframe tbody tr th:only-of-type {\n",
       "        vertical-align: middle;\n",
       "    }\n",
       "\n",
       "    .dataframe tbody tr th {\n",
       "        vertical-align: top;\n",
       "    }\n",
       "\n",
       "    .dataframe thead th {\n",
       "        text-align: right;\n",
       "    }\n",
       "</style>\n",
       "<table border=\"1\" class=\"dataframe\">\n",
       "  <thead>\n",
       "    <tr style=\"text-align: right;\">\n",
       "      <th></th>\n",
       "      <th>CreditScore</th>\n",
       "      <th>Age</th>\n",
       "      <th>Tenure</th>\n",
       "      <th>Balance</th>\n",
       "      <th>NumOfProducts</th>\n",
       "      <th>HasCrCard</th>\n",
       "      <th>IsActiveMember</th>\n",
       "      <th>EstimatedSalary</th>\n",
       "    </tr>\n",
       "  </thead>\n",
       "  <tbody>\n",
       "    <tr>\n",
       "      <th>0</th>\n",
       "      <td>619</td>\n",
       "      <td>42</td>\n",
       "      <td>2</td>\n",
       "      <td>0.00</td>\n",
       "      <td>1</td>\n",
       "      <td>1</td>\n",
       "      <td>1</td>\n",
       "      <td>101348.88</td>\n",
       "    </tr>\n",
       "    <tr>\n",
       "      <th>1</th>\n",
       "      <td>608</td>\n",
       "      <td>41</td>\n",
       "      <td>1</td>\n",
       "      <td>83807.86</td>\n",
       "      <td>1</td>\n",
       "      <td>0</td>\n",
       "      <td>1</td>\n",
       "      <td>112542.58</td>\n",
       "    </tr>\n",
       "    <tr>\n",
       "      <th>2</th>\n",
       "      <td>502</td>\n",
       "      <td>42</td>\n",
       "      <td>8</td>\n",
       "      <td>159660.80</td>\n",
       "      <td>3</td>\n",
       "      <td>1</td>\n",
       "      <td>0</td>\n",
       "      <td>113931.57</td>\n",
       "    </tr>\n",
       "    <tr>\n",
       "      <th>3</th>\n",
       "      <td>699</td>\n",
       "      <td>39</td>\n",
       "      <td>1</td>\n",
       "      <td>0.00</td>\n",
       "      <td>2</td>\n",
       "      <td>0</td>\n",
       "      <td>0</td>\n",
       "      <td>93826.63</td>\n",
       "    </tr>\n",
       "    <tr>\n",
       "      <th>4</th>\n",
       "      <td>850</td>\n",
       "      <td>43</td>\n",
       "      <td>2</td>\n",
       "      <td>125510.82</td>\n",
       "      <td>1</td>\n",
       "      <td>1</td>\n",
       "      <td>1</td>\n",
       "      <td>79084.10</td>\n",
       "    </tr>\n",
       "  </tbody>\n",
       "</table>\n",
       "</div>"
      ],
      "text/plain": [
       "   CreditScore  Age  Tenure    Balance  NumOfProducts  HasCrCard  \\\n",
       "0          619   42       2       0.00              1          1   \n",
       "1          608   41       1   83807.86              1          0   \n",
       "2          502   42       8  159660.80              3          1   \n",
       "3          699   39       1       0.00              2          0   \n",
       "4          850   43       2  125510.82              1          1   \n",
       "\n",
       "   IsActiveMember  EstimatedSalary  \n",
       "0               1        101348.88  \n",
       "1               1        112542.58  \n",
       "2               0        113931.57  \n",
       "3               0         93826.63  \n",
       "4               1         79084.10  "
      ]
     },
     "execution_count": 23,
     "metadata": {},
     "output_type": "execute_result"
    }
   ],
   "source": [
    "X.head()"
   ]
  },
  {
   "cell_type": "code",
   "execution_count": 29,
   "metadata": {},
   "outputs": [],
   "source": [
    "X = pd.concat([X,geography,gender],axis=1)"
   ]
  },
  {
   "cell_type": "code",
   "execution_count": 30,
   "metadata": {},
   "outputs": [
    {
     "data": {
      "application/vnd.microsoft.datawrangler.viewer.v0+json": {
       "columns": [
        {
         "name": "index",
         "rawType": "int64",
         "type": "integer"
        },
        {
         "name": "CreditScore",
         "rawType": "int64",
         "type": "integer"
        },
        {
         "name": "Age",
         "rawType": "int64",
         "type": "integer"
        },
        {
         "name": "Tenure",
         "rawType": "int64",
         "type": "integer"
        },
        {
         "name": "Balance",
         "rawType": "float64",
         "type": "float"
        },
        {
         "name": "NumOfProducts",
         "rawType": "int64",
         "type": "integer"
        },
        {
         "name": "HasCrCard",
         "rawType": "int64",
         "type": "integer"
        },
        {
         "name": "IsActiveMember",
         "rawType": "int64",
         "type": "integer"
        },
        {
         "name": "EstimatedSalary",
         "rawType": "float64",
         "type": "float"
        },
        {
         "name": "Germany",
         "rawType": "bool",
         "type": "boolean"
        },
        {
         "name": "Spain",
         "rawType": "bool",
         "type": "boolean"
        },
        {
         "name": "Male",
         "rawType": "bool",
         "type": "boolean"
        }
       ],
       "conversionMethod": "pd.DataFrame",
       "ref": "07c3a989-062a-4a58-8126-aba388332d5a",
       "rows": [
        [
         "0",
         "619",
         "42",
         "2",
         "0.0",
         "1",
         "1",
         "1",
         "101348.88",
         "False",
         "False",
         "False"
        ],
        [
         "1",
         "608",
         "41",
         "1",
         "83807.86",
         "1",
         "0",
         "1",
         "112542.58",
         "False",
         "True",
         "False"
        ],
        [
         "2",
         "502",
         "42",
         "8",
         "159660.8",
         "3",
         "1",
         "0",
         "113931.57",
         "False",
         "False",
         "False"
        ],
        [
         "3",
         "699",
         "39",
         "1",
         "0.0",
         "2",
         "0",
         "0",
         "93826.63",
         "False",
         "False",
         "False"
        ],
        [
         "4",
         "850",
         "43",
         "2",
         "125510.82",
         "1",
         "1",
         "1",
         "79084.1",
         "False",
         "True",
         "False"
        ]
       ],
       "shape": {
        "columns": 11,
        "rows": 5
       }
      },
      "text/html": [
       "<div>\n",
       "<style scoped>\n",
       "    .dataframe tbody tr th:only-of-type {\n",
       "        vertical-align: middle;\n",
       "    }\n",
       "\n",
       "    .dataframe tbody tr th {\n",
       "        vertical-align: top;\n",
       "    }\n",
       "\n",
       "    .dataframe thead th {\n",
       "        text-align: right;\n",
       "    }\n",
       "</style>\n",
       "<table border=\"1\" class=\"dataframe\">\n",
       "  <thead>\n",
       "    <tr style=\"text-align: right;\">\n",
       "      <th></th>\n",
       "      <th>CreditScore</th>\n",
       "      <th>Age</th>\n",
       "      <th>Tenure</th>\n",
       "      <th>Balance</th>\n",
       "      <th>NumOfProducts</th>\n",
       "      <th>HasCrCard</th>\n",
       "      <th>IsActiveMember</th>\n",
       "      <th>EstimatedSalary</th>\n",
       "      <th>Germany</th>\n",
       "      <th>Spain</th>\n",
       "      <th>Male</th>\n",
       "    </tr>\n",
       "  </thead>\n",
       "  <tbody>\n",
       "    <tr>\n",
       "      <th>0</th>\n",
       "      <td>619</td>\n",
       "      <td>42</td>\n",
       "      <td>2</td>\n",
       "      <td>0.00</td>\n",
       "      <td>1</td>\n",
       "      <td>1</td>\n",
       "      <td>1</td>\n",
       "      <td>101348.88</td>\n",
       "      <td>False</td>\n",
       "      <td>False</td>\n",
       "      <td>False</td>\n",
       "    </tr>\n",
       "    <tr>\n",
       "      <th>1</th>\n",
       "      <td>608</td>\n",
       "      <td>41</td>\n",
       "      <td>1</td>\n",
       "      <td>83807.86</td>\n",
       "      <td>1</td>\n",
       "      <td>0</td>\n",
       "      <td>1</td>\n",
       "      <td>112542.58</td>\n",
       "      <td>False</td>\n",
       "      <td>True</td>\n",
       "      <td>False</td>\n",
       "    </tr>\n",
       "    <tr>\n",
       "      <th>2</th>\n",
       "      <td>502</td>\n",
       "      <td>42</td>\n",
       "      <td>8</td>\n",
       "      <td>159660.80</td>\n",
       "      <td>3</td>\n",
       "      <td>1</td>\n",
       "      <td>0</td>\n",
       "      <td>113931.57</td>\n",
       "      <td>False</td>\n",
       "      <td>False</td>\n",
       "      <td>False</td>\n",
       "    </tr>\n",
       "    <tr>\n",
       "      <th>3</th>\n",
       "      <td>699</td>\n",
       "      <td>39</td>\n",
       "      <td>1</td>\n",
       "      <td>0.00</td>\n",
       "      <td>2</td>\n",
       "      <td>0</td>\n",
       "      <td>0</td>\n",
       "      <td>93826.63</td>\n",
       "      <td>False</td>\n",
       "      <td>False</td>\n",
       "      <td>False</td>\n",
       "    </tr>\n",
       "    <tr>\n",
       "      <th>4</th>\n",
       "      <td>850</td>\n",
       "      <td>43</td>\n",
       "      <td>2</td>\n",
       "      <td>125510.82</td>\n",
       "      <td>1</td>\n",
       "      <td>1</td>\n",
       "      <td>1</td>\n",
       "      <td>79084.10</td>\n",
       "      <td>False</td>\n",
       "      <td>True</td>\n",
       "      <td>False</td>\n",
       "    </tr>\n",
       "  </tbody>\n",
       "</table>\n",
       "</div>"
      ],
      "text/plain": [
       "   CreditScore  Age  Tenure    Balance  NumOfProducts  HasCrCard  \\\n",
       "0          619   42       2       0.00              1          1   \n",
       "1          608   41       1   83807.86              1          0   \n",
       "2          502   42       8  159660.80              3          1   \n",
       "3          699   39       1       0.00              2          0   \n",
       "4          850   43       2  125510.82              1          1   \n",
       "\n",
       "   IsActiveMember  EstimatedSalary  Germany  Spain   Male  \n",
       "0               1        101348.88    False  False  False  \n",
       "1               1        112542.58    False   True  False  \n",
       "2               0        113931.57    False  False  False  \n",
       "3               0         93826.63    False  False  False  \n",
       "4               1         79084.10    False   True  False  "
      ]
     },
     "execution_count": 30,
     "metadata": {},
     "output_type": "execute_result"
    }
   ],
   "source": [
    "X.head()"
   ]
  },
  {
   "cell_type": "code",
   "execution_count": 37,
   "metadata": {},
   "outputs": [
    {
     "name": "stdout",
     "output_type": "stream",
     "text": [
      "<class 'pandas.core.frame.DataFrame'>\n",
      "RangeIndex: 10000 entries, 0 to 9999\n",
      "Data columns (total 11 columns):\n",
      " #   Column           Non-Null Count  Dtype  \n",
      "---  ------           --------------  -----  \n",
      " 0   CreditScore      10000 non-null  int64  \n",
      " 1   Age              10000 non-null  int64  \n",
      " 2   Tenure           10000 non-null  int64  \n",
      " 3   Balance          10000 non-null  float64\n",
      " 4   NumOfProducts    10000 non-null  int64  \n",
      " 5   HasCrCard        10000 non-null  int64  \n",
      " 6   IsActiveMember   10000 non-null  int64  \n",
      " 7   EstimatedSalary  10000 non-null  float64\n",
      " 8   Germany          10000 non-null  bool   \n",
      " 9   Spain            10000 non-null  bool   \n",
      " 10  Male             10000 non-null  bool   \n",
      "dtypes: bool(3), float64(2), int64(6)\n",
      "memory usage: 654.4 KB\n"
     ]
    }
   ],
   "source": [
    "X.info()"
   ]
  },
  {
   "cell_type": "code",
   "execution_count": 38,
   "metadata": {},
   "outputs": [],
   "source": [
    "# Splitting the dataset into training and testing datset\n",
    "from sklearn.model_selection import train_test_split\n",
    "X_train,X_test,y_train,y_test = train_test_split(X,y,test_size=0.2,random_state=0)"
   ]
  },
  {
   "cell_type": "code",
   "execution_count": 35,
   "metadata": {},
   "outputs": [
    {
     "name": "stdout",
     "output_type": "stream",
     "text": [
      "Collecting scikit-learn\n",
      "  Downloading scikit_learn-1.6.1-cp311-cp311-win_amd64.whl.metadata (15 kB)\n",
      "Requirement already satisfied: numpy>=1.19.5 in c:\\users\\prasanna dindi\\onedrive\\desktop\\udemy course\\.venv\\lib\\site-packages (from scikit-learn) (2.1.3)\n",
      "Requirement already satisfied: scipy>=1.6.0 in c:\\users\\prasanna dindi\\onedrive\\desktop\\udemy course\\.venv\\lib\\site-packages (from scikit-learn) (1.14.1)\n",
      "Collecting joblib>=1.2.0 (from scikit-learn)\n",
      "  Using cached joblib-1.4.2-py3-none-any.whl.metadata (5.4 kB)\n",
      "Collecting threadpoolctl>=3.1.0 (from scikit-learn)\n",
      "  Downloading threadpoolctl-3.6.0-py3-none-any.whl.metadata (13 kB)\n",
      "Downloading scikit_learn-1.6.1-cp311-cp311-win_amd64.whl (11.1 MB)\n",
      "   ---------------------------------------- 0.0/11.1 MB ? eta -:--:--\n",
      "   -------------- ------------------------- 3.9/11.1 MB 21.3 MB/s eta 0:00:01\n",
      "   --------------------------------- ------ 9.4/11.1 MB 23.5 MB/s eta 0:00:01\n",
      "   ---------------------------------------- 11.1/11.1 MB 22.5 MB/s eta 0:00:00\n",
      "Using cached joblib-1.4.2-py3-none-any.whl (301 kB)\n",
      "Downloading threadpoolctl-3.6.0-py3-none-any.whl (18 kB)\n",
      "Installing collected packages: threadpoolctl, joblib, scikit-learn\n",
      "  Attempting uninstall: joblib\n",
      "    Found existing installation: joblib 1.1.1\n",
      "    Uninstalling joblib-1.1.1:\n",
      "      Successfully uninstalled joblib-1.1.1\n",
      "Successfully installed joblib-1.4.2 scikit-learn-1.6.1 threadpoolctl-3.6.0\n",
      "Note: you may need to restart the kernel to use updated packages.\n"
     ]
    },
    {
     "name": "stderr",
     "output_type": "stream",
     "text": [
      "ERROR: pip's dependency resolver does not currently take into account all the packages that are installed. This behaviour is the source of the following dependency conflicts.\n",
      "pandas-profiling 3.2.0 requires joblib~=1.1.0, but you have joblib 1.4.2 which is incompatible.\n"
     ]
    }
   ],
   "source": [
    "%pip install scikit-learn"
   ]
  },
  {
   "cell_type": "code",
   "execution_count": 40,
   "metadata": {},
   "outputs": [],
   "source": [
    "# feature scaling\n",
    "\n",
    "from sklearn.preprocessing import StandardScaler\n",
    "sc = StandardScaler()\n",
    "X_train = sc.fit_transform(X_train)\n",
    "X_test = sc.fit_transform(X_test)\n"
   ]
  },
  {
   "cell_type": "code",
   "execution_count": 41,
   "metadata": {},
   "outputs": [
    {
     "data": {
      "text/plain": [
       "array([[ 0.16958176, -0.46460796,  0.00666099, ..., -0.5698444 ,\n",
       "         1.74309049, -1.09168714],\n",
       "       [-2.30455945,  0.30102557, -1.37744033, ...,  1.75486502,\n",
       "        -0.57369368,  0.91601335],\n",
       "       [-1.19119591, -0.94312892, -1.031415  , ..., -0.5698444 ,\n",
       "        -0.57369368, -1.09168714],\n",
       "       ...,\n",
       "       [ 0.9015152 , -0.36890377,  0.00666099, ..., -0.5698444 ,\n",
       "        -0.57369368,  0.91601335],\n",
       "       [-0.62420521, -0.08179119,  1.39076231, ..., -0.5698444 ,\n",
       "         1.74309049, -1.09168714],\n",
       "       [-0.28401079,  0.87525072, -1.37744033, ...,  1.75486502,\n",
       "        -0.57369368, -1.09168714]])"
      ]
     },
     "execution_count": 41,
     "metadata": {},
     "output_type": "execute_result"
    }
   ],
   "source": [
    "X_train"
   ]
  },
  {
   "cell_type": "code",
   "execution_count": 42,
   "metadata": {},
   "outputs": [
    {
     "data": {
      "text/plain": [
       "array([[-0.56129438, -0.39401698,  0.9869706 , ...,  1.62776996,\n",
       "        -0.57427105, -1.11339196],\n",
       "       [-1.33847768,  0.07611425, -1.08432132, ..., -0.61433742,\n",
       "        -0.57427105, -1.11339196],\n",
       "       [ 0.58347561,  0.26416674,  0.9869706 , ..., -0.61433742,\n",
       "         1.74133801, -1.11339196],\n",
       "       ...,\n",
       "       [-0.76084144, -0.29999074, -1.42953664, ..., -0.61433742,\n",
       "         1.74133801,  0.8981563 ],\n",
       "       [-0.0046631 , -0.48804323, -0.39389068, ...,  1.62776996,\n",
       "        -0.57427105,  0.8981563 ],\n",
       "       [-0.81335383, -0.86414821,  0.9869706 , ...,  1.62776996,\n",
       "        -0.57427105,  0.8981563 ]])"
      ]
     },
     "execution_count": 42,
     "metadata": {},
     "output_type": "execute_result"
    }
   ],
   "source": [
    "X_test"
   ]
  },
  {
   "cell_type": "code",
   "execution_count": 44,
   "metadata": {},
   "outputs": [
    {
     "name": "stdout",
     "output_type": "stream",
     "text": [
      "Note: you may need to restart the kernel to use updated packages.Collecting tensorflow\n",
      "  Downloading tensorflow-2.19.0-cp311-cp311-win_amd64.whl.metadata (4.1 kB)\n",
      "Collecting absl-py>=1.0.0 (from tensorflow)\n",
      "  Downloading absl_py-2.2.1-py3-none-any.whl.metadata (2.4 kB)\n",
      "Collecting astunparse>=1.6.0 (from tensorflow)\n",
      "  Using cached astunparse-1.6.3-py2.py3-none-any.whl.metadata (4.4 kB)\n",
      "Collecting flatbuffers>=24.3.25 (from tensorflow)\n",
      "  Downloading flatbuffers-25.2.10-py2.py3-none-any.whl.metadata (875 bytes)\n",
      "Collecting gast!=0.5.0,!=0.5.1,!=0.5.2,>=0.2.1 (from tensorflow)\n",
      "  Using cached gast-0.6.0-py3-none-any.whl.metadata (1.3 kB)\n",
      "Collecting google-pasta>=0.1.1 (from tensorflow)\n",
      "  Using cached google_pasta-0.2.0-py3-none-any.whl.metadata (814 bytes)\n",
      "Collecting libclang>=13.0.0 (from tensorflow)\n",
      "  Using cached libclang-18.1.1-py2.py3-none-win_amd64.whl.metadata (5.3 kB)\n",
      "Collecting opt-einsum>=2.3.2 (from tensorflow)\n",
      "  Using cached opt_einsum-3.4.0-py3-none-any.whl.metadata (6.3 kB)\n",
      "Requirement already satisfied: packaging in c:\\users\\prasanna dindi\\onedrive\\desktop\\udemy course\\.venv\\lib\\site-packages (from tensorflow) (24.2)\n",
      "Collecting protobuf!=4.21.0,!=4.21.1,!=4.21.2,!=4.21.3,!=4.21.4,!=4.21.5,<6.0.0dev,>=3.20.3 (from tensorflow)\n",
      "  Downloading protobuf-5.29.4-cp310-abi3-win_amd64.whl.metadata (592 bytes)\n",
      "Requirement already satisfied: requests<3,>=2.21.0 in c:\\users\\prasanna dindi\\onedrive\\desktop\\udemy course\\.venv\\lib\\site-packages (from tensorflow) (2.32.3)\n",
      "Requirement already satisfied: setuptools in c:\\users\\prasanna dindi\\onedrive\\desktop\\udemy course\\.venv\\lib\\site-packages (from tensorflow) (65.5.0)\n",
      "Requirement already satisfied: six>=1.12.0 in c:\\users\\prasanna dindi\\onedrive\\desktop\\udemy course\\.venv\\lib\\site-packages (from tensorflow) (1.16.0)\n",
      "Collecting termcolor>=1.1.0 (from tensorflow)\n",
      "  Downloading termcolor-3.0.0-py3-none-any.whl.metadata (6.1 kB)\n",
      "Requirement already satisfied: typing-extensions>=3.6.6 in c:\\users\\prasanna dindi\\onedrive\\desktop\\udemy course\\.venv\\lib\\site-packages (from tensorflow) (4.12.2)\n",
      "Collecting wrapt>=1.11.0 (from tensorflow)\n",
      "  Downloading wrapt-1.17.2-cp311-cp311-win_amd64.whl.metadata (6.5 kB)\n",
      "Collecting grpcio<2.0,>=1.24.3 (from tensorflow)\n",
      "  Downloading grpcio-1.71.0-cp311-cp311-win_amd64.whl.metadata (4.0 kB)\n",
      "Collecting tensorboard~=2.19.0 (from tensorflow)\n",
      "  Downloading tensorboard-2.19.0-py3-none-any.whl.metadata (1.8 kB)\n",
      "Collecting keras>=3.5.0 (from tensorflow)\n",
      "  Downloading keras-3.9.1-py3-none-any.whl.metadata (6.1 kB)\n",
      "Requirement already satisfied: numpy<2.2.0,>=1.26.0 in c:\\users\\prasanna dindi\\onedrive\\desktop\\udemy course\\.venv\\lib\\site-packages (from tensorflow) (2.1.3)\n",
      "Collecting h5py>=3.11.0 (from tensorflow)\n",
      "  Downloading h5py-3.13.0-cp311-cp311-win_amd64.whl.metadata (2.5 kB)\n",
      "Collecting ml-dtypes<1.0.0,>=0.5.1 (from tensorflow)\n",
      "  Downloading ml_dtypes-0.5.1-cp311-cp311-win_amd64.whl.metadata (22 kB)\n",
      "Collecting tensorflow-io-gcs-filesystem>=0.23.1 (from tensorflow)\n",
      "  Using cached tensorflow_io_gcs_filesystem-0.31.0-cp311-cp311-win_amd64.whl.metadata (14 kB)\n",
      "Collecting wheel<1.0,>=0.23.0 (from astunparse>=1.6.0->tensorflow)\n",
      "  Using cached wheel-0.45.1-py3-none-any.whl.metadata (2.3 kB)\n",
      "Collecting rich (from keras>=3.5.0->tensorflow)\n",
      "  Downloading rich-14.0.0-py3-none-any.whl.metadata (18 kB)\n",
      "Collecting namex (from keras>=3.5.0->tensorflow)\n",
      "  Using cached namex-0.0.8-py3-none-any.whl.metadata (246 bytes)\n",
      "Collecting optree (from keras>=3.5.0->tensorflow)\n",
      "  Downloading optree-0.14.1-cp311-cp311-win_amd64.whl.metadata (50 kB)\n",
      "Requirement already satisfied: charset-normalizer<4,>=2 in c:\\users\\prasanna dindi\\onedrive\\desktop\\udemy course\\.venv\\lib\\site-packages (from requests<3,>=2.21.0->tensorflow) (3.4.0)\n",
      "Requirement already satisfied: idna<4,>=2.5 in c:\\users\\prasanna dindi\\onedrive\\desktop\\udemy course\\.venv\\lib\\site-packages (from requests<3,>=2.21.0->tensorflow) (3.10)\n",
      "Requirement already satisfied: urllib3<3,>=1.21.1 in c:\\users\\prasanna dindi\\onedrive\\desktop\\udemy course\\.venv\\lib\\site-packages (from requests<3,>=2.21.0->tensorflow) (2.2.3)\n",
      "Requirement already satisfied: certifi>=2017.4.17 in c:\\users\\prasanna dindi\\onedrive\\desktop\\udemy course\\.venv\\lib\\site-packages (from requests<3,>=2.21.0->tensorflow) (2024.8.30)\n",
      "Collecting markdown>=2.6.8 (from tensorboard~=2.19.0->tensorflow)\n",
      "  Using cached Markdown-3.7-py3-none-any.whl.metadata (7.0 kB)\n",
      "Collecting tensorboard-data-server<0.8.0,>=0.7.0 (from tensorboard~=2.19.0->tensorflow)\n",
      "  Using cached tensorboard_data_server-0.7.2-py3-none-any.whl.metadata (1.1 kB)\n",
      "Requirement already satisfied: werkzeug>=1.0.1 in c:\\users\\prasanna dindi\\onedrive\\desktop\\udemy course\\.venv\\lib\\site-packages (from tensorboard~=2.19.0->tensorflow) (3.1.3)\n",
      "Requirement already satisfied: MarkupSafe>=2.1.1 in c:\\users\\prasanna dindi\\onedrive\\desktop\\udemy course\\.venv\\lib\\site-packages (from werkzeug>=1.0.1->tensorboard~=2.19.0->tensorflow) (2.1.5)\n",
      "Collecting markdown-it-py>=2.2.0 (from rich->keras>=3.5.0->tensorflow)\n",
      "  Using cached markdown_it_py-3.0.0-py3-none-any.whl.metadata (6.9 kB)\n",
      "Requirement already satisfied: pygments<3.0.0,>=2.13.0 in c:\\users\\prasanna dindi\\onedrive\\desktop\\udemy course\\.venv\\lib\\site-packages (from rich->keras>=3.5.0->tensorflow) (2.18.0)\n",
      "Collecting mdurl~=0.1 (from markdown-it-py>=2.2.0->rich->keras>=3.5.0->tensorflow)\n",
      "  Using cached mdurl-0.1.2-py3-none-any.whl.metadata (1.6 kB)\n",
      "Downloading tensorflow-2.19.0-cp311-cp311-win_amd64.whl (375.9 MB)\n",
      "   ---------------------------------------- 0.0/375.9 MB ? eta -:--:--\n",
      "   ---------------------------------------- 3.9/375.9 MB 21.3 MB/s eta 0:00:18\n",
      "   - -------------------------------------- 10.0/375.9 MB 24.8 MB/s eta 0:00:15\n",
      "   - -------------------------------------- 14.7/375.9 MB 23.6 MB/s eta 0:00:16\n",
      "   - -------------------------------------- 18.1/375.9 MB 22.4 MB/s eta 0:00:16\n",
      "   -- ------------------------------------- 21.2/375.9 MB 20.6 MB/s eta 0:00:18\n",
      "   -- ------------------------------------- 24.4/375.9 MB 19.3 MB/s eta 0:00:19\n",
      "   -- ------------------------------------- 26.2/375.9 MB 18.0 MB/s eta 0:00:20\n",
      "   -- ------------------------------------- 27.8/375.9 MB 16.6 MB/s eta 0:00:21\n",
      "   --- ------------------------------------ 29.9/375.9 MB 15.8 MB/s eta 0:00:22\n",
      "   --- ------------------------------------ 32.2/375.9 MB 15.4 MB/s eta 0:00:23\n",
      "   --- ------------------------------------ 35.1/375.9 MB 15.1 MB/s eta 0:00:23\n",
      "   --- ------------------------------------ 37.5/375.9 MB 14.9 MB/s eta 0:00:23\n",
      "   ---- ----------------------------------- 38.8/375.9 MB 14.3 MB/s eta 0:00:24\n",
      "   ---- ----------------------------------- 40.4/375.9 MB 13.8 MB/s eta 0:00:25\n",
      "   ---- ----------------------------------- 42.5/375.9 MB 13.5 MB/s eta 0:00:25\n",
      "   ---- ----------------------------------- 44.8/375.9 MB 13.3 MB/s eta 0:00:25\n",
      "   ----- ---------------------------------- 47.4/375.9 MB 13.2 MB/s eta 0:00:25\n",
      "   ----- ---------------------------------- 49.5/375.9 MB 13.1 MB/s eta 0:00:25\n",
      "   ----- ---------------------------------- 51.9/375.9 MB 13.0 MB/s eta 0:00:25\n",
      "   ----- ---------------------------------- 53.2/375.9 MB 12.7 MB/s eta 0:00:26\n",
      "   ----- ---------------------------------- 53.7/375.9 MB 12.3 MB/s eta 0:00:27\n",
      "   ----- ---------------------------------- 54.5/375.9 MB 11.9 MB/s eta 0:00:28\n",
      "   ----- ---------------------------------- 55.6/375.9 MB 11.5 MB/s eta 0:00:28\n",
      "   ------ --------------------------------- 56.9/375.9 MB 11.2 MB/s eta 0:00:29\n",
      "   ------ --------------------------------- 57.7/375.9 MB 11.0 MB/s eta 0:00:29\n",
      "   ------ --------------------------------- 58.7/375.9 MB 10.7 MB/s eta 0:00:30\n",
      "   ------ --------------------------------- 59.8/375.9 MB 10.6 MB/s eta 0:00:30\n",
      "   ------ --------------------------------- 60.8/375.9 MB 10.3 MB/s eta 0:00:31\n",
      "   ------ --------------------------------- 61.6/375.9 MB 10.1 MB/s eta 0:00:32\n",
      "   ------ --------------------------------- 62.9/375.9 MB 10.0 MB/s eta 0:00:32\n",
      "   ------ --------------------------------- 64.5/375.9 MB 9.9 MB/s eta 0:00:32\n",
      "   ------- -------------------------------- 66.3/375.9 MB 9.9 MB/s eta 0:00:32\n",
      "   ------- -------------------------------- 67.6/375.9 MB 9.8 MB/s eta 0:00:32\n",
      "   ------- -------------------------------- 68.7/375.9 MB 9.6 MB/s eta 0:00:32\n",
      "   ------- -------------------------------- 70.0/375.9 MB 9.6 MB/s eta 0:00:33\n",
      "   ------- -------------------------------- 70.8/375.9 MB 9.4 MB/s eta 0:00:33\n",
      "   ------- -------------------------------- 71.3/375.9 MB 9.2 MB/s eta 0:00:34\n",
      "   ------- -------------------------------- 71.8/375.9 MB 9.0 MB/s eta 0:00:34\n",
      "   ------- -------------------------------- 72.4/375.9 MB 8.9 MB/s eta 0:00:35\n",
      "   ------- -------------------------------- 73.7/375.9 MB 8.8 MB/s eta 0:00:35\n",
      "   ------- -------------------------------- 75.0/375.9 MB 8.7 MB/s eta 0:00:35\n",
      "   -------- ------------------------------- 76.8/375.9 MB 8.7 MB/s eta 0:00:35\n",
      "   -------- ------------------------------- 78.9/375.9 MB 8.8 MB/s eta 0:00:34\n",
      "   -------- ------------------------------- 80.7/375.9 MB 8.7 MB/s eta 0:00:34\n",
      "   -------- ------------------------------- 81.8/375.9 MB 8.7 MB/s eta 0:00:34\n",
      "   -------- ------------------------------- 82.8/375.9 MB 8.6 MB/s eta 0:00:35\n",
      "   -------- ------------------------------- 84.1/375.9 MB 8.5 MB/s eta 0:00:35\n",
      "   --------- ------------------------------ 84.9/375.9 MB 8.4 MB/s eta 0:00:35\n",
      "   --------- ------------------------------ 85.7/375.9 MB 8.3 MB/s eta 0:00:35\n",
      "   --------- ------------------------------ 87.0/375.9 MB 8.3 MB/s eta 0:00:35\n",
      "   --------- ------------------------------ 88.3/375.9 MB 8.3 MB/s eta 0:00:35\n",
      "   --------- ------------------------------ 89.7/375.9 MB 8.2 MB/s eta 0:00:35\n",
      "   --------- ------------------------------ 91.0/375.9 MB 8.2 MB/s eta 0:00:35\n",
      "   --------- ------------------------------ 92.5/375.9 MB 8.2 MB/s eta 0:00:35\n",
      "   --------- ------------------------------ 93.8/375.9 MB 8.2 MB/s eta 0:00:35\n",
      "   ---------- ----------------------------- 94.6/375.9 MB 8.1 MB/s eta 0:00:35\n",
      "   ---------- ----------------------------- 95.7/375.9 MB 8.0 MB/s eta 0:00:35\n",
      "   ---------- ----------------------------- 96.5/375.9 MB 8.0 MB/s eta 0:00:36\n",
      "   ---------- ----------------------------- 97.5/375.9 MB 7.9 MB/s eta 0:00:36\n",
      "   ---------- ----------------------------- 98.3/375.9 MB 7.8 MB/s eta 0:00:36\n",
      "   ---------- ----------------------------- 98.6/375.9 MB 7.8 MB/s eta 0:00:36\n",
      "   ---------- ----------------------------- 99.1/375.9 MB 7.6 MB/s eta 0:00:37\n",
      "   ---------- ----------------------------- 99.4/375.9 MB 7.5 MB/s eta 0:00:37\n",
      "   ---------- ----------------------------- 99.6/375.9 MB 7.4 MB/s eta 0:00:38\n",
      "   ---------- ----------------------------- 100.7/375.9 MB 7.4 MB/s eta 0:00:38\n",
      "   ---------- ----------------------------- 101.7/375.9 MB 7.3 MB/s eta 0:00:38\n",
      "   ---------- ----------------------------- 102.5/375.9 MB 7.3 MB/s eta 0:00:38\n",
      "   ----------- ---------------------------- 103.5/375.9 MB 7.3 MB/s eta 0:00:38\n",
      "   ----------- ---------------------------- 104.3/375.9 MB 7.2 MB/s eta 0:00:38\n",
      "   ----------- ---------------------------- 104.9/375.9 MB 7.2 MB/s eta 0:00:38\n",
      "   ----------- ---------------------------- 105.6/375.9 MB 7.1 MB/s eta 0:00:39\n",
      "   ----------- ---------------------------- 106.4/375.9 MB 7.0 MB/s eta 0:00:39\n",
      "   ----------- ---------------------------- 107.5/375.9 MB 7.0 MB/s eta 0:00:39\n",
      "   ----------- ---------------------------- 109.1/375.9 MB 7.0 MB/s eta 0:00:39\n",
      "   ----------- ---------------------------- 110.9/375.9 MB 7.0 MB/s eta 0:00:38\n",
      "   ----------- ---------------------------- 112.2/375.9 MB 7.0 MB/s eta 0:00:38\n",
      "   ------------ --------------------------- 113.8/375.9 MB 7.0 MB/s eta 0:00:38\n",
      "   ------------ --------------------------- 115.1/375.9 MB 7.0 MB/s eta 0:00:38\n",
      "   ------------ --------------------------- 116.7/375.9 MB 7.0 MB/s eta 0:00:37\n",
      "   ------------ --------------------------- 118.2/375.9 MB 7.0 MB/s eta 0:00:37\n",
      "   ------------ --------------------------- 119.3/375.9 MB 7.0 MB/s eta 0:00:37\n",
      "   ------------ --------------------------- 120.1/375.9 MB 7.0 MB/s eta 0:00:37\n",
      "   ------------ --------------------------- 121.1/375.9 MB 6.9 MB/s eta 0:00:37\n",
      "   ------------- -------------------------- 122.4/375.9 MB 6.9 MB/s eta 0:00:37\n",
      "   ------------- -------------------------- 124.0/375.9 MB 6.9 MB/s eta 0:00:37\n",
      "   ------------- -------------------------- 125.3/375.9 MB 6.9 MB/s eta 0:00:37\n",
      "   ------------- -------------------------- 126.4/375.9 MB 6.9 MB/s eta 0:00:37\n",
      "   ------------- -------------------------- 127.1/375.9 MB 6.9 MB/s eta 0:00:37\n",
      "   ------------- -------------------------- 127.9/375.9 MB 6.8 MB/s eta 0:00:37\n",
      "   ------------- -------------------------- 128.5/375.9 MB 6.8 MB/s eta 0:00:37\n",
      "   ------------- -------------------------- 129.2/375.9 MB 6.8 MB/s eta 0:00:37\n",
      "   ------------- -------------------------- 129.8/375.9 MB 6.7 MB/s eta 0:00:37\n",
      "   ------------- -------------------------- 130.5/375.9 MB 6.7 MB/s eta 0:00:37\n",
      "   ------------- -------------------------- 131.3/375.9 MB 6.7 MB/s eta 0:00:37\n",
      "   -------------- ------------------------- 132.4/375.9 MB 6.6 MB/s eta 0:00:37\n",
      "   -------------- ------------------------- 132.6/375.9 MB 6.6 MB/s eta 0:00:37\n",
      "   -------------- ------------------------- 133.2/375.9 MB 6.5 MB/s eta 0:00:38\n",
      "   -------------- ------------------------- 133.4/375.9 MB 6.5 MB/s eta 0:00:38\n",
      "   -------------- ------------------------- 134.0/375.9 MB 6.4 MB/s eta 0:00:38\n",
      "   -------------- ------------------------- 134.5/375.9 MB 6.4 MB/s eta 0:00:38\n",
      "   -------------- ------------------------- 135.5/375.9 MB 6.4 MB/s eta 0:00:38\n",
      "   -------------- ------------------------- 136.6/375.9 MB 6.4 MB/s eta 0:00:38\n",
      "   -------------- ------------------------- 137.9/375.9 MB 6.4 MB/s eta 0:00:38\n",
      "   -------------- ------------------------- 139.7/375.9 MB 6.4 MB/s eta 0:00:38\n",
      "   --------------- ------------------------ 141.8/375.9 MB 6.4 MB/s eta 0:00:37\n",
      "   --------------- ------------------------ 143.9/375.9 MB 6.4 MB/s eta 0:00:36\n",
      "   --------------- ------------------------ 146.3/375.9 MB 6.5 MB/s eta 0:00:36\n",
      "   --------------- ------------------------ 148.9/375.9 MB 6.5 MB/s eta 0:00:35\n",
      "   ---------------- ----------------------- 151.3/375.9 MB 6.6 MB/s eta 0:00:35\n",
      "   ---------------- ----------------------- 153.6/375.9 MB 6.6 MB/s eta 0:00:34\n",
      "   ---------------- ----------------------- 154.7/375.9 MB 6.6 MB/s eta 0:00:34\n",
      "   ---------------- ----------------------- 157.0/375.9 MB 6.6 MB/s eta 0:00:33\n",
      "   ---------------- ----------------------- 159.6/375.9 MB 6.7 MB/s eta 0:00:33\n",
      "   ----------------- ---------------------- 162.5/375.9 MB 6.8 MB/s eta 0:00:32\n",
      "   ----------------- ---------------------- 165.9/375.9 MB 6.8 MB/s eta 0:00:31\n",
      "   ------------------ --------------------- 169.6/375.9 MB 6.9 MB/s eta 0:00:30\n",
      "   ------------------ --------------------- 172.0/375.9 MB 7.0 MB/s eta 0:00:30\n",
      "   ------------------ --------------------- 173.3/375.9 MB 7.0 MB/s eta 0:00:30\n",
      "   ------------------ --------------------- 174.1/375.9 MB 6.9 MB/s eta 0:00:30\n",
      "   ------------------ --------------------- 175.1/375.9 MB 6.9 MB/s eta 0:00:29\n",
      "   ------------------ --------------------- 176.4/375.9 MB 6.9 MB/s eta 0:00:29\n",
      "   ------------------ --------------------- 177.7/375.9 MB 6.9 MB/s eta 0:00:29\n",
      "   ------------------- -------------------- 179.6/375.9 MB 6.9 MB/s eta 0:00:29\n",
      "   ------------------- -------------------- 181.7/375.9 MB 6.9 MB/s eta 0:00:28\n",
      "   ------------------- -------------------- 184.0/375.9 MB 7.0 MB/s eta 0:00:28\n",
      "   ------------------- -------------------- 184.8/375.9 MB 7.0 MB/s eta 0:00:28\n",
      "   ------------------- -------------------- 185.6/375.9 MB 6.9 MB/s eta 0:00:28\n",
      "   ------------------- -------------------- 186.4/375.9 MB 6.9 MB/s eta 0:00:28\n",
      "   ------------------- -------------------- 187.2/375.9 MB 6.9 MB/s eta 0:00:28\n",
      "   ------------------- -------------------- 187.7/375.9 MB 6.8 MB/s eta 0:00:28\n",
      "   -------------------- ------------------- 188.5/375.9 MB 6.8 MB/s eta 0:00:28\n",
      "   -------------------- ------------------- 189.5/375.9 MB 6.8 MB/s eta 0:00:28\n",
      "   -------------------- ------------------- 190.6/375.9 MB 6.8 MB/s eta 0:00:28\n",
      "   -------------------- ------------------- 192.2/375.9 MB 6.8 MB/s eta 0:00:28\n",
      "   -------------------- ------------------- 194.0/375.9 MB 6.8 MB/s eta 0:00:27\n",
      "   -------------------- ------------------- 196.1/375.9 MB 6.8 MB/s eta 0:00:27\n",
      "   --------------------- ------------------ 197.7/375.9 MB 6.8 MB/s eta 0:00:27\n",
      "   --------------------- ------------------ 198.7/375.9 MB 6.8 MB/s eta 0:00:26\n",
      "   --------------------- ------------------ 199.8/375.9 MB 6.8 MB/s eta 0:00:26\n",
      "   --------------------- ------------------ 201.3/375.9 MB 6.8 MB/s eta 0:00:26\n",
      "   --------------------- ------------------ 202.9/375.9 MB 6.8 MB/s eta 0:00:26\n",
      "   --------------------- ------------------ 204.2/375.9 MB 6.8 MB/s eta 0:00:26\n",
      "   --------------------- ------------------ 205.8/375.9 MB 6.8 MB/s eta 0:00:26\n",
      "   ---------------------- ----------------- 207.6/375.9 MB 6.6 MB/s eta 0:00:26\n",
      "   ---------------------- ----------------- 209.7/375.9 MB 6.5 MB/s eta 0:00:26\n",
      "   ---------------------- ----------------- 212.3/375.9 MB 6.5 MB/s eta 0:00:26\n",
      "   ---------------------- ----------------- 214.4/375.9 MB 6.5 MB/s eta 0:00:25\n",
      "   ----------------------- ---------------- 216.3/375.9 MB 6.4 MB/s eta 0:00:25\n",
      "   ----------------------- ---------------- 217.6/375.9 MB 6.4 MB/s eta 0:00:25\n",
      "   ----------------------- ---------------- 218.9/375.9 MB 6.4 MB/s eta 0:00:25\n",
      "   ----------------------- ---------------- 220.2/375.9 MB 6.4 MB/s eta 0:00:25\n",
      "   ----------------------- ---------------- 221.8/375.9 MB 6.3 MB/s eta 0:00:25\n",
      "   ----------------------- ---------------- 223.6/375.9 MB 6.3 MB/s eta 0:00:25\n",
      "   ----------------------- ---------------- 224.9/375.9 MB 6.3 MB/s eta 0:00:25\n",
      "   ------------------------ --------------- 226.0/375.9 MB 6.3 MB/s eta 0:00:24\n",
      "   ------------------------ --------------- 227.0/375.9 MB 6.2 MB/s eta 0:00:24\n",
      "   ------------------------ --------------- 228.1/375.9 MB 6.2 MB/s eta 0:00:24\n",
      "   ------------------------ --------------- 229.6/375.9 MB 6.2 MB/s eta 0:00:24\n",
      "   ------------------------ --------------- 231.2/375.9 MB 6.1 MB/s eta 0:00:24\n",
      "   ------------------------ --------------- 233.6/375.9 MB 6.1 MB/s eta 0:00:24\n",
      "   ------------------------- -------------- 235.1/375.9 MB 6.1 MB/s eta 0:00:23\n",
      "   ------------------------- -------------- 237.2/375.9 MB 6.1 MB/s eta 0:00:23\n",
      "   ------------------------- -------------- 239.6/375.9 MB 6.2 MB/s eta 0:00:22\n",
      "   ------------------------- -------------- 242.5/375.9 MB 6.3 MB/s eta 0:00:22\n",
      "   -------------------------- ------------- 244.8/375.9 MB 6.3 MB/s eta 0:00:21\n",
      "   -------------------------- ------------- 247.7/375.9 MB 6.4 MB/s eta 0:00:21\n",
      "   -------------------------- ------------- 249.8/375.9 MB 6.4 MB/s eta 0:00:20\n",
      "   -------------------------- ------------- 251.7/375.9 MB 6.4 MB/s eta 0:00:20\n",
      "   --------------------------- ------------ 253.8/375.9 MB 6.5 MB/s eta 0:00:19\n",
      "   --------------------------- ------------ 255.9/375.9 MB 6.5 MB/s eta 0:00:19\n",
      "   --------------------------- ------------ 257.7/375.9 MB 6.5 MB/s eta 0:00:19\n",
      "   --------------------------- ------------ 259.0/375.9 MB 6.5 MB/s eta 0:00:18\n",
      "   --------------------------- ------------ 259.3/375.9 MB 6.5 MB/s eta 0:00:18\n",
      "   --------------------------- ------------ 259.5/375.9 MB 6.4 MB/s eta 0:00:19\n",
      "   --------------------------- ------------ 259.8/375.9 MB 6.4 MB/s eta 0:00:19\n",
      "   --------------------------- ------------ 260.0/375.9 MB 6.4 MB/s eta 0:00:19\n",
      "   --------------------------- ------------ 260.6/375.9 MB 6.3 MB/s eta 0:00:19\n",
      "   --------------------------- ------------ 261.1/375.9 MB 6.3 MB/s eta 0:00:19\n",
      "   --------------------------- ------------ 261.6/375.9 MB 6.3 MB/s eta 0:00:19\n",
      "   --------------------------- ------------ 262.7/375.9 MB 6.4 MB/s eta 0:00:18\n",
      "   ---------------------------- ----------- 263.7/375.9 MB 6.4 MB/s eta 0:00:18\n",
      "   ---------------------------- ----------- 264.5/375.9 MB 6.4 MB/s eta 0:00:18\n",
      "   ---------------------------- ----------- 265.6/375.9 MB 6.4 MB/s eta 0:00:18\n",
      "   ---------------------------- ----------- 266.6/375.9 MB 6.3 MB/s eta 0:00:18\n",
      "   ---------------------------- ----------- 267.4/375.9 MB 6.3 MB/s eta 0:00:18\n",
      "   ---------------------------- ----------- 268.2/375.9 MB 6.2 MB/s eta 0:00:18\n",
      "   ---------------------------- ----------- 268.7/375.9 MB 6.2 MB/s eta 0:00:18\n",
      "   ---------------------------- ----------- 269.2/375.9 MB 6.2 MB/s eta 0:00:18\n",
      "   ---------------------------- ----------- 269.7/375.9 MB 6.2 MB/s eta 0:00:18\n",
      "   ---------------------------- ----------- 270.5/375.9 MB 6.2 MB/s eta 0:00:18\n",
      "   ---------------------------- ----------- 271.8/375.9 MB 6.2 MB/s eta 0:00:17\n",
      "   ----------------------------- ---------- 272.9/375.9 MB 6.2 MB/s eta 0:00:17\n",
      "   ----------------------------- ---------- 274.5/375.9 MB 6.2 MB/s eta 0:00:17\n",
      "   ----------------------------- ---------- 276.3/375.9 MB 6.2 MB/s eta 0:00:17\n",
      "   ----------------------------- ---------- 278.7/375.9 MB 6.2 MB/s eta 0:00:16\n",
      "   ----------------------------- ---------- 281.3/375.9 MB 6.3 MB/s eta 0:00:16\n",
      "   ------------------------------ --------- 282.1/375.9 MB 6.3 MB/s eta 0:00:15\n",
      "   ------------------------------ --------- 282.3/375.9 MB 6.3 MB/s eta 0:00:15\n",
      "   ------------------------------ --------- 283.1/375.9 MB 6.2 MB/s eta 0:00:15\n",
      "   ------------------------------ --------- 284.2/375.9 MB 6.2 MB/s eta 0:00:15\n",
      "   ------------------------------ --------- 285.2/375.9 MB 6.2 MB/s eta 0:00:15\n",
      "   ------------------------------ --------- 286.3/375.9 MB 6.3 MB/s eta 0:00:15\n",
      "   ------------------------------ --------- 287.3/375.9 MB 6.3 MB/s eta 0:00:15\n",
      "   ------------------------------ --------- 288.6/375.9 MB 6.3 MB/s eta 0:00:14\n",
      "   ------------------------------ --------- 289.7/375.9 MB 6.4 MB/s eta 0:00:14\n",
      "   ------------------------------ --------- 291.2/375.9 MB 6.4 MB/s eta 0:00:14\n",
      "   ------------------------------- -------- 292.6/375.9 MB 6.4 MB/s eta 0:00:14\n",
      "   ------------------------------- -------- 293.6/375.9 MB 6.4 MB/s eta 0:00:13\n",
      "   ------------------------------- -------- 294.9/375.9 MB 6.4 MB/s eta 0:00:13\n",
      "   ------------------------------- -------- 296.0/375.9 MB 6.4 MB/s eta 0:00:13\n",
      "   ------------------------------- -------- 297.0/375.9 MB 6.4 MB/s eta 0:00:13\n",
      "   ------------------------------- -------- 298.1/375.9 MB 6.4 MB/s eta 0:00:13\n",
      "   ------------------------------- -------- 299.1/375.9 MB 6.4 MB/s eta 0:00:12\n",
      "   ------------------------------- -------- 300.2/375.9 MB 6.4 MB/s eta 0:00:12\n",
      "   -------------------------------- ------- 301.2/375.9 MB 6.4 MB/s eta 0:00:12\n",
      "   -------------------------------- ------- 302.3/375.9 MB 6.4 MB/s eta 0:00:12\n",
      "   -------------------------------- ------- 303.0/375.9 MB 6.4 MB/s eta 0:00:12\n",
      "   -------------------------------- ------- 304.6/375.9 MB 6.4 MB/s eta 0:00:12\n",
      "   -------------------------------- ------- 305.9/375.9 MB 6.4 MB/s eta 0:00:11\n",
      "   -------------------------------- ------- 307.2/375.9 MB 6.4 MB/s eta 0:00:11\n",
      "   -------------------------------- ------- 308.3/375.9 MB 6.4 MB/s eta 0:00:11\n",
      "   -------------------------------- ------- 309.6/375.9 MB 6.4 MB/s eta 0:00:11\n",
      "   --------------------------------- ------ 310.9/375.9 MB 6.4 MB/s eta 0:00:11\n",
      "   --------------------------------- ------ 312.5/375.9 MB 6.4 MB/s eta 0:00:10\n",
      "   --------------------------------- ------ 313.8/375.9 MB 6.4 MB/s eta 0:00:10\n",
      "   --------------------------------- ------ 314.6/375.9 MB 6.4 MB/s eta 0:00:10\n",
      "   --------------------------------- ------ 315.6/375.9 MB 6.4 MB/s eta 0:00:10\n",
      "   --------------------------------- ------ 316.9/375.9 MB 6.4 MB/s eta 0:00:10\n",
      "   --------------------------------- ------ 318.8/375.9 MB 6.4 MB/s eta 0:00:09\n",
      "   ---------------------------------- ----- 320.6/375.9 MB 6.4 MB/s eta 0:00:09\n",
      "   ---------------------------------- ----- 321.9/375.9 MB 6.5 MB/s eta 0:00:09\n",
      "   ---------------------------------- ----- 323.2/375.9 MB 6.5 MB/s eta 0:00:09\n",
      "   ---------------------------------- ----- 324.5/375.9 MB 6.5 MB/s eta 0:00:08\n",
      "   ---------------------------------- ----- 325.8/375.9 MB 6.5 MB/s eta 0:00:08\n",
      "   ---------------------------------- ----- 326.9/375.9 MB 6.5 MB/s eta 0:00:08\n",
      "   ---------------------------------- ----- 327.9/375.9 MB 6.5 MB/s eta 0:00:08\n",
      "   ----------------------------------- ---- 329.5/375.9 MB 6.6 MB/s eta 0:00:08\n",
      "   ----------------------------------- ---- 331.6/375.9 MB 6.7 MB/s eta 0:00:07\n",
      "   ----------------------------------- ---- 333.4/375.9 MB 6.7 MB/s eta 0:00:07\n",
      "   ----------------------------------- ---- 334.8/375.9 MB 6.7 MB/s eta 0:00:07\n",
      "   ----------------------------------- ---- 335.8/375.9 MB 6.7 MB/s eta 0:00:06\n",
      "   ----------------------------------- ---- 337.1/375.9 MB 6.7 MB/s eta 0:00:06\n",
      "   ------------------------------------ --- 338.4/375.9 MB 6.7 MB/s eta 0:00:06\n",
      "   ------------------------------------ --- 339.7/375.9 MB 6.7 MB/s eta 0:00:06\n",
      "   ------------------------------------ --- 341.0/375.9 MB 6.7 MB/s eta 0:00:06\n",
      "   ------------------------------------ --- 342.4/375.9 MB 6.7 MB/s eta 0:00:06\n",
      "   ------------------------------------ --- 343.9/375.9 MB 6.7 MB/s eta 0:00:05\n",
      "   ------------------------------------ --- 346.0/375.9 MB 6.7 MB/s eta 0:00:05\n",
      "   ------------------------------------- -- 348.4/375.9 MB 6.7 MB/s eta 0:00:05\n",
      "   ------------------------------------- -- 350.2/375.9 MB 6.6 MB/s eta 0:00:04\n",
      "   ------------------------------------- -- 353.4/375.9 MB 6.7 MB/s eta 0:00:04\n",
      "   ------------------------------------- -- 356.3/375.9 MB 6.7 MB/s eta 0:00:03\n",
      "   -------------------------------------- - 357.8/375.9 MB 6.7 MB/s eta 0:00:03\n",
      "   -------------------------------------- - 359.7/375.9 MB 6.7 MB/s eta 0:00:03\n",
      "   -------------------------------------- - 361.8/375.9 MB 6.6 MB/s eta 0:00:03\n",
      "   -------------------------------------- - 364.4/375.9 MB 6.6 MB/s eta 0:00:02\n",
      "   ---------------------------------------  367.0/375.9 MB 6.6 MB/s eta 0:00:02\n",
      "   ---------------------------------------  369.6/375.9 MB 6.6 MB/s eta 0:00:01\n",
      "   ---------------------------------------  372.2/375.9 MB 6.6 MB/s eta 0:00:01\n",
      "   ---------------------------------------  375.4/375.9 MB 6.7 MB/s eta 0:00:01\n",
      "   ---------------------------------------  375.7/375.9 MB 6.7 MB/s eta 0:00:01\n",
      "   ---------------------------------------  375.7/375.9 MB 6.7 MB/s eta 0:00:01\n",
      "   ---------------------------------------  375.7/375.9 MB 6.7 MB/s eta 0:00:01\n",
      "   ---------------------------------------  375.7/375.9 MB 6.7 MB/s eta 0:00:01\n",
      "   ---------------------------------------  375.7/375.9 MB 6.7 MB/s eta 0:00:01\n",
      "   ---------------------------------------  375.7/375.9 MB 6.7 MB/s eta 0:00:01\n",
      "   ---------------------------------------  375.7/375.9 MB 6.7 MB/s eta 0:00:01\n",
      "   ---------------------------------------- 375.9/375.9 MB 6.4 MB/s eta 0:00:00\n",
      "Downloading absl_py-2.2.1-py3-none-any.whl (277 kB)\n",
      "Using cached astunparse-1.6.3-py2.py3-none-any.whl (12 kB)\n",
      "Downloading flatbuffers-25.2.10-py2.py3-none-any.whl (30 kB)\n",
      "Using cached gast-0.6.0-py3-none-any.whl (21 kB)\n",
      "Using cached google_pasta-0.2.0-py3-none-any.whl (57 kB)\n",
      "Downloading grpcio-1.71.0-cp311-cp311-win_amd64.whl (4.3 MB)\n",
      "   ---------------------------------------- 0.0/4.3 MB ? eta -:--:--\n",
      "   ------------------- -------------------- 2.1/4.3 MB 10.7 MB/s eta 0:00:01\n",
      "   ----------------------------- ---------- 3.1/4.3 MB 8.0 MB/s eta 0:00:01\n",
      "   ---------------------------------------- 4.3/4.3 MB 7.1 MB/s eta 0:00:00\n",
      "Downloading h5py-3.13.0-cp311-cp311-win_amd64.whl (3.0 MB)\n",
      "   ---------------------------------------- 0.0/3.0 MB ? eta -:--:--\n",
      "   --------------------- ------------------ 1.6/3.0 MB 8.3 MB/s eta 0:00:01\n",
      "   ---------------------------------------- 3.0/3.0 MB 8.2 MB/s eta 0:00:00\n",
      "Downloading keras-3.9.1-py3-none-any.whl (1.3 MB)\n",
      "   ---------------------------------------- 0.0/1.3 MB ? eta -:--:--\n",
      "   ---------------------------------------- 1.3/1.3 MB 6.9 MB/s eta 0:00:00\n",
      "Using cached libclang-18.1.1-py2.py3-none-win_amd64.whl (26.4 MB)\n",
      "Downloading ml_dtypes-0.5.1-cp311-cp311-win_amd64.whl (209 kB)\n",
      "Using cached opt_einsum-3.4.0-py3-none-any.whl (71 kB)\n",
      "Downloading protobuf-5.29.4-cp310-abi3-win_amd64.whl (434 kB)\n",
      "Downloading tensorboard-2.19.0-py3-none-any.whl (5.5 MB)\n",
      "   ---------------------------------------- 0.0/5.5 MB ? eta -:--:--\n",
      "   --- ------------------------------------ 0.5/5.5 MB 3.4 MB/s eta 0:00:02\n",
      "   --------- ------------------------------ 1.3/5.5 MB 3.2 MB/s eta 0:00:02\n",
      "   ------------- -------------------------- 1.8/5.5 MB 3.2 MB/s eta 0:00:02\n",
      "   ------------------- -------------------- 2.6/5.5 MB 3.1 MB/s eta 0:00:01\n",
      "   -------------------- ------------------- 2.9/5.5 MB 2.8 MB/s eta 0:00:01\n",
      "   ------------------------ --------------- 3.4/5.5 MB 2.8 MB/s eta 0:00:01\n",
      "   -------------------------------- ------- 4.5/5.5 MB 3.1 MB/s eta 0:00:01\n",
      "   ---------------------------------------- 5.5/5.5 MB 3.3 MB/s eta 0:00:00\n",
      "Using cached tensorflow_io_gcs_filesystem-0.31.0-cp311-cp311-win_amd64.whl (1.5 MB)\n",
      "Downloading termcolor-3.0.0-py3-none-any.whl (6.3 kB)\n",
      "Downloading wrapt-1.17.2-cp311-cp311-win_amd64.whl (38 kB)\n",
      "Using cached Markdown-3.7-py3-none-any.whl (106 kB)\n",
      "Using cached tensorboard_data_server-0.7.2-py3-none-any.whl (2.4 kB)\n",
      "Using cached wheel-0.45.1-py3-none-any.whl (72 kB)\n",
      "Using cached namex-0.0.8-py3-none-any.whl (5.8 kB)\n",
      "Downloading optree-0.14.1-cp311-cp311-win_amd64.whl (305 kB)\n",
      "Downloading rich-14.0.0-py3-none-any.whl (243 kB)\n",
      "Using cached markdown_it_py-3.0.0-py3-none-any.whl (87 kB)\n",
      "Using cached mdurl-0.1.2-py3-none-any.whl (10.0 kB)\n",
      "Installing collected packages: namex, libclang, flatbuffers, wrapt, wheel, termcolor, tensorflow-io-gcs-filesystem, tensorboard-data-server, protobuf, optree, opt-einsum, ml-dtypes, mdurl, markdown, h5py, grpcio, google-pasta, gast, absl-py, tensorboard, markdown-it-py, astunparse, rich, keras, tensorflow\n",
      "Successfully installed absl-py-2.2.1 astunparse-1.6.3 flatbuffers-25.2.10 gast-0.6.0 google-pasta-0.2.0 grpcio-1.71.0 h5py-3.13.0 keras-3.9.1 libclang-18.1.1 markdown-3.7 markdown-it-py-3.0.0 mdurl-0.1.2 ml-dtypes-0.5.1 namex-0.0.8 opt-einsum-3.4.0 optree-0.14.1 protobuf-5.29.4 rich-14.0.0 tensorboard-2.19.0 tensorboard-data-server-0.7.2 tensorflow-2.19.0 tensorflow-io-gcs-filesystem-0.31.0 termcolor-3.0.0 wheel-0.45.1 wrapt-1.17.2\n",
      "\n"
     ]
    }
   ],
   "source": [
    "## Part 2 now we create ANN\n",
    "%pip install tensorflow"
   ]
  },
  {
   "cell_type": "code",
   "execution_count": 45,
   "metadata": {},
   "outputs": [
    {
     "name": "stdout",
     "output_type": "stream",
     "text": [
      "Requirement already satisfied: keras in c:\\users\\prasanna dindi\\onedrive\\desktop\\udemy course\\.venv\\lib\\site-packages (3.9.1)\n",
      "Requirement already satisfied: absl-py in c:\\users\\prasanna dindi\\onedrive\\desktop\\udemy course\\.venv\\lib\\site-packages (from keras) (2.2.1)\n",
      "Requirement already satisfied: numpy in c:\\users\\prasanna dindi\\onedrive\\desktop\\udemy course\\.venv\\lib\\site-packages (from keras) (2.1.3)\n",
      "Requirement already satisfied: rich in c:\\users\\prasanna dindi\\onedrive\\desktop\\udemy course\\.venv\\lib\\site-packages (from keras) (14.0.0)\n",
      "Requirement already satisfied: namex in c:\\users\\prasanna dindi\\onedrive\\desktop\\udemy course\\.venv\\lib\\site-packages (from keras) (0.0.8)\n",
      "Requirement already satisfied: h5py in c:\\users\\prasanna dindi\\onedrive\\desktop\\udemy course\\.venv\\lib\\site-packages (from keras) (3.13.0)\n",
      "Requirement already satisfied: optree in c:\\users\\prasanna dindi\\onedrive\\desktop\\udemy course\\.venv\\lib\\site-packages (from keras) (0.14.1)\n",
      "Requirement already satisfied: ml-dtypes in c:\\users\\prasanna dindi\\onedrive\\desktop\\udemy course\\.venv\\lib\\site-packages (from keras) (0.5.1)\n",
      "Requirement already satisfied: packaging in c:\\users\\prasanna dindi\\onedrive\\desktop\\udemy course\\.venv\\lib\\site-packages (from keras) (24.2)\n",
      "Requirement already satisfied: typing-extensions>=4.5.0 in c:\\users\\prasanna dindi\\onedrive\\desktop\\udemy course\\.venv\\lib\\site-packages (from optree->keras) (4.12.2)\n",
      "Requirement already satisfied: markdown-it-py>=2.2.0 in c:\\users\\prasanna dindi\\onedrive\\desktop\\udemy course\\.venv\\lib\\site-packages (from rich->keras) (3.0.0)\n",
      "Requirement already satisfied: pygments<3.0.0,>=2.13.0 in c:\\users\\prasanna dindi\\onedrive\\desktop\\udemy course\\.venv\\lib\\site-packages (from rich->keras) (2.18.0)\n",
      "Requirement already satisfied: mdurl~=0.1 in c:\\users\\prasanna dindi\\onedrive\\desktop\\udemy course\\.venv\\lib\\site-packages (from markdown-it-py>=2.2.0->rich->keras) (0.1.2)\n",
      "Note: you may need to restart the kernel to use updated packages.\n"
     ]
    }
   ],
   "source": [
    "%pip install keras"
   ]
  },
  {
   "cell_type": "code",
   "execution_count": 46,
   "metadata": {},
   "outputs": [],
   "source": [
    "from tensorflow.keras.models import Sequential\n",
    "from tensorflow.keras.layers import Dense\n",
    "from tensorflow.keras.layers import ReLU,PReLU,LeakyReLU,ELU\n",
    "from tensorflow.keras.layers import Dropout"
   ]
  },
  {
   "cell_type": "code",
   "execution_count": 80,
   "metadata": {},
   "outputs": [],
   "source": [
    "## Initailize the  ANN\n",
    "classifier = Sequential()"
   ]
  },
  {
   "cell_type": "code",
   "execution_count": 81,
   "metadata": {},
   "outputs": [],
   "source": [
    "## Adding input layer\n",
    "classifier.add(Dense(units=11,activation='relu'))"
   ]
  },
  {
   "cell_type": "code",
   "execution_count": 82,
   "metadata": {},
   "outputs": [],
   "source": [
    "## Adding the first hidden layer\n",
    "classifier.add(Dense(units=7,activation='relu'))\n",
    "classifier.add(Dropout(0.2))"
   ]
  },
  {
   "cell_type": "code",
   "execution_count": 83,
   "metadata": {},
   "outputs": [],
   "source": [
    "## adding seconde hidden layers\n",
    "classifier.add(Dense(units=6,activation='relu'))\n",
    "classifier.add(Dropout(0.3))"
   ]
  },
  {
   "cell_type": "code",
   "execution_count": 84,
   "metadata": {},
   "outputs": [],
   "source": [
    "## adding output layer\n",
    "classifier.add(Dense(1,activation='sigmoid'))"
   ]
  },
  {
   "cell_type": "code",
   "execution_count": 87,
   "metadata": {},
   "outputs": [],
   "source": [
    "classifier.compile(optimizer=opt,loss='binary_crossentropy',metrics=['accuracy'])"
   ]
  },
  {
   "cell_type": "code",
   "execution_count": 86,
   "metadata": {},
   "outputs": [],
   "source": [
    "import tensorflow as tf\n",
    "opt=tf.keras.optimizers.Adam(learning_rate=0.01)"
   ]
  },
  {
   "cell_type": "code",
   "execution_count": 85,
   "metadata": {},
   "outputs": [],
   "source": [
    "## Early stopping\n",
    "early_stopping = tf.keras.callbacks.EarlyStopping(\n",
    "    monitor=\"val_loss\",\n",
    "    min_delta=0.0001,\n",
    "    patience=20,\n",
    "    verbose=1,\n",
    "    mode=\"auto\",\n",
    "    baseline=None,\n",
    "    restore_best_weights=False,\n",
    "    start_from_epoch=0,\n",
    ")"
   ]
  },
  {
   "cell_type": "code",
   "execution_count": 88,
   "metadata": {},
   "outputs": [
    {
     "name": "stdout",
     "output_type": "stream",
     "text": [
      "Epoch 1/1000\n",
      "\u001b[1m536/536\u001b[0m \u001b[32m━━━━━━━━━━━━━━━━━━━━\u001b[0m\u001b[37m\u001b[0m \u001b[1m5s\u001b[0m 4ms/step - accuracy: 0.7826 - loss: 0.5024 - val_accuracy: 0.8175 - val_loss: 0.4178\n",
      "Epoch 2/1000\n",
      "\u001b[1m536/536\u001b[0m \u001b[32m━━━━━━━━━━━━━━━━━━━━\u001b[0m\u001b[37m\u001b[0m \u001b[1m2s\u001b[0m 4ms/step - accuracy: 0.8183 - loss: 0.4175 - val_accuracy: 0.8326 - val_loss: 0.3846\n",
      "Epoch 3/1000\n",
      "\u001b[1m536/536\u001b[0m \u001b[32m━━━━━━━━━━━━━━━━━━━━\u001b[0m\u001b[37m\u001b[0m \u001b[1m2s\u001b[0m 5ms/step - accuracy: 0.8366 - loss: 0.3870 - val_accuracy: 0.8466 - val_loss: 0.3702\n",
      "Epoch 4/1000\n",
      "\u001b[1m536/536\u001b[0m \u001b[32m━━━━━━━━━━━━━━━━━━━━\u001b[0m\u001b[37m\u001b[0m \u001b[1m2s\u001b[0m 4ms/step - accuracy: 0.8459 - loss: 0.3699 - val_accuracy: 0.8444 - val_loss: 0.3749\n",
      "Epoch 5/1000\n",
      "\u001b[1m536/536\u001b[0m \u001b[32m━━━━━━━━━━━━━━━━━━━━\u001b[0m\u001b[37m\u001b[0m \u001b[1m2s\u001b[0m 4ms/step - accuracy: 0.8452 - loss: 0.3737 - val_accuracy: 0.8421 - val_loss: 0.3799\n",
      "Epoch 6/1000\n",
      "\u001b[1m536/536\u001b[0m \u001b[32m━━━━━━━━━━━━━━━━━━━━\u001b[0m\u001b[37m\u001b[0m \u001b[1m2s\u001b[0m 4ms/step - accuracy: 0.8535 - loss: 0.3730 - val_accuracy: 0.8455 - val_loss: 0.3787\n",
      "Epoch 7/1000\n",
      "\u001b[1m536/536\u001b[0m \u001b[32m━━━━━━━━━━━━━━━━━━━━\u001b[0m\u001b[37m\u001b[0m \u001b[1m2s\u001b[0m 4ms/step - accuracy: 0.8304 - loss: 0.3877 - val_accuracy: 0.8425 - val_loss: 0.3750\n",
      "Epoch 8/1000\n",
      "\u001b[1m536/536\u001b[0m \u001b[32m━━━━━━━━━━━━━━━━━━━━\u001b[0m\u001b[37m\u001b[0m \u001b[1m2s\u001b[0m 4ms/step - accuracy: 0.8526 - loss: 0.3741 - val_accuracy: 0.8436 - val_loss: 0.3730\n",
      "Epoch 9/1000\n",
      "\u001b[1m536/536\u001b[0m \u001b[32m━━━━━━━━━━━━━━━━━━━━\u001b[0m\u001b[37m\u001b[0m \u001b[1m2s\u001b[0m 4ms/step - accuracy: 0.8510 - loss: 0.3684 - val_accuracy: 0.8463 - val_loss: 0.3675\n",
      "Epoch 10/1000\n",
      "\u001b[1m536/536\u001b[0m \u001b[32m━━━━━━━━━━━━━━━━━━━━\u001b[0m\u001b[37m\u001b[0m \u001b[1m2s\u001b[0m 4ms/step - accuracy: 0.8432 - loss: 0.3812 - val_accuracy: 0.8451 - val_loss: 0.3689\n",
      "Epoch 11/1000\n",
      "\u001b[1m536/536\u001b[0m \u001b[32m━━━━━━━━━━━━━━━━━━━━\u001b[0m\u001b[37m\u001b[0m \u001b[1m2s\u001b[0m 4ms/step - accuracy: 0.8557 - loss: 0.3643 - val_accuracy: 0.8504 - val_loss: 0.3676\n",
      "Epoch 12/1000\n",
      "\u001b[1m536/536\u001b[0m \u001b[32m━━━━━━━━━━━━━━━━━━━━\u001b[0m\u001b[37m\u001b[0m \u001b[1m2s\u001b[0m 4ms/step - accuracy: 0.8540 - loss: 0.3684 - val_accuracy: 0.8432 - val_loss: 0.3729\n",
      "Epoch 13/1000\n",
      "\u001b[1m536/536\u001b[0m \u001b[32m━━━━━━━━━━━━━━━━━━━━\u001b[0m\u001b[37m\u001b[0m \u001b[1m2s\u001b[0m 4ms/step - accuracy: 0.8520 - loss: 0.3576 - val_accuracy: 0.8406 - val_loss: 0.3844\n",
      "Epoch 14/1000\n",
      "\u001b[1m536/536\u001b[0m \u001b[32m━━━━━━━━━━━━━━━━━━━━\u001b[0m\u001b[37m\u001b[0m \u001b[1m2s\u001b[0m 4ms/step - accuracy: 0.8341 - loss: 0.3910 - val_accuracy: 0.8417 - val_loss: 0.3785\n",
      "Epoch 15/1000\n",
      "\u001b[1m536/536\u001b[0m \u001b[32m━━━━━━━━━━━━━━━━━━━━\u001b[0m\u001b[37m\u001b[0m \u001b[1m2s\u001b[0m 4ms/step - accuracy: 0.8456 - loss: 0.3855 - val_accuracy: 0.8474 - val_loss: 0.3773\n",
      "Epoch 16/1000\n",
      "\u001b[1m536/536\u001b[0m \u001b[32m━━━━━━━━━━━━━━━━━━━━\u001b[0m\u001b[37m\u001b[0m \u001b[1m2s\u001b[0m 4ms/step - accuracy: 0.8544 - loss: 0.3629 - val_accuracy: 0.8444 - val_loss: 0.3715\n",
      "Epoch 17/1000\n",
      "\u001b[1m536/536\u001b[0m \u001b[32m━━━━━━━━━━━━━━━━━━━━\u001b[0m\u001b[37m\u001b[0m \u001b[1m2s\u001b[0m 4ms/step - accuracy: 0.8553 - loss: 0.3546 - val_accuracy: 0.8425 - val_loss: 0.3713\n",
      "Epoch 18/1000\n",
      "\u001b[1m536/536\u001b[0m \u001b[32m━━━━━━━━━━━━━━━━━━━━\u001b[0m\u001b[37m\u001b[0m \u001b[1m2s\u001b[0m 4ms/step - accuracy: 0.8513 - loss: 0.3671 - val_accuracy: 0.8463 - val_loss: 0.3727\n",
      "Epoch 19/1000\n",
      "\u001b[1m536/536\u001b[0m \u001b[32m━━━━━━━━━━━━━━━━━━━━\u001b[0m\u001b[37m\u001b[0m \u001b[1m3s\u001b[0m 5ms/step - accuracy: 0.8577 - loss: 0.3516 - val_accuracy: 0.8451 - val_loss: 0.3767\n",
      "Epoch 20/1000\n",
      "\u001b[1m536/536\u001b[0m \u001b[32m━━━━━━━━━━━━━━━━━━━━\u001b[0m\u001b[37m\u001b[0m \u001b[1m3s\u001b[0m 5ms/step - accuracy: 0.8519 - loss: 0.3631 - val_accuracy: 0.8466 - val_loss: 0.3789\n",
      "Epoch 21/1000\n",
      "\u001b[1m536/536\u001b[0m \u001b[32m━━━━━━━━━━━━━━━━━━━━\u001b[0m\u001b[37m\u001b[0m \u001b[1m3s\u001b[0m 5ms/step - accuracy: 0.8458 - loss: 0.3786 - val_accuracy: 0.8478 - val_loss: 0.3742\n",
      "Epoch 22/1000\n",
      "\u001b[1m536/536\u001b[0m \u001b[32m━━━━━━━━━━━━━━━━━━━━\u001b[0m\u001b[37m\u001b[0m \u001b[1m2s\u001b[0m 3ms/step - accuracy: 0.8638 - loss: 0.3383 - val_accuracy: 0.8398 - val_loss: 0.3789\n",
      "Epoch 23/1000\n",
      "\u001b[1m536/536\u001b[0m \u001b[32m━━━━━━━━━━━━━━━━━━━━\u001b[0m\u001b[37m\u001b[0m \u001b[1m2s\u001b[0m 3ms/step - accuracy: 0.8519 - loss: 0.3706 - val_accuracy: 0.8466 - val_loss: 0.3658\n",
      "Epoch 24/1000\n",
      "\u001b[1m536/536\u001b[0m \u001b[32m━━━━━━━━━━━━━━━━━━━━\u001b[0m\u001b[37m\u001b[0m \u001b[1m2s\u001b[0m 3ms/step - accuracy: 0.8505 - loss: 0.3695 - val_accuracy: 0.8440 - val_loss: 0.3752\n",
      "Epoch 25/1000\n",
      "\u001b[1m536/536\u001b[0m \u001b[32m━━━━━━━━━━━━━━━━━━━━\u001b[0m\u001b[37m\u001b[0m \u001b[1m2s\u001b[0m 3ms/step - accuracy: 0.8529 - loss: 0.3534 - val_accuracy: 0.8482 - val_loss: 0.3678\n",
      "Epoch 26/1000\n",
      "\u001b[1m536/536\u001b[0m \u001b[32m━━━━━━━━━━━━━━━━━━━━\u001b[0m\u001b[37m\u001b[0m \u001b[1m2s\u001b[0m 3ms/step - accuracy: 0.8563 - loss: 0.3674 - val_accuracy: 0.8478 - val_loss: 0.3802\n",
      "Epoch 27/1000\n",
      "\u001b[1m536/536\u001b[0m \u001b[32m━━━━━━━━━━━━━━━━━━━━\u001b[0m\u001b[37m\u001b[0m \u001b[1m2s\u001b[0m 3ms/step - accuracy: 0.8562 - loss: 0.3522 - val_accuracy: 0.8474 - val_loss: 0.3742\n",
      "Epoch 28/1000\n",
      "\u001b[1m536/536\u001b[0m \u001b[32m━━━━━━━━━━━━━━━━━━━━\u001b[0m\u001b[37m\u001b[0m \u001b[1m2s\u001b[0m 3ms/step - accuracy: 0.8472 - loss: 0.3774 - val_accuracy: 0.8497 - val_loss: 0.3764\n",
      "Epoch 29/1000\n",
      "\u001b[1m536/536\u001b[0m \u001b[32m━━━━━━━━━━━━━━━━━━━━\u001b[0m\u001b[37m\u001b[0m \u001b[1m2s\u001b[0m 3ms/step - accuracy: 0.8488 - loss: 0.3683 - val_accuracy: 0.8550 - val_loss: 0.3656\n",
      "Epoch 30/1000\n",
      "\u001b[1m536/536\u001b[0m \u001b[32m━━━━━━━━━━━━━━━━━━━━\u001b[0m\u001b[37m\u001b[0m \u001b[1m2s\u001b[0m 3ms/step - accuracy: 0.8571 - loss: 0.3514 - val_accuracy: 0.8504 - val_loss: 0.3714\n",
      "Epoch 31/1000\n",
      "\u001b[1m536/536\u001b[0m \u001b[32m━━━━━━━━━━━━━━━━━━━━\u001b[0m\u001b[37m\u001b[0m \u001b[1m2s\u001b[0m 3ms/step - accuracy: 0.8518 - loss: 0.3605 - val_accuracy: 0.8501 - val_loss: 0.3757\n",
      "Epoch 32/1000\n",
      "\u001b[1m536/536\u001b[0m \u001b[32m━━━━━━━━━━━━━━━━━━━━\u001b[0m\u001b[37m\u001b[0m \u001b[1m2s\u001b[0m 3ms/step - accuracy: 0.8585 - loss: 0.3535 - val_accuracy: 0.8463 - val_loss: 0.3752\n",
      "Epoch 33/1000\n",
      "\u001b[1m536/536\u001b[0m \u001b[32m━━━━━━━━━━━━━━━━━━━━\u001b[0m\u001b[37m\u001b[0m \u001b[1m2s\u001b[0m 3ms/step - accuracy: 0.8421 - loss: 0.3736 - val_accuracy: 0.8497 - val_loss: 0.3762\n",
      "Epoch 34/1000\n",
      "\u001b[1m536/536\u001b[0m \u001b[32m━━━━━━━━━━━━━━━━━━━━\u001b[0m\u001b[37m\u001b[0m \u001b[1m2s\u001b[0m 3ms/step - accuracy: 0.8393 - loss: 0.3766 - val_accuracy: 0.8493 - val_loss: 0.3701\n",
      "Epoch 35/1000\n",
      "\u001b[1m536/536\u001b[0m \u001b[32m━━━━━━━━━━━━━━━━━━━━\u001b[0m\u001b[37m\u001b[0m \u001b[1m2s\u001b[0m 3ms/step - accuracy: 0.8552 - loss: 0.3488 - val_accuracy: 0.8565 - val_loss: 0.3644\n",
      "Epoch 36/1000\n",
      "\u001b[1m536/536\u001b[0m \u001b[32m━━━━━━━━━━━━━━━━━━━━\u001b[0m\u001b[37m\u001b[0m \u001b[1m2s\u001b[0m 3ms/step - accuracy: 0.8545 - loss: 0.3451 - val_accuracy: 0.8470 - val_loss: 0.3874\n",
      "Epoch 37/1000\n",
      "\u001b[1m536/536\u001b[0m \u001b[32m━━━━━━━━━━━━━━━━━━━━\u001b[0m\u001b[37m\u001b[0m \u001b[1m2s\u001b[0m 3ms/step - accuracy: 0.8513 - loss: 0.3619 - val_accuracy: 0.8478 - val_loss: 0.3825\n",
      "Epoch 38/1000\n",
      "\u001b[1m536/536\u001b[0m \u001b[32m━━━━━━━━━━━━━━━━━━━━\u001b[0m\u001b[37m\u001b[0m \u001b[1m2s\u001b[0m 3ms/step - accuracy: 0.8560 - loss: 0.3542 - val_accuracy: 0.8466 - val_loss: 0.3732\n",
      "Epoch 39/1000\n",
      "\u001b[1m536/536\u001b[0m \u001b[32m━━━━━━━━━━━━━━━━━━━━\u001b[0m\u001b[37m\u001b[0m \u001b[1m2s\u001b[0m 3ms/step - accuracy: 0.8666 - loss: 0.3446 - val_accuracy: 0.8463 - val_loss: 0.3842\n",
      "Epoch 40/1000\n",
      "\u001b[1m536/536\u001b[0m \u001b[32m━━━━━━━━━━━━━━━━━━━━\u001b[0m\u001b[37m\u001b[0m \u001b[1m2s\u001b[0m 3ms/step - accuracy: 0.8438 - loss: 0.3652 - val_accuracy: 0.8485 - val_loss: 0.3775\n",
      "Epoch 41/1000\n",
      "\u001b[1m536/536\u001b[0m \u001b[32m━━━━━━━━━━━━━━━━━━━━\u001b[0m\u001b[37m\u001b[0m \u001b[1m2s\u001b[0m 3ms/step - accuracy: 0.8551 - loss: 0.3503 - val_accuracy: 0.8485 - val_loss: 0.3834\n",
      "Epoch 42/1000\n",
      "\u001b[1m536/536\u001b[0m \u001b[32m━━━━━━━━━━━━━━━━━━━━\u001b[0m\u001b[37m\u001b[0m \u001b[1m2s\u001b[0m 3ms/step - accuracy: 0.8464 - loss: 0.3691 - val_accuracy: 0.8448 - val_loss: 0.3981\n",
      "Epoch 43/1000\n",
      "\u001b[1m536/536\u001b[0m \u001b[32m━━━━━━━━━━━━━━━━━━━━\u001b[0m\u001b[37m\u001b[0m \u001b[1m2s\u001b[0m 4ms/step - accuracy: 0.8528 - loss: 0.3531 - val_accuracy: 0.8516 - val_loss: 0.3842\n",
      "Epoch 44/1000\n",
      "\u001b[1m536/536\u001b[0m \u001b[32m━━━━━━━━━━━━━━━━━━━━\u001b[0m\u001b[37m\u001b[0m \u001b[1m2s\u001b[0m 4ms/step - accuracy: 0.8572 - loss: 0.3472 - val_accuracy: 0.8455 - val_loss: 0.3837\n",
      "Epoch 45/1000\n",
      "\u001b[1m536/536\u001b[0m \u001b[32m━━━━━━━━━━━━━━━━━━━━\u001b[0m\u001b[37m\u001b[0m \u001b[1m2s\u001b[0m 4ms/step - accuracy: 0.8647 - loss: 0.3359 - val_accuracy: 0.8451 - val_loss: 0.3826\n",
      "Epoch 46/1000\n",
      "\u001b[1m536/536\u001b[0m \u001b[32m━━━━━━━━━━━━━━━━━━━━\u001b[0m\u001b[37m\u001b[0m \u001b[1m2s\u001b[0m 3ms/step - accuracy: 0.8630 - loss: 0.3373 - val_accuracy: 0.8448 - val_loss: 0.3891\n",
      "Epoch 47/1000\n",
      "\u001b[1m536/536\u001b[0m \u001b[32m━━━━━━━━━━━━━━━━━━━━\u001b[0m\u001b[37m\u001b[0m \u001b[1m2s\u001b[0m 3ms/step - accuracy: 0.8527 - loss: 0.3651 - val_accuracy: 0.8478 - val_loss: 0.3772\n",
      "Epoch 48/1000\n",
      "\u001b[1m536/536\u001b[0m \u001b[32m━━━━━━━━━━━━━━━━━━━━\u001b[0m\u001b[37m\u001b[0m \u001b[1m2s\u001b[0m 4ms/step - accuracy: 0.8626 - loss: 0.3414 - val_accuracy: 0.8466 - val_loss: 0.3813\n",
      "Epoch 49/1000\n",
      "\u001b[1m536/536\u001b[0m \u001b[32m━━━━━━━━━━━━━━━━━━━━\u001b[0m\u001b[37m\u001b[0m \u001b[1m2s\u001b[0m 3ms/step - accuracy: 0.8562 - loss: 0.3427 - val_accuracy: 0.8444 - val_loss: 0.3766\n",
      "Epoch 50/1000\n",
      "\u001b[1m536/536\u001b[0m \u001b[32m━━━━━━━━━━━━━━━━━━━━\u001b[0m\u001b[37m\u001b[0m \u001b[1m2s\u001b[0m 3ms/step - accuracy: 0.8551 - loss: 0.3398 - val_accuracy: 0.8516 - val_loss: 0.3883\n",
      "Epoch 51/1000\n",
      "\u001b[1m536/536\u001b[0m \u001b[32m━━━━━━━━━━━━━━━━━━━━\u001b[0m\u001b[37m\u001b[0m \u001b[1m2s\u001b[0m 3ms/step - accuracy: 0.8540 - loss: 0.3543 - val_accuracy: 0.8440 - val_loss: 0.3852\n",
      "Epoch 52/1000\n",
      "\u001b[1m536/536\u001b[0m \u001b[32m━━━━━━━━━━━━━━━━━━━━\u001b[0m\u001b[37m\u001b[0m \u001b[1m2s\u001b[0m 3ms/step - accuracy: 0.8568 - loss: 0.3504 - val_accuracy: 0.8489 - val_loss: 0.3784\n",
      "Epoch 53/1000\n",
      "\u001b[1m536/536\u001b[0m \u001b[32m━━━━━━━━━━━━━━━━━━━━\u001b[0m\u001b[37m\u001b[0m \u001b[1m2s\u001b[0m 3ms/step - accuracy: 0.8435 - loss: 0.3643 - val_accuracy: 0.8501 - val_loss: 0.3886\n",
      "Epoch 54/1000\n",
      "\u001b[1m536/536\u001b[0m \u001b[32m━━━━━━━━━━━━━━━━━━━━\u001b[0m\u001b[37m\u001b[0m \u001b[1m2s\u001b[0m 3ms/step - accuracy: 0.8446 - loss: 0.3618 - val_accuracy: 0.8436 - val_loss: 0.3825\n",
      "Epoch 55/1000\n",
      "\u001b[1m536/536\u001b[0m \u001b[32m━━━━━━━━━━━━━━━━━━━━\u001b[0m\u001b[37m\u001b[0m \u001b[1m2s\u001b[0m 3ms/step - accuracy: 0.8531 - loss: 0.3524 - val_accuracy: 0.8440 - val_loss: 0.3830\n",
      "Epoch 55: early stopping\n"
     ]
    }
   ],
   "source": [
    "model_history = classifier.fit(X_train,y_train,validation_split=0.33,batch_size=10,epochs=1000,callbacks=early_stopping)"
   ]
  },
  {
   "cell_type": "code",
   "execution_count": 89,
   "metadata": {},
   "outputs": [
    {
     "data": {
      "text/plain": [
       "dict_keys(['accuracy', 'loss', 'val_accuracy', 'val_loss'])"
      ]
     },
     "execution_count": 89,
     "metadata": {},
     "output_type": "execute_result"
    }
   ],
   "source": [
    "model_history.history.keys()"
   ]
  },
  {
   "cell_type": "code",
   "execution_count": 90,
   "metadata": {},
   "outputs": [
    {
     "data": {
      "image/png": "[encoded data removed]",
      "text/plain": [
       "<Figure size 640x480 with 1 Axes>"
      ]
     },
     "metadata": {},
     "output_type": "display_data"
    }
   ],
   "source": [
    "plt.plot(model_history.history['accuracy'])\n",
    "plt.plot(model_history.history['val_accuracy'])\n",
    "plt.xlabel('epochs')\n",
    "plt.ylabel('accuracy')\n",
    "plt.title(\"model accuracy\")\n",
    "plt.legend(['train','test'],loc='upper left')\n",
    "plt.show()"
   ]
  },
  {
   "cell_type": "code",
   "execution_count": 91,
   "metadata": {},
   "outputs": [
    {
     "data": {
      "image/png": "[encoded data removed]",
      "text/plain": [
       "<Figure size 640x480 with 1 Axes>"
      ]
     },
     "metadata": {},
     "output_type": "display_data"
    }
   ],
   "source": [
    "plt.plot(model_history.history['loss'])\n",
    "plt.plot(model_history.history['val_loss'])\n",
    "plt.xlabel('epochs')\n",
    "plt.ylabel('loss')\n",
    "plt.title(\"model loss\")\n",
    "plt.legend(['train','test'],loc='upper left')\n",
    "plt.show()"
   ]
  },
  {
   "cell_type": "code",
   "execution_count": 92,
   "metadata": {},
   "outputs": [
    {
     "name": "stdout",
     "output_type": "stream",
     "text": [
      "\u001b[1m63/63\u001b[0m \u001b[32m━━━━━━━━━━━━━━━━━━━━\u001b[0m\u001b[37m\u001b[0m \u001b[1m0s\u001b[0m 4ms/step\n"
     ]
    }
   ],
   "source": [
    "## Part 3 : Making the prediction and valuating the model\n",
    "\n",
    "# prediction the test set results\n",
    "y_pred = classifier.predict(X_test)\n",
    "y_pred = (y_pred>0.5)"
   ]
  },
  {
   "cell_type": "code",
   "execution_count": 93,
   "metadata": {},
   "outputs": [],
   "source": [
    "# make the confusion matrics\n",
    "from sklearn.metrics import confusion_matrix\n",
    "cm = confusion_matrix(y_test,y_pred)"
   ]
  },
  {
   "cell_type": "code",
   "execution_count": 94,
   "metadata": {},
   "outputs": [
    {
     "data": {
      "text/plain": [
       "array([[1567,   28],\n",
       "       [ 257,  148]])"
      ]
     },
     "execution_count": 94,
     "metadata": {},
     "output_type": "execute_result"
    }
   ],
   "source": [
    "cm"
   ]
  },
  {
   "cell_type": "code",
   "execution_count": 95,
   "metadata": {},
   "outputs": [
    {
     "data": {
      "text/plain": [
       "0.8575"
      ]
     },
     "execution_count": 95,
     "metadata": {},
     "output_type": "execute_result"
    }
   ],
   "source": [
    "from sklearn.metrics import accuracy_score\n",
    "score = accuracy_score(y_pred,y_test)\n",
    "score"
   ]
  },
  {
   "cell_type": "code",
   "execution_count": 96,
   "metadata": {},
   "outputs": [
    {
     "data": {
      "text/plain": [
       "[array([[-4.01941538e-01, -3.16190839e-01, -6.53283119e-01,\n",
       "          1.21843839e+00,  3.18900347e-01,  2.56024766e+00,\n",
       "          1.30038798e+00, -3.64890724e-01,  1.74664818e-02,\n",
       "         -3.10354352e-01, -9.80072320e-02],\n",
       "        [-1.63616538e-01,  1.66096485e+00, -2.41391897e+00,\n",
       "         -4.01341438e+00, -1.57846653e+00, -2.35748339e+00,\n",
       "         -1.52916300e+00, -4.71267128e+00, -2.87698126e+00,\n",
       "          2.34904599e+00, -1.36471123e-01],\n",
       "        [ 3.13354552e-01,  5.38737401e-02,  4.25226510e-01,\n",
       "          1.01028517e-01,  1.23449504e+00,  1.04181031e-02,\n",
       "          1.84235120e+00, -1.93441480e-01,  7.91296661e-01,\n",
       "          4.04491276e-02,  7.07122386e-01],\n",
       "        [-3.66618419e+00, -1.97890544e+00,  6.78574264e-01,\n",
       "          1.25624156e+00, -2.92962646e+00, -4.91251051e-01,\n",
       "          1.81022131e+00, -9.11484301e-01, -5.75452387e-01,\n",
       "          7.26878464e-01,  7.60865331e-01],\n",
       "        [-4.13690519e+00,  2.86951303e-01,  1.47792861e-01,\n",
       "         -3.18528563e-01,  2.98555102e-02,  3.72792855e-02,\n",
       "         -1.25195944e+00,  1.55526176e-01,  2.19614983e-01,\n",
       "         -5.07430613e-01,  4.19246864e+00],\n",
       "        [-4.86750722e-01,  6.65219873e-02,  3.65292281e-01,\n",
       "          3.27946901e-01, -1.37333524e+00,  1.45893240e+00,\n",
       "          2.20225200e-01, -4.67314363e-01, -3.09633374e-01,\n",
       "         -5.79100370e-01,  6.04144447e-02],\n",
       "        [-2.83581108e-01,  3.35654497e+00,  1.73521864e+00,\n",
       "         -1.35619247e+00, -8.86421353e-02, -7.10566118e-02,\n",
       "          5.05742252e-01, -2.23224133e-01, -6.36823595e-01,\n",
       "         -2.34021926e+00, -1.54624730e-01],\n",
       "        [ 6.34292305e-01,  3.90238941e-01,  9.80750620e-01,\n",
       "          1.63103962e+00, -1.07786715e+00,  1.34750056e+00,\n",
       "         -2.07279414e-01,  4.85364407e-01, -2.80574977e-01,\n",
       "          2.41385307e-02,  4.12758857e-01],\n",
       "        [ 1.95322704e+00, -4.90076125e-01,  1.22634518e+00,\n",
       "         -2.16122210e-01,  1.26817572e+00, -3.09934169e-01,\n",
       "         -6.54893994e-01,  1.26022291e+00, -3.59856749e+00,\n",
       "         -9.35943425e-01, -3.03133160e-01],\n",
       "        [ 7.31326118e-02, -2.30590114e-04,  4.12117749e-01,\n",
       "         -3.34809244e-01, -4.55809623e-01, -3.33312720e-01,\n",
       "          1.05663586e+00, -2.17684102e+00, -5.33438921e-01,\n",
       "         -2.35420391e-01,  5.53507745e-01],\n",
       "        [-8.08579326e-02,  7.17605352e-01,  7.74661958e-01,\n",
       "         -2.93895811e-01,  2.06827259e+00,  5.09967327e-01,\n",
       "          8.13822508e-01, -1.09464884e+00,  5.82142889e-01,\n",
       "          5.07390261e-01, -1.07796706e-01]], dtype=float32),\n",
       " array([-1.6178111 , -3.2322965 ,  0.49196497, -2.4024057 , -2.9665477 ,\n",
       "        -1.0379171 , -1.3264196 , -1.7953547 ,  1.6544455 , -2.2224839 ,\n",
       "        -4.526152  ], dtype=float32),\n",
       " array([[-1.4050893 , -2.0593834 ,  0.44502568,  0.17256543, -4.210248  ,\n",
       "         -1.3179731 , -1.4023769 ],\n",
       "        [ 1.1247482 ,  1.4489279 , -1.9214181 , -2.1294014 ,  0.3809194 ,\n",
       "         -0.07259843, -0.14544117],\n",
       "        [ 0.39911738,  0.8954374 , -0.7383208 , -1.041948  ,  0.36682764,\n",
       "          0.8511605 ,  0.52627957],\n",
       "        [ 0.27428   , -1.8506637 , -0.4298295 ,  0.26720616, -3.051249  ,\n",
       "         -1.0019804 , -0.07287288],\n",
       "        [ 1.0644001 ,  1.4306343 , -1.9837399 , -2.4357111 ,  1.9503307 ,\n",
       "          1.380321  ,  0.3557101 ],\n",
       "        [ 0.7847867 ,  0.82336944, -0.58463794,  0.42602447,  1.0040036 ,\n",
       "          1.2817885 ,  0.5629942 ],\n",
       "        [-0.71153516, -2.2760246 , -1.2913586 , -1.142873  ,  0.41819263,\n",
       "          0.38449037, -0.0875004 ],\n",
       "        [ 0.7072685 ,  0.502618  , -1.7210958 , -2.239582  , -0.43680158,\n",
       "          0.91022015,  0.27072805],\n",
       "        [ 0.9611655 , -0.15786797, -0.9981133 , -2.0776582 ,  0.34264007,\n",
       "          0.3599015 ,  0.7577902 ],\n",
       "        [-0.23777328,  0.3772236 ,  0.550407  ,  0.59872663, -1.2868863 ,\n",
       "         -1.8526983 , -0.67036295],\n",
       "        [-3.2704566 , -1.4609864 ,  2.02009   ,  2.289089  , -1.7120676 ,\n",
       "         -1.3684852 , -2.9629567 ]], dtype=float32),\n",
       " array([-0.282707  , -3.258273  ,  0.9224884 ,  0.2656456 , -0.6957297 ,\n",
       "        -0.15959173,  0.69654113], dtype=float32),\n",
       " array([[ 0.16395772, -0.77785265, -0.0594846 , -0.24837637, -0.6754697 ,\n",
       "          0.08524277],\n",
       "        [ 0.8074199 , -0.9405368 ,  1.2046255 , -0.8078252 , -0.18333296,\n",
       "          1.0982214 ],\n",
       "        [-1.9916909 ,  0.253134  , -1.4180865 ,  0.2953371 ,  0.2914801 ,\n",
       "         -2.296266  ],\n",
       "        [-0.9364609 ,  0.45260432, -1.5204186 ,  0.4638137 ,  0.45145157,\n",
       "         -0.9536841 ],\n",
       "        [ 0.60275465, -2.8151395 ,  0.65243465, -1.0644261 , -3.1074872 ,\n",
       "          0.54161656],\n",
       "        [-0.00643665, -1.4455245 , -0.15216926, -0.9232032 , -2.9289365 ,\n",
       "          0.15981184],\n",
       "        [ 0.06265019, -0.47298756,  0.285417  , -0.52622277, -2.9831302 ,\n",
       "          0.11181779]], dtype=float32),\n",
       " array([-0.23058626,  0.7893451 , -0.0949027 ,  1.1063175 ,  0.7434476 ,\n",
       "        -0.08986682], dtype=float32),\n",
       " array([[-0.06253117],\n",
       "        [ 0.27546477],\n",
       "        [-0.0874726 ],\n",
       "        [ 0.38693392],\n",
       "        [ 0.30616987],\n",
       "        [-0.06719416]], dtype=float32),\n",
       " array([-1.4055171], dtype=float32)]"
      ]
     },
     "execution_count": 96,
     "metadata": {},
     "output_type": "execute_result"
    }
   ],
   "source": [
    "## get the weights\n",
    "classifier.get_weights()"
   ]
  },
  {
   "cell_type": "code",
   "execution_count": null,
   "metadata": {},
   "outputs": [],
   "source": []
  }
 ],
 "metadata": {
  "kernelspec": {
   "display_name": ".venv",
   "language": "python",
   "name": "python3"
  },
  "language_info": {
   "codemirror_mode": {
    "name": "ipython",
    "version": 3
   },
   "file_extension": ".py",
   "mimetype": "text/x-python",
   "name": "python",
   "nbconvert_exporter": "python",
   "pygments_lexer": "ipython3",
   "version": "3.11.0"
  }
 },
 "nbformat": 4,
 "nbformat_minor": 2
}
