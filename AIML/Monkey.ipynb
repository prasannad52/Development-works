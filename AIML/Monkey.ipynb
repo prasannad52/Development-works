{
 "cells": [
  {
   "cell_type": "code",
   "execution_count": 2,
   "metadata": {},
   "outputs": [
    {
     "data": {
      "application/vnd.microsoft.datawrangler.viewer.v0+json": {
       "columns": [
        {
         "name": "index",
         "rawType": "int64",
         "type": "integer"
        },
        {
         "name": "_id",
         "rawType": "object",
         "type": "string"
        },
        {
         "name": "isPb",
         "rawType": "object",
         "type": "unknown"
        },
        {
         "name": "wpm",
         "rawType": "float64",
         "type": "float"
        },
        {
         "name": "acc",
         "rawType": "float64",
         "type": "float"
        },
        {
         "name": "rawWpm",
         "rawType": "float64",
         "type": "float"
        },
        {
         "name": "consistency",
         "rawType": "float64",
         "type": "float"
        },
        {
         "name": "charStats",
         "rawType": "object",
         "type": "string"
        },
        {
         "name": "mode",
         "rawType": "object",
         "type": "string"
        },
        {
         "name": "mode2",
         "rawType": "int64",
         "type": "integer"
        },
        {
         "name": "quoteLength",
         "rawType": "int64",
         "type": "integer"
        },
        {
         "name": "restartCount",
         "rawType": "int64",
         "type": "integer"
        },
        {
         "name": "testDuration",
         "rawType": "float64",
         "type": "float"
        },
        {
         "name": "afkDuration",
         "rawType": "int64",
         "type": "integer"
        },
        {
         "name": "incompleteTestSeconds",
         "rawType": "float64",
         "type": "float"
        },
        {
         "name": "punctuation",
         "rawType": "bool",
         "type": "boolean"
        },
        {
         "name": "numbers",
         "rawType": "bool",
         "type": "boolean"
        },
        {
         "name": "language",
         "rawType": "object",
         "type": "string"
        },
        {
         "name": "funbox",
         "rawType": "object",
         "type": "string"
        },
        {
         "name": "difficulty",
         "rawType": "object",
         "type": "string"
        },
        {
         "name": "lazyMode",
         "rawType": "bool",
         "type": "boolean"
        },
        {
         "name": "blindMode",
         "rawType": "bool",
         "type": "boolean"
        },
        {
         "name": "bailedOut",
         "rawType": "bool",
         "type": "boolean"
        },
        {
         "name": "tags",
         "rawType": "float64",
         "type": "float"
        },
        {
         "name": "timestamp",
         "rawType": "int64",
         "type": "integer"
        }
       ],
       "conversionMethod": "pd.DataFrame",
       "ref": "3370b4e1-0fd7-4491-acfe-10afe2f52c58",
       "rows": [
        [
         "0",
         "67f005271b4e1d1a3852de28",
         null,
         "76.52",
         "92.2",
         "76.52",
         "69.12",
         "130;0;0;0",
         "words",
         "25",
         "-1",
         "23",
         "20.39",
         "0",
         "74.42",
         "False",
         "False",
         "english",
         "none",
         "normal",
         "False",
         "False",
         "False",
         null,
         "1743783207000"
        ],
        [
         "1",
         "67f0046c1b4e1d1a3852d0c8",
         null,
         "83.43",
         "99.17",
         "83.43",
         "69.11",
         "120;0;0;0",
         "words",
         "25",
         "-1",
         "3",
         "17.26",
         "0",
         "4.1",
         "False",
         "False",
         "english",
         "none",
         "normal",
         "False",
         "False",
         "False",
         null,
         "1743783020000"
        ],
        [
         "2",
         "67f0044f1b4e1d1a3852ceb8",
         null,
         "60.91",
         "85.43",
         "60.91",
         "51.15",
         "128;0;0;0",
         "words",
         "25",
         "-1",
         "2",
         "25.22",
         "0",
         "7.55",
         "False",
         "False",
         "english",
         "none",
         "normal",
         "False",
         "False",
         "False",
         null,
         "1743782991000"
        ],
        [
         "3",
         "67ee7f0a1b4e1d1a383fb9aa",
         null,
         "58.9",
         "85.06",
         "58.9",
         "57.14",
         "128;0;0;0",
         "words",
         "25",
         "-1",
         "1",
         "26.08",
         "0",
         "2.72",
         "False",
         "False",
         "english",
         "none",
         "normal",
         "False",
         "False",
         "False",
         null,
         "1743683338000"
        ],
        [
         "4",
         "67ee7eea1b4e1d1a383fb7ff",
         null,
         "73.17",
         "92.25",
         "73.17",
         "63.21",
         "128;0;0;0",
         "words",
         "25",
         "-1",
         "3",
         "20.99",
         "0",
         "17.47",
         "False",
         "False",
         "english",
         "none",
         "normal",
         "False",
         "False",
         "False",
         null,
         "1743683306000"
        ]
       ],
       "shape": {
        "columns": 24,
        "rows": 5
       }
      },
      "text/html": [
       "<div>\n",
       "<style scoped>\n",
       "    .dataframe tbody tr th:only-of-type {\n",
       "        vertical-align: middle;\n",
       "    }\n",
       "\n",
       "    .dataframe tbody tr th {\n",
       "        vertical-align: top;\n",
       "    }\n",
       "\n",
       "    .dataframe thead th {\n",
       "        text-align: right;\n",
       "    }\n",
       "</style>\n",
       "<table border=\"1\" class=\"dataframe\">\n",
       "  <thead>\n",
       "    <tr style=\"text-align: right;\">\n",
       "      <th></th>\n",
       "      <th>_id</th>\n",
       "      <th>isPb</th>\n",
       "      <th>wpm</th>\n",
       "      <th>acc</th>\n",
       "      <th>rawWpm</th>\n",
       "      <th>consistency</th>\n",
       "      <th>charStats</th>\n",
       "      <th>mode</th>\n",
       "      <th>mode2</th>\n",
       "      <th>quoteLength</th>\n",
       "      <th>...</th>\n",
       "      <th>punctuation</th>\n",
       "      <th>numbers</th>\n",
       "      <th>language</th>\n",
       "      <th>funbox</th>\n",
       "      <th>difficulty</th>\n",
       "      <th>lazyMode</th>\n",
       "      <th>blindMode</th>\n",
       "      <th>bailedOut</th>\n",
       "      <th>tags</th>\n",
       "      <th>timestamp</th>\n",
       "    </tr>\n",
       "  </thead>\n",
       "  <tbody>\n",
       "    <tr>\n",
       "      <th>0</th>\n",
       "      <td>67f005271b4e1d1a3852de28</td>\n",
       "      <td>NaN</td>\n",
       "      <td>76.52</td>\n",
       "      <td>92.20</td>\n",
       "      <td>76.52</td>\n",
       "      <td>69.12</td>\n",
       "      <td>130;0;0;0</td>\n",
       "      <td>words</td>\n",
       "      <td>25</td>\n",
       "      <td>-1</td>\n",
       "      <td>...</td>\n",
       "      <td>False</td>\n",
       "      <td>False</td>\n",
       "      <td>english</td>\n",
       "      <td>none</td>\n",
       "      <td>normal</td>\n",
       "      <td>False</td>\n",
       "      <td>False</td>\n",
       "      <td>False</td>\n",
       "      <td>NaN</td>\n",
       "      <td>1743783207000</td>\n",
       "    </tr>\n",
       "    <tr>\n",
       "      <th>1</th>\n",
       "      <td>67f0046c1b4e1d1a3852d0c8</td>\n",
       "      <td>NaN</td>\n",
       "      <td>83.43</td>\n",
       "      <td>99.17</td>\n",
       "      <td>83.43</td>\n",
       "      <td>69.11</td>\n",
       "      <td>120;0;0;0</td>\n",
       "      <td>words</td>\n",
       "      <td>25</td>\n",
       "      <td>-1</td>\n",
       "      <td>...</td>\n",
       "      <td>False</td>\n",
       "      <td>False</td>\n",
       "      <td>english</td>\n",
       "      <td>none</td>\n",
       "      <td>normal</td>\n",
       "      <td>False</td>\n",
       "      <td>False</td>\n",
       "      <td>False</td>\n",
       "      <td>NaN</td>\n",
       "      <td>1743783020000</td>\n",
       "    </tr>\n",
       "    <tr>\n",
       "      <th>2</th>\n",
       "      <td>67f0044f1b4e1d1a3852ceb8</td>\n",
       "      <td>NaN</td>\n",
       "      <td>60.91</td>\n",
       "      <td>85.43</td>\n",
       "      <td>60.91</td>\n",
       "      <td>51.15</td>\n",
       "      <td>128;0;0;0</td>\n",
       "      <td>words</td>\n",
       "      <td>25</td>\n",
       "      <td>-1</td>\n",
       "      <td>...</td>\n",
       "      <td>False</td>\n",
       "      <td>False</td>\n",
       "      <td>english</td>\n",
       "      <td>none</td>\n",
       "      <td>normal</td>\n",
       "      <td>False</td>\n",
       "      <td>False</td>\n",
       "      <td>False</td>\n",
       "      <td>NaN</td>\n",
       "      <td>1743782991000</td>\n",
       "    </tr>\n",
       "    <tr>\n",
       "      <th>3</th>\n",
       "      <td>67ee7f0a1b4e1d1a383fb9aa</td>\n",
       "      <td>NaN</td>\n",
       "      <td>58.90</td>\n",
       "      <td>85.06</td>\n",
       "      <td>58.90</td>\n",
       "      <td>57.14</td>\n",
       "      <td>128;0;0;0</td>\n",
       "      <td>words</td>\n",
       "      <td>25</td>\n",
       "      <td>-1</td>\n",
       "      <td>...</td>\n",
       "      <td>False</td>\n",
       "      <td>False</td>\n",
       "      <td>english</td>\n",
       "      <td>none</td>\n",
       "      <td>normal</td>\n",
       "      <td>False</td>\n",
       "      <td>False</td>\n",
       "      <td>False</td>\n",
       "      <td>NaN</td>\n",
       "      <td>1743683338000</td>\n",
       "    </tr>\n",
       "    <tr>\n",
       "      <th>4</th>\n",
       "      <td>67ee7eea1b4e1d1a383fb7ff</td>\n",
       "      <td>NaN</td>\n",
       "      <td>73.17</td>\n",
       "      <td>92.25</td>\n",
       "      <td>73.17</td>\n",
       "      <td>63.21</td>\n",
       "      <td>128;0;0;0</td>\n",
       "      <td>words</td>\n",
       "      <td>25</td>\n",
       "      <td>-1</td>\n",
       "      <td>...</td>\n",
       "      <td>False</td>\n",
       "      <td>False</td>\n",
       "      <td>english</td>\n",
       "      <td>none</td>\n",
       "      <td>normal</td>\n",
       "      <td>False</td>\n",
       "      <td>False</td>\n",
       "      <td>False</td>\n",
       "      <td>NaN</td>\n",
       "      <td>1743683306000</td>\n",
       "    </tr>\n",
       "  </tbody>\n",
       "</table>\n",
       "<p>5 rows × 24 columns</p>\n",
       "</div>"
      ],
      "text/plain": [
       "                        _id isPb    wpm    acc  rawWpm  consistency  \\\n",
       "0  67f005271b4e1d1a3852de28  NaN  76.52  92.20   76.52        69.12   \n",
       "1  67f0046c1b4e1d1a3852d0c8  NaN  83.43  99.17   83.43        69.11   \n",
       "2  67f0044f1b4e1d1a3852ceb8  NaN  60.91  85.43   60.91        51.15   \n",
       "3  67ee7f0a1b4e1d1a383fb9aa  NaN  58.90  85.06   58.90        57.14   \n",
       "4  67ee7eea1b4e1d1a383fb7ff  NaN  73.17  92.25   73.17        63.21   \n",
       "\n",
       "   charStats   mode  mode2  quoteLength  ...  punctuation  numbers  language  \\\n",
       "0  130;0;0;0  words     25           -1  ...        False    False   english   \n",
       "1  120;0;0;0  words     25           -1  ...        False    False   english   \n",
       "2  128;0;0;0  words     25           -1  ...        False    False   english   \n",
       "3  128;0;0;0  words     25           -1  ...        False    False   english   \n",
       "4  128;0;0;0  words     25           -1  ...        False    False   english   \n",
       "\n",
       "   funbox  difficulty  lazyMode blindMode bailedOut tags      timestamp  \n",
       "0    none      normal     False     False     False  NaN  1743783207000  \n",
       "1    none      normal     False     False     False  NaN  1743783020000  \n",
       "2    none      normal     False     False     False  NaN  1743782991000  \n",
       "3    none      normal     False     False     False  NaN  1743683338000  \n",
       "4    none      normal     False     False     False  NaN  1743683306000  \n",
       "\n",
       "[5 rows x 24 columns]"
      ]
     },
     "execution_count": 2,
     "metadata": {},
     "output_type": "execute_result"
    }
   ],
   "source": [
    "import pandas as pd\n",
    "data = pd.read_csv('results.csv')\n",
    "data.head()"
   ]
  },
  {
   "cell_type": "code",
   "execution_count": 3,
   "metadata": {},
   "outputs": [
    {
     "name": "stdout",
     "output_type": "stream",
     "text": [
      "<class 'pandas.core.frame.DataFrame'>\n",
      "RangeIndex: 1000 entries, 0 to 999\n",
      "Data columns (total 24 columns):\n",
      " #   Column                 Non-Null Count  Dtype  \n",
      "---  ------                 --------------  -----  \n",
      " 0   _id                    1000 non-null   object \n",
      " 1   isPb                   6 non-null      object \n",
      " 2   wpm                    1000 non-null   float64\n",
      " 3   acc                    1000 non-null   float64\n",
      " 4   rawWpm                 1000 non-null   float64\n",
      " 5   consistency            1000 non-null   float64\n",
      " 6   charStats              1000 non-null   object \n",
      " 7   mode                   1000 non-null   object \n",
      " 8   mode2                  1000 non-null   int64  \n",
      " 9   quoteLength            1000 non-null   int64  \n",
      " 10  restartCount           1000 non-null   int64  \n",
      " 11  testDuration           1000 non-null   float64\n",
      " 12  afkDuration            1000 non-null   int64  \n",
      " 13  incompleteTestSeconds  1000 non-null   float64\n",
      " 14  punctuation            1000 non-null   bool   \n",
      " 15  numbers                1000 non-null   bool   \n",
      " 16  language               1000 non-null   object \n",
      " 17  funbox                 1000 non-null   object \n",
      " 18  difficulty             1000 non-null   object \n",
      " 19  lazyMode               1000 non-null   bool   \n",
      " 20  blindMode              1000 non-null   bool   \n",
      " 21  bailedOut              1000 non-null   bool   \n",
      " 22  tags                   0 non-null      float64\n",
      " 23  timestamp              1000 non-null   int64  \n",
      "dtypes: bool(5), float64(7), int64(5), object(7)\n",
      "memory usage: 153.4+ KB\n"
     ]
    }
   ],
   "source": [
    "data.info()"
   ]
  },
  {
   "cell_type": "code",
   "execution_count": 4,
   "metadata": {},
   "outputs": [
    {
     "data": {
      "text/plain": [
       "Index(['_id', 'isPb', 'wpm', 'acc', 'rawWpm', 'consistency', 'charStats',\n",
       "       'mode', 'mode2', 'quoteLength', 'restartCount', 'testDuration',\n",
       "       'afkDuration', 'incompleteTestSeconds', 'punctuation', 'numbers',\n",
       "       'language', 'funbox', 'difficulty', 'lazyMode', 'blindMode',\n",
       "       'bailedOut', 'tags', 'timestamp'],\n",
       "      dtype='object')"
      ]
     },
     "execution_count": 4,
     "metadata": {},
     "output_type": "execute_result"
    }
   ],
   "source": [
    "data.columns"
   ]
  },
  {
   "cell_type": "code",
   "execution_count": 5,
   "metadata": {},
   "outputs": [
    {
     "data": {
      "application/vnd.microsoft.datawrangler.viewer.v0+json": {
       "columns": [
        {
         "name": "index",
         "rawType": "object",
         "type": "string"
        },
        {
         "name": "wpm",
         "rawType": "float64",
         "type": "float"
        },
        {
         "name": "acc",
         "rawType": "float64",
         "type": "float"
        },
        {
         "name": "rawWpm",
         "rawType": "float64",
         "type": "float"
        },
        {
         "name": "consistency",
         "rawType": "float64",
         "type": "float"
        },
        {
         "name": "mode2",
         "rawType": "float64",
         "type": "float"
        },
        {
         "name": "quoteLength",
         "rawType": "float64",
         "type": "float"
        },
        {
         "name": "restartCount",
         "rawType": "float64",
         "type": "float"
        },
        {
         "name": "testDuration",
         "rawType": "float64",
         "type": "float"
        },
        {
         "name": "afkDuration",
         "rawType": "float64",
         "type": "float"
        },
        {
         "name": "incompleteTestSeconds",
         "rawType": "float64",
         "type": "float"
        },
        {
         "name": "tags",
         "rawType": "float64",
         "type": "float"
        },
        {
         "name": "timestamp",
         "rawType": "float64",
         "type": "float"
        }
       ],
       "conversionMethod": "pd.DataFrame",
       "ref": "c6d70144-915a-4e32-b2ef-7a6544958e29",
       "rows": [
        [
         "count",
         "1000.0",
         "1000.0",
         "1000.0",
         "1000.0",
         "1000.0",
         "1000.0",
         "1000.0",
         "1000.0",
         "1000.0",
         "1000.0",
         "0.0",
         "1000.0"
        ],
        [
         "mean",
         "57.19272",
         "91.12536",
         "57.3804",
         "62.09832000000001",
         "25.35",
         "-1.0",
         "3.925",
         "27.95264",
         "0.027",
         "23.44246",
         null,
         "1731454016466.0"
        ],
        [
         "std",
         "7.122619019946476",
         "3.3563562978322192",
         "7.212801490776337",
         "5.599564813778273",
         "4.460649885094929",
         "0.0",
         "5.767377015389026",
         "7.047039179087314",
         "0.17973119735678417",
         "32.91127205345574",
         null,
         "5362679501.821247"
        ],
        [
         "min",
         "23.49",
         "78.24",
         "23.49",
         "38.67",
         "25.0",
         "-1.0",
         "0.0",
         "17.26",
         "0.0",
         "0.0",
         null,
         "1724046464000.0"
        ],
        [
         "25%",
         "52.425",
         "88.81",
         "52.587500000000006",
         "58.7275",
         "25.0",
         "-1.0",
         "0.0",
         "24.785",
         "0.0",
         "0.0",
         null,
         "1727532634250.0"
        ],
        [
         "50%",
         "56.64",
         "91.28999999999999",
         "56.85",
         "62.004999999999995",
         "25.0",
         "-1.0",
         "2.0",
         "27.38",
         "0.0",
         "10.83",
         null,
         "1729915055000.0"
        ],
        [
         "75%",
         "61.58",
         "93.515",
         "61.7925",
         "65.6325",
         "25.0",
         "-1.0",
         "5.0",
         "29.81",
         "0.0",
         "33.0425",
         null,
         "1734527697750.0"
        ],
        [
         "max",
         "85.08",
         "99.25",
         "85.08",
         "78.14",
         "100.0",
         "-1.0",
         "42.0",
         "134.0",
         "3.0",
         "301.11",
         null,
         "1743783207000.0"
        ]
       ],
       "shape": {
        "columns": 12,
        "rows": 8
       }
      },
      "text/html": [
       "<div>\n",
       "<style scoped>\n",
       "    .dataframe tbody tr th:only-of-type {\n",
       "        vertical-align: middle;\n",
       "    }\n",
       "\n",
       "    .dataframe tbody tr th {\n",
       "        vertical-align: top;\n",
       "    }\n",
       "\n",
       "    .dataframe thead th {\n",
       "        text-align: right;\n",
       "    }\n",
       "</style>\n",
       "<table border=\"1\" class=\"dataframe\">\n",
       "  <thead>\n",
       "    <tr style=\"text-align: right;\">\n",
       "      <th></th>\n",
       "      <th>wpm</th>\n",
       "      <th>acc</th>\n",
       "      <th>rawWpm</th>\n",
       "      <th>consistency</th>\n",
       "      <th>mode2</th>\n",
       "      <th>quoteLength</th>\n",
       "      <th>restartCount</th>\n",
       "      <th>testDuration</th>\n",
       "      <th>afkDuration</th>\n",
       "      <th>incompleteTestSeconds</th>\n",
       "      <th>tags</th>\n",
       "      <th>timestamp</th>\n",
       "    </tr>\n",
       "  </thead>\n",
       "  <tbody>\n",
       "    <tr>\n",
       "      <th>count</th>\n",
       "      <td>1000.000000</td>\n",
       "      <td>1000.000000</td>\n",
       "      <td>1000.000000</td>\n",
       "      <td>1000.000000</td>\n",
       "      <td>1000.00000</td>\n",
       "      <td>1000.0</td>\n",
       "      <td>1000.000000</td>\n",
       "      <td>1000.000000</td>\n",
       "      <td>1000.000000</td>\n",
       "      <td>1000.000000</td>\n",
       "      <td>0.0</td>\n",
       "      <td>1.000000e+03</td>\n",
       "    </tr>\n",
       "    <tr>\n",
       "      <th>mean</th>\n",
       "      <td>57.192720</td>\n",
       "      <td>91.125360</td>\n",
       "      <td>57.380400</td>\n",
       "      <td>62.098320</td>\n",
       "      <td>25.35000</td>\n",
       "      <td>-1.0</td>\n",
       "      <td>3.925000</td>\n",
       "      <td>27.952640</td>\n",
       "      <td>0.027000</td>\n",
       "      <td>23.442460</td>\n",
       "      <td>NaN</td>\n",
       "      <td>1.731454e+12</td>\n",
       "    </tr>\n",
       "    <tr>\n",
       "      <th>std</th>\n",
       "      <td>7.122619</td>\n",
       "      <td>3.356356</td>\n",
       "      <td>7.212801</td>\n",
       "      <td>5.599565</td>\n",
       "      <td>4.46065</td>\n",
       "      <td>0.0</td>\n",
       "      <td>5.767377</td>\n",
       "      <td>7.047039</td>\n",
       "      <td>0.179731</td>\n",
       "      <td>32.911272</td>\n",
       "      <td>NaN</td>\n",
       "      <td>5.362680e+09</td>\n",
       "    </tr>\n",
       "    <tr>\n",
       "      <th>min</th>\n",
       "      <td>23.490000</td>\n",
       "      <td>78.240000</td>\n",
       "      <td>23.490000</td>\n",
       "      <td>38.670000</td>\n",
       "      <td>25.00000</td>\n",
       "      <td>-1.0</td>\n",
       "      <td>0.000000</td>\n",
       "      <td>17.260000</td>\n",
       "      <td>0.000000</td>\n",
       "      <td>0.000000</td>\n",
       "      <td>NaN</td>\n",
       "      <td>1.724046e+12</td>\n",
       "    </tr>\n",
       "    <tr>\n",
       "      <th>25%</th>\n",
       "      <td>52.425000</td>\n",
       "      <td>88.810000</td>\n",
       "      <td>52.587500</td>\n",
       "      <td>58.727500</td>\n",
       "      <td>25.00000</td>\n",
       "      <td>-1.0</td>\n",
       "      <td>0.000000</td>\n",
       "      <td>24.785000</td>\n",
       "      <td>0.000000</td>\n",
       "      <td>0.000000</td>\n",
       "      <td>NaN</td>\n",
       "      <td>1.727533e+12</td>\n",
       "    </tr>\n",
       "    <tr>\n",
       "      <th>50%</th>\n",
       "      <td>56.640000</td>\n",
       "      <td>91.290000</td>\n",
       "      <td>56.850000</td>\n",
       "      <td>62.005000</td>\n",
       "      <td>25.00000</td>\n",
       "      <td>-1.0</td>\n",
       "      <td>2.000000</td>\n",
       "      <td>27.380000</td>\n",
       "      <td>0.000000</td>\n",
       "      <td>10.830000</td>\n",
       "      <td>NaN</td>\n",
       "      <td>1.729915e+12</td>\n",
       "    </tr>\n",
       "    <tr>\n",
       "      <th>75%</th>\n",
       "      <td>61.580000</td>\n",
       "      <td>93.515000</td>\n",
       "      <td>61.792500</td>\n",
       "      <td>65.632500</td>\n",
       "      <td>25.00000</td>\n",
       "      <td>-1.0</td>\n",
       "      <td>5.000000</td>\n",
       "      <td>29.810000</td>\n",
       "      <td>0.000000</td>\n",
       "      <td>33.042500</td>\n",
       "      <td>NaN</td>\n",
       "      <td>1.734528e+12</td>\n",
       "    </tr>\n",
       "    <tr>\n",
       "      <th>max</th>\n",
       "      <td>85.080000</td>\n",
       "      <td>99.250000</td>\n",
       "      <td>85.080000</td>\n",
       "      <td>78.140000</td>\n",
       "      <td>100.00000</td>\n",
       "      <td>-1.0</td>\n",
       "      <td>42.000000</td>\n",
       "      <td>134.000000</td>\n",
       "      <td>3.000000</td>\n",
       "      <td>301.110000</td>\n",
       "      <td>NaN</td>\n",
       "      <td>1.743783e+12</td>\n",
       "    </tr>\n",
       "  </tbody>\n",
       "</table>\n",
       "</div>"
      ],
      "text/plain": [
       "               wpm          acc       rawWpm  consistency       mode2  \\\n",
       "count  1000.000000  1000.000000  1000.000000  1000.000000  1000.00000   \n",
       "mean     57.192720    91.125360    57.380400    62.098320    25.35000   \n",
       "std       7.122619     3.356356     7.212801     5.599565     4.46065   \n",
       "min      23.490000    78.240000    23.490000    38.670000    25.00000   \n",
       "25%      52.425000    88.810000    52.587500    58.727500    25.00000   \n",
       "50%      56.640000    91.290000    56.850000    62.005000    25.00000   \n",
       "75%      61.580000    93.515000    61.792500    65.632500    25.00000   \n",
       "max      85.080000    99.250000    85.080000    78.140000   100.00000   \n",
       "\n",
       "       quoteLength  restartCount  testDuration  afkDuration  \\\n",
       "count       1000.0   1000.000000   1000.000000  1000.000000   \n",
       "mean          -1.0      3.925000     27.952640     0.027000   \n",
       "std            0.0      5.767377      7.047039     0.179731   \n",
       "min           -1.0      0.000000     17.260000     0.000000   \n",
       "25%           -1.0      0.000000     24.785000     0.000000   \n",
       "50%           -1.0      2.000000     27.380000     0.000000   \n",
       "75%           -1.0      5.000000     29.810000     0.000000   \n",
       "max           -1.0     42.000000    134.000000     3.000000   \n",
       "\n",
       "       incompleteTestSeconds  tags     timestamp  \n",
       "count            1000.000000   0.0  1.000000e+03  \n",
       "mean               23.442460   NaN  1.731454e+12  \n",
       "std                32.911272   NaN  5.362680e+09  \n",
       "min                 0.000000   NaN  1.724046e+12  \n",
       "25%                 0.000000   NaN  1.727533e+12  \n",
       "50%                10.830000   NaN  1.729915e+12  \n",
       "75%                33.042500   NaN  1.734528e+12  \n",
       "max               301.110000   NaN  1.743783e+12  "
      ]
     },
     "execution_count": 5,
     "metadata": {},
     "output_type": "execute_result"
    }
   ],
   "source": [
    "data.describe()"
   ]
  },
  {
   "cell_type": "code",
   "execution_count": 6,
   "metadata": {},
   "outputs": [
    {
     "data": {
      "text/plain": [
       "_id                         0\n",
       "isPb                      994\n",
       "wpm                         0\n",
       "acc                         0\n",
       "rawWpm                      0\n",
       "consistency                 0\n",
       "charStats                   0\n",
       "mode                        0\n",
       "mode2                       0\n",
       "quoteLength                 0\n",
       "restartCount                0\n",
       "testDuration                0\n",
       "afkDuration                 0\n",
       "incompleteTestSeconds       0\n",
       "punctuation                 0\n",
       "numbers                     0\n",
       "language                    0\n",
       "funbox                      0\n",
       "difficulty                  0\n",
       "lazyMode                    0\n",
       "blindMode                   0\n",
       "bailedOut                   0\n",
       "tags                     1000\n",
       "timestamp                   0\n",
       "dtype: int64"
      ]
     },
     "execution_count": 6,
     "metadata": {},
     "output_type": "execute_result"
    }
   ],
   "source": [
    "data.isnull().sum()"
   ]
  },
  {
   "cell_type": "code",
   "execution_count": 7,
   "metadata": {},
   "outputs": [],
   "source": [
    "data = data.drop(columns=['tags','isPb'])"
   ]
  },
  {
   "cell_type": "code",
   "execution_count": 8,
   "metadata": {},
   "outputs": [
    {
     "data": {
      "application/vnd.microsoft.datawrangler.viewer.v0+json": {
       "columns": [
        {
         "name": "index",
         "rawType": "int64",
         "type": "integer"
        },
        {
         "name": "_id",
         "rawType": "object",
         "type": "string"
        },
        {
         "name": "wpm",
         "rawType": "float64",
         "type": "float"
        },
        {
         "name": "acc",
         "rawType": "float64",
         "type": "float"
        },
        {
         "name": "rawWpm",
         "rawType": "float64",
         "type": "float"
        },
        {
         "name": "consistency",
         "rawType": "float64",
         "type": "float"
        },
        {
         "name": "charStats",
         "rawType": "object",
         "type": "string"
        },
        {
         "name": "mode",
         "rawType": "object",
         "type": "string"
        },
        {
         "name": "mode2",
         "rawType": "int64",
         "type": "integer"
        },
        {
         "name": "quoteLength",
         "rawType": "int64",
         "type": "integer"
        },
        {
         "name": "restartCount",
         "rawType": "int64",
         "type": "integer"
        },
        {
         "name": "testDuration",
         "rawType": "float64",
         "type": "float"
        },
        {
         "name": "afkDuration",
         "rawType": "int64",
         "type": "integer"
        },
        {
         "name": "incompleteTestSeconds",
         "rawType": "float64",
         "type": "float"
        },
        {
         "name": "punctuation",
         "rawType": "bool",
         "type": "boolean"
        },
        {
         "name": "numbers",
         "rawType": "bool",
         "type": "boolean"
        },
        {
         "name": "language",
         "rawType": "object",
         "type": "string"
        },
        {
         "name": "funbox",
         "rawType": "object",
         "type": "string"
        },
        {
         "name": "difficulty",
         "rawType": "object",
         "type": "string"
        },
        {
         "name": "lazyMode",
         "rawType": "bool",
         "type": "boolean"
        },
        {
         "name": "blindMode",
         "rawType": "bool",
         "type": "boolean"
        },
        {
         "name": "bailedOut",
         "rawType": "bool",
         "type": "boolean"
        },
        {
         "name": "timestamp",
         "rawType": "int64",
         "type": "integer"
        }
       ],
       "conversionMethod": "pd.DataFrame",
       "ref": "5c5907a3-8c6a-45c2-9de7-86934db119d2",
       "rows": [
        [
         "0",
         "67f005271b4e1d1a3852de28",
         "76.52",
         "92.2",
         "76.52",
         "69.12",
         "130;0;0;0",
         "words",
         "25",
         "-1",
         "23",
         "20.39",
         "0",
         "74.42",
         "False",
         "False",
         "english",
         "none",
         "normal",
         "False",
         "False",
         "False",
         "1743783207000"
        ],
        [
         "1",
         "67f0046c1b4e1d1a3852d0c8",
         "83.43",
         "99.17",
         "83.43",
         "69.11",
         "120;0;0;0",
         "words",
         "25",
         "-1",
         "3",
         "17.26",
         "0",
         "4.1",
         "False",
         "False",
         "english",
         "none",
         "normal",
         "False",
         "False",
         "False",
         "1743783020000"
        ],
        [
         "2",
         "67f0044f1b4e1d1a3852ceb8",
         "60.91",
         "85.43",
         "60.91",
         "51.15",
         "128;0;0;0",
         "words",
         "25",
         "-1",
         "2",
         "25.22",
         "0",
         "7.55",
         "False",
         "False",
         "english",
         "none",
         "normal",
         "False",
         "False",
         "False",
         "1743782991000"
        ],
        [
         "3",
         "67ee7f0a1b4e1d1a383fb9aa",
         "58.9",
         "85.06",
         "58.9",
         "57.14",
         "128;0;0;0",
         "words",
         "25",
         "-1",
         "1",
         "26.08",
         "0",
         "2.72",
         "False",
         "False",
         "english",
         "none",
         "normal",
         "False",
         "False",
         "False",
         "1743683338000"
        ],
        [
         "4",
         "67ee7eea1b4e1d1a383fb7ff",
         "73.17",
         "92.25",
         "73.17",
         "63.21",
         "128;0;0;0",
         "words",
         "25",
         "-1",
         "3",
         "20.99",
         "0",
         "17.47",
         "False",
         "False",
         "english",
         "none",
         "normal",
         "False",
         "False",
         "False",
         "1743683306000"
        ]
       ],
       "shape": {
        "columns": 22,
        "rows": 5
       }
      },
      "text/html": [
       "<div>\n",
       "<style scoped>\n",
       "    .dataframe tbody tr th:only-of-type {\n",
       "        vertical-align: middle;\n",
       "    }\n",
       "\n",
       "    .dataframe tbody tr th {\n",
       "        vertical-align: top;\n",
       "    }\n",
       "\n",
       "    .dataframe thead th {\n",
       "        text-align: right;\n",
       "    }\n",
       "</style>\n",
       "<table border=\"1\" class=\"dataframe\">\n",
       "  <thead>\n",
       "    <tr style=\"text-align: right;\">\n",
       "      <th></th>\n",
       "      <th>_id</th>\n",
       "      <th>wpm</th>\n",
       "      <th>acc</th>\n",
       "      <th>rawWpm</th>\n",
       "      <th>consistency</th>\n",
       "      <th>charStats</th>\n",
       "      <th>mode</th>\n",
       "      <th>mode2</th>\n",
       "      <th>quoteLength</th>\n",
       "      <th>restartCount</th>\n",
       "      <th>...</th>\n",
       "      <th>incompleteTestSeconds</th>\n",
       "      <th>punctuation</th>\n",
       "      <th>numbers</th>\n",
       "      <th>language</th>\n",
       "      <th>funbox</th>\n",
       "      <th>difficulty</th>\n",
       "      <th>lazyMode</th>\n",
       "      <th>blindMode</th>\n",
       "      <th>bailedOut</th>\n",
       "      <th>timestamp</th>\n",
       "    </tr>\n",
       "  </thead>\n",
       "  <tbody>\n",
       "    <tr>\n",
       "      <th>0</th>\n",
       "      <td>67f005271b4e1d1a3852de28</td>\n",
       "      <td>76.52</td>\n",
       "      <td>92.20</td>\n",
       "      <td>76.52</td>\n",
       "      <td>69.12</td>\n",
       "      <td>130;0;0;0</td>\n",
       "      <td>words</td>\n",
       "      <td>25</td>\n",
       "      <td>-1</td>\n",
       "      <td>23</td>\n",
       "      <td>...</td>\n",
       "      <td>74.42</td>\n",
       "      <td>False</td>\n",
       "      <td>False</td>\n",
       "      <td>english</td>\n",
       "      <td>none</td>\n",
       "      <td>normal</td>\n",
       "      <td>False</td>\n",
       "      <td>False</td>\n",
       "      <td>False</td>\n",
       "      <td>1743783207000</td>\n",
       "    </tr>\n",
       "    <tr>\n",
       "      <th>1</th>\n",
       "      <td>67f0046c1b4e1d1a3852d0c8</td>\n",
       "      <td>83.43</td>\n",
       "      <td>99.17</td>\n",
       "      <td>83.43</td>\n",
       "      <td>69.11</td>\n",
       "      <td>120;0;0;0</td>\n",
       "      <td>words</td>\n",
       "      <td>25</td>\n",
       "      <td>-1</td>\n",
       "      <td>3</td>\n",
       "      <td>...</td>\n",
       "      <td>4.10</td>\n",
       "      <td>False</td>\n",
       "      <td>False</td>\n",
       "      <td>english</td>\n",
       "      <td>none</td>\n",
       "      <td>normal</td>\n",
       "      <td>False</td>\n",
       "      <td>False</td>\n",
       "      <td>False</td>\n",
       "      <td>1743783020000</td>\n",
       "    </tr>\n",
       "    <tr>\n",
       "      <th>2</th>\n",
       "      <td>67f0044f1b4e1d1a3852ceb8</td>\n",
       "      <td>60.91</td>\n",
       "      <td>85.43</td>\n",
       "      <td>60.91</td>\n",
       "      <td>51.15</td>\n",
       "      <td>128;0;0;0</td>\n",
       "      <td>words</td>\n",
       "      <td>25</td>\n",
       "      <td>-1</td>\n",
       "      <td>2</td>\n",
       "      <td>...</td>\n",
       "      <td>7.55</td>\n",
       "      <td>False</td>\n",
       "      <td>False</td>\n",
       "      <td>english</td>\n",
       "      <td>none</td>\n",
       "      <td>normal</td>\n",
       "      <td>False</td>\n",
       "      <td>False</td>\n",
       "      <td>False</td>\n",
       "      <td>1743782991000</td>\n",
       "    </tr>\n",
       "    <tr>\n",
       "      <th>3</th>\n",
       "      <td>67ee7f0a1b4e1d1a383fb9aa</td>\n",
       "      <td>58.90</td>\n",
       "      <td>85.06</td>\n",
       "      <td>58.90</td>\n",
       "      <td>57.14</td>\n",
       "      <td>128;0;0;0</td>\n",
       "      <td>words</td>\n",
       "      <td>25</td>\n",
       "      <td>-1</td>\n",
       "      <td>1</td>\n",
       "      <td>...</td>\n",
       "      <td>2.72</td>\n",
       "      <td>False</td>\n",
       "      <td>False</td>\n",
       "      <td>english</td>\n",
       "      <td>none</td>\n",
       "      <td>normal</td>\n",
       "      <td>False</td>\n",
       "      <td>False</td>\n",
       "      <td>False</td>\n",
       "      <td>1743683338000</td>\n",
       "    </tr>\n",
       "    <tr>\n",
       "      <th>4</th>\n",
       "      <td>67ee7eea1b4e1d1a383fb7ff</td>\n",
       "      <td>73.17</td>\n",
       "      <td>92.25</td>\n",
       "      <td>73.17</td>\n",
       "      <td>63.21</td>\n",
       "      <td>128;0;0;0</td>\n",
       "      <td>words</td>\n",
       "      <td>25</td>\n",
       "      <td>-1</td>\n",
       "      <td>3</td>\n",
       "      <td>...</td>\n",
       "      <td>17.47</td>\n",
       "      <td>False</td>\n",
       "      <td>False</td>\n",
       "      <td>english</td>\n",
       "      <td>none</td>\n",
       "      <td>normal</td>\n",
       "      <td>False</td>\n",
       "      <td>False</td>\n",
       "      <td>False</td>\n",
       "      <td>1743683306000</td>\n",
       "    </tr>\n",
       "  </tbody>\n",
       "</table>\n",
       "<p>5 rows × 22 columns</p>\n",
       "</div>"
      ],
      "text/plain": [
       "                        _id    wpm    acc  rawWpm  consistency  charStats  \\\n",
       "0  67f005271b4e1d1a3852de28  76.52  92.20   76.52        69.12  130;0;0;0   \n",
       "1  67f0046c1b4e1d1a3852d0c8  83.43  99.17   83.43        69.11  120;0;0;0   \n",
       "2  67f0044f1b4e1d1a3852ceb8  60.91  85.43   60.91        51.15  128;0;0;0   \n",
       "3  67ee7f0a1b4e1d1a383fb9aa  58.90  85.06   58.90        57.14  128;0;0;0   \n",
       "4  67ee7eea1b4e1d1a383fb7ff  73.17  92.25   73.17        63.21  128;0;0;0   \n",
       "\n",
       "    mode  mode2  quoteLength  restartCount  ...  incompleteTestSeconds  \\\n",
       "0  words     25           -1            23  ...                  74.42   \n",
       "1  words     25           -1             3  ...                   4.10   \n",
       "2  words     25           -1             2  ...                   7.55   \n",
       "3  words     25           -1             1  ...                   2.72   \n",
       "4  words     25           -1             3  ...                  17.47   \n",
       "\n",
       "   punctuation  numbers  language  funbox difficulty lazyMode blindMode  \\\n",
       "0        False    False   english    none     normal    False     False   \n",
       "1        False    False   english    none     normal    False     False   \n",
       "2        False    False   english    none     normal    False     False   \n",
       "3        False    False   english    none     normal    False     False   \n",
       "4        False    False   english    none     normal    False     False   \n",
       "\n",
       "   bailedOut      timestamp  \n",
       "0      False  1743783207000  \n",
       "1      False  1743783020000  \n",
       "2      False  1743782991000  \n",
       "3      False  1743683338000  \n",
       "4      False  1743683306000  \n",
       "\n",
       "[5 rows x 22 columns]"
      ]
     },
     "execution_count": 8,
     "metadata": {},
     "output_type": "execute_result"
    }
   ],
   "source": [
    "data.head()"
   ]
  },
  {
   "cell_type": "code",
   "execution_count": 9,
   "metadata": {},
   "outputs": [
    {
     "data": {
      "text/plain": [
       "Index(['_id', 'wpm', 'acc', 'rawWpm', 'consistency', 'charStats', 'mode',\n",
       "       'mode2', 'quoteLength', 'restartCount', 'testDuration', 'afkDuration',\n",
       "       'incompleteTestSeconds', 'punctuation', 'numbers', 'language', 'funbox',\n",
       "       'difficulty', 'lazyMode', 'blindMode', 'bailedOut', 'timestamp'],\n",
       "      dtype='object')"
      ]
     },
     "execution_count": 9,
     "metadata": {},
     "output_type": "execute_result"
    }
   ],
   "source": [
    "data.columns"
   ]
  },
  {
   "cell_type": "code",
   "execution_count": 10,
   "metadata": {},
   "outputs": [
    {
     "data": {
      "text/plain": [
       "np.int64(0)"
      ]
     },
     "execution_count": 10,
     "metadata": {},
     "output_type": "execute_result"
    }
   ],
   "source": [
    "data.duplicated().sum()"
   ]
  },
  {
   "cell_type": "code",
   "execution_count": 11,
   "metadata": {},
   "outputs": [],
   "source": [
    "data = data.drop(columns=['_id','rawWpm','charStats','mode','mode2','quoteLength','afkDuration','incompleteTestSeconds','punctuation', 'numbers', 'language', 'funbox','lazyMode', 'blindMode', 'bailedOut', 'timestamp'])"
   ]
  },
  {
   "cell_type": "code",
   "execution_count": 12,
   "metadata": {},
   "outputs": [
    {
     "data": {
      "application/vnd.microsoft.datawrangler.viewer.v0+json": {
       "columns": [
        {
         "name": "index",
         "rawType": "int64",
         "type": "integer"
        },
        {
         "name": "wpm",
         "rawType": "float64",
         "type": "float"
        },
        {
         "name": "acc",
         "rawType": "float64",
         "type": "float"
        },
        {
         "name": "consistency",
         "rawType": "float64",
         "type": "float"
        },
        {
         "name": "restartCount",
         "rawType": "int64",
         "type": "integer"
        },
        {
         "name": "testDuration",
         "rawType": "float64",
         "type": "float"
        },
        {
         "name": "difficulty",
         "rawType": "object",
         "type": "string"
        }
       ],
       "conversionMethod": "pd.DataFrame",
       "ref": "0d650524-f023-4b34-bbe2-34b78c8b849c",
       "rows": [
        [
         "0",
         "76.52",
         "92.2",
         "69.12",
         "23",
         "20.39",
         "normal"
        ],
        [
         "1",
         "83.43",
         "99.17",
         "69.11",
         "3",
         "17.26",
         "normal"
        ],
        [
         "2",
         "60.91",
         "85.43",
         "51.15",
         "2",
         "25.22",
         "normal"
        ],
        [
         "3",
         "58.9",
         "85.06",
         "57.14",
         "1",
         "26.08",
         "normal"
        ],
        [
         "4",
         "73.17",
         "92.25",
         "63.21",
         "3",
         "20.99",
         "normal"
        ]
       ],
       "shape": {
        "columns": 6,
        "rows": 5
       }
      },
      "text/html": [
       "<div>\n",
       "<style scoped>\n",
       "    .dataframe tbody tr th:only-of-type {\n",
       "        vertical-align: middle;\n",
       "    }\n",
       "\n",
       "    .dataframe tbody tr th {\n",
       "        vertical-align: top;\n",
       "    }\n",
       "\n",
       "    .dataframe thead th {\n",
       "        text-align: right;\n",
       "    }\n",
       "</style>\n",
       "<table border=\"1\" class=\"dataframe\">\n",
       "  <thead>\n",
       "    <tr style=\"text-align: right;\">\n",
       "      <th></th>\n",
       "      <th>wpm</th>\n",
       "      <th>acc</th>\n",
       "      <th>consistency</th>\n",
       "      <th>restartCount</th>\n",
       "      <th>testDuration</th>\n",
       "      <th>difficulty</th>\n",
       "    </tr>\n",
       "  </thead>\n",
       "  <tbody>\n",
       "    <tr>\n",
       "      <th>0</th>\n",
       "      <td>76.52</td>\n",
       "      <td>92.20</td>\n",
       "      <td>69.12</td>\n",
       "      <td>23</td>\n",
       "      <td>20.39</td>\n",
       "      <td>normal</td>\n",
       "    </tr>\n",
       "    <tr>\n",
       "      <th>1</th>\n",
       "      <td>83.43</td>\n",
       "      <td>99.17</td>\n",
       "      <td>69.11</td>\n",
       "      <td>3</td>\n",
       "      <td>17.26</td>\n",
       "      <td>normal</td>\n",
       "    </tr>\n",
       "    <tr>\n",
       "      <th>2</th>\n",
       "      <td>60.91</td>\n",
       "      <td>85.43</td>\n",
       "      <td>51.15</td>\n",
       "      <td>2</td>\n",
       "      <td>25.22</td>\n",
       "      <td>normal</td>\n",
       "    </tr>\n",
       "    <tr>\n",
       "      <th>3</th>\n",
       "      <td>58.90</td>\n",
       "      <td>85.06</td>\n",
       "      <td>57.14</td>\n",
       "      <td>1</td>\n",
       "      <td>26.08</td>\n",
       "      <td>normal</td>\n",
       "    </tr>\n",
       "    <tr>\n",
       "      <th>4</th>\n",
       "      <td>73.17</td>\n",
       "      <td>92.25</td>\n",
       "      <td>63.21</td>\n",
       "      <td>3</td>\n",
       "      <td>20.99</td>\n",
       "      <td>normal</td>\n",
       "    </tr>\n",
       "  </tbody>\n",
       "</table>\n",
       "</div>"
      ],
      "text/plain": [
       "     wpm    acc  consistency  restartCount  testDuration difficulty\n",
       "0  76.52  92.20        69.12            23         20.39     normal\n",
       "1  83.43  99.17        69.11             3         17.26     normal\n",
       "2  60.91  85.43        51.15             2         25.22     normal\n",
       "3  58.90  85.06        57.14             1         26.08     normal\n",
       "4  73.17  92.25        63.21             3         20.99     normal"
      ]
     },
     "execution_count": 12,
     "metadata": {},
     "output_type": "execute_result"
    }
   ],
   "source": [
    "data.head()"
   ]
  },
  {
   "cell_type": "code",
   "execution_count": 13,
   "metadata": {},
   "outputs": [],
   "source": [
    "X = data.iloc[:,:1]\n",
    "y = data.iloc[:,1:]"
   ]
  },
  {
   "cell_type": "code",
   "execution_count": 14,
   "metadata": {},
   "outputs": [],
   "source": [
    "import pandas as pd\n",
    "import numpy as np\n",
    "import matplotlib.pyplot as plt\n",
    "import seaborn as sns"
   ]
  },
  {
   "cell_type": "code",
   "execution_count": 15,
   "metadata": {},
   "outputs": [],
   "source": [
    "from sklearn.preprocessing import LabelEncoder\n",
    "from sklearn.model_selection import train_test_split\n",
    "from sklearn.linear_model import LinearRegression\n",
    "from sklearn.metrics import mean_squared_error,r2_score,root_mean_squared_error"
   ]
  },
  {
   "cell_type": "code",
   "execution_count": 16,
   "metadata": {},
   "outputs": [],
   "source": [
    "y = y.drop(columns=['difficulty'])"
   ]
  },
  {
   "cell_type": "code",
   "execution_count": 17,
   "metadata": {},
   "outputs": [],
   "source": [
    "X_train,X_test,y_train,y_test = train_test_split(X,y,test_size=0.2)"
   ]
  },
  {
   "cell_type": "code",
   "execution_count": 18,
   "metadata": {},
   "outputs": [],
   "source": [
    "lin_reg = LinearRegression()\n",
    "model = lin_reg.fit(X_train,y_train)\n",
    "y_pred = model.predict(X_test)"
   ]
  },
  {
   "cell_type": "code",
   "execution_count": 19,
   "metadata": {},
   "outputs": [],
   "source": [
    "mse = mean_squared_error(y_pred=y_pred,y_true=y_test)"
   ]
  },
  {
   "cell_type": "code",
   "execution_count": 20,
   "metadata": {},
   "outputs": [
    {
     "name": "stdout",
     "output_type": "stream",
     "text": [
      "32.19730507364641\n"
     ]
    }
   ],
   "source": [
    "print(mse)"
   ]
  },
  {
   "cell_type": "code",
   "execution_count": 21,
   "metadata": {},
   "outputs": [],
   "source": [
    "r2 = r2_score(y_pred=y_pred,y_true=y_test)"
   ]
  },
  {
   "cell_type": "code",
   "execution_count": 22,
   "metadata": {},
   "outputs": [
    {
     "name": "stdout",
     "output_type": "stream",
     "text": [
      "25.379471566792244\n"
     ]
    }
   ],
   "source": [
    "print(r2*100)"
   ]
  },
  {
   "cell_type": "code",
   "execution_count": 23,
   "metadata": {},
   "outputs": [
    {
     "data": {
      "application/vnd.microsoft.datawrangler.viewer.v0+json": {
       "columns": [
        {
         "name": "index",
         "rawType": "int64",
         "type": "integer"
        },
        {
         "name": "acc",
         "rawType": "float64",
         "type": "float"
        },
        {
         "name": "consistency",
         "rawType": "float64",
         "type": "float"
        },
        {
         "name": "restartCount",
         "rawType": "int64",
         "type": "integer"
        },
        {
         "name": "testDuration",
         "rawType": "float64",
         "type": "float"
        }
       ],
       "conversionMethod": "pd.DataFrame",
       "ref": "ade3ad5e-603b-436f-b52f-29e3c9abeacc",
       "rows": [
        [
         "0",
         "92.2",
         "69.12",
         "23",
         "20.39"
        ],
        [
         "1",
         "99.17",
         "69.11",
         "3",
         "17.26"
        ],
        [
         "2",
         "85.43",
         "51.15",
         "2",
         "25.22"
        ],
        [
         "3",
         "85.06",
         "57.14",
         "1",
         "26.08"
        ],
        [
         "4",
         "92.25",
         "63.21",
         "3",
         "20.99"
        ]
       ],
       "shape": {
        "columns": 4,
        "rows": 5
       }
      },
      "text/html": [
       "<div>\n",
       "<style scoped>\n",
       "    .dataframe tbody tr th:only-of-type {\n",
       "        vertical-align: middle;\n",
       "    }\n",
       "\n",
       "    .dataframe tbody tr th {\n",
       "        vertical-align: top;\n",
       "    }\n",
       "\n",
       "    .dataframe thead th {\n",
       "        text-align: right;\n",
       "    }\n",
       "</style>\n",
       "<table border=\"1\" class=\"dataframe\">\n",
       "  <thead>\n",
       "    <tr style=\"text-align: right;\">\n",
       "      <th></th>\n",
       "      <th>acc</th>\n",
       "      <th>consistency</th>\n",
       "      <th>restartCount</th>\n",
       "      <th>testDuration</th>\n",
       "    </tr>\n",
       "  </thead>\n",
       "  <tbody>\n",
       "    <tr>\n",
       "      <th>0</th>\n",
       "      <td>92.20</td>\n",
       "      <td>69.12</td>\n",
       "      <td>23</td>\n",
       "      <td>20.39</td>\n",
       "    </tr>\n",
       "    <tr>\n",
       "      <th>1</th>\n",
       "      <td>99.17</td>\n",
       "      <td>69.11</td>\n",
       "      <td>3</td>\n",
       "      <td>17.26</td>\n",
       "    </tr>\n",
       "    <tr>\n",
       "      <th>2</th>\n",
       "      <td>85.43</td>\n",
       "      <td>51.15</td>\n",
       "      <td>2</td>\n",
       "      <td>25.22</td>\n",
       "    </tr>\n",
       "    <tr>\n",
       "      <th>3</th>\n",
       "      <td>85.06</td>\n",
       "      <td>57.14</td>\n",
       "      <td>1</td>\n",
       "      <td>26.08</td>\n",
       "    </tr>\n",
       "    <tr>\n",
       "      <th>4</th>\n",
       "      <td>92.25</td>\n",
       "      <td>63.21</td>\n",
       "      <td>3</td>\n",
       "      <td>20.99</td>\n",
       "    </tr>\n",
       "  </tbody>\n",
       "</table>\n",
       "</div>"
      ],
      "text/plain": [
       "     acc  consistency  restartCount  testDuration\n",
       "0  92.20        69.12            23         20.39\n",
       "1  99.17        69.11             3         17.26\n",
       "2  85.43        51.15             2         25.22\n",
       "3  85.06        57.14             1         26.08\n",
       "4  92.25        63.21             3         20.99"
      ]
     },
     "execution_count": 23,
     "metadata": {},
     "output_type": "execute_result"
    }
   ],
   "source": [
    "y.head()"
   ]
  },
  {
   "cell_type": "code",
   "execution_count": 24,
   "metadata": {},
   "outputs": [],
   "source": [
    "y = y.drop(columns=['restartCount'])"
   ]
  },
  {
   "cell_type": "code",
   "execution_count": 25,
   "metadata": {},
   "outputs": [
    {
     "data": {
      "application/vnd.microsoft.datawrangler.viewer.v0+json": {
       "columns": [
        {
         "name": "index",
         "rawType": "int64",
         "type": "integer"
        },
        {
         "name": "acc",
         "rawType": "float64",
         "type": "float"
        },
        {
         "name": "consistency",
         "rawType": "float64",
         "type": "float"
        },
        {
         "name": "testDuration",
         "rawType": "float64",
         "type": "float"
        }
       ],
       "conversionMethod": "pd.DataFrame",
       "ref": "64c85011-372e-4f57-8a1a-9e586bb7c5a3",
       "rows": [
        [
         "0",
         "92.2",
         "69.12",
         "20.39"
        ],
        [
         "1",
         "99.17",
         "69.11",
         "17.26"
        ],
        [
         "2",
         "85.43",
         "51.15",
         "25.22"
        ],
        [
         "3",
         "85.06",
         "57.14",
         "26.08"
        ],
        [
         "4",
         "92.25",
         "63.21",
         "20.99"
        ]
       ],
       "shape": {
        "columns": 3,
        "rows": 5
       }
      },
      "text/html": [
       "<div>\n",
       "<style scoped>\n",
       "    .dataframe tbody tr th:only-of-type {\n",
       "        vertical-align: middle;\n",
       "    }\n",
       "\n",
       "    .dataframe tbody tr th {\n",
       "        vertical-align: top;\n",
       "    }\n",
       "\n",
       "    .dataframe thead th {\n",
       "        text-align: right;\n",
       "    }\n",
       "</style>\n",
       "<table border=\"1\" class=\"dataframe\">\n",
       "  <thead>\n",
       "    <tr style=\"text-align: right;\">\n",
       "      <th></th>\n",
       "      <th>acc</th>\n",
       "      <th>consistency</th>\n",
       "      <th>testDuration</th>\n",
       "    </tr>\n",
       "  </thead>\n",
       "  <tbody>\n",
       "    <tr>\n",
       "      <th>0</th>\n",
       "      <td>92.20</td>\n",
       "      <td>69.12</td>\n",
       "      <td>20.39</td>\n",
       "    </tr>\n",
       "    <tr>\n",
       "      <th>1</th>\n",
       "      <td>99.17</td>\n",
       "      <td>69.11</td>\n",
       "      <td>17.26</td>\n",
       "    </tr>\n",
       "    <tr>\n",
       "      <th>2</th>\n",
       "      <td>85.43</td>\n",
       "      <td>51.15</td>\n",
       "      <td>25.22</td>\n",
       "    </tr>\n",
       "    <tr>\n",
       "      <th>3</th>\n",
       "      <td>85.06</td>\n",
       "      <td>57.14</td>\n",
       "      <td>26.08</td>\n",
       "    </tr>\n",
       "    <tr>\n",
       "      <th>4</th>\n",
       "      <td>92.25</td>\n",
       "      <td>63.21</td>\n",
       "      <td>20.99</td>\n",
       "    </tr>\n",
       "  </tbody>\n",
       "</table>\n",
       "</div>"
      ],
      "text/plain": [
       "     acc  consistency  testDuration\n",
       "0  92.20        69.12         20.39\n",
       "1  99.17        69.11         17.26\n",
       "2  85.43        51.15         25.22\n",
       "3  85.06        57.14         26.08\n",
       "4  92.25        63.21         20.99"
      ]
     },
     "execution_count": 25,
     "metadata": {},
     "output_type": "execute_result"
    }
   ],
   "source": [
    "y.head()"
   ]
  },
  {
   "cell_type": "code",
   "execution_count": 26,
   "metadata": {},
   "outputs": [],
   "source": [
    "X_train,X_test,y_train,y_test = train_test_split(X,y,test_size=0.2)"
   ]
  },
  {
   "cell_type": "code",
   "execution_count": 27,
   "metadata": {},
   "outputs": [],
   "source": [
    "lin_reg = LinearRegression()\n",
    "model = lin_reg.fit(X_train,y_train)\n",
    "y_pred = model.predict(X_test)"
   ]
  },
  {
   "cell_type": "code",
   "execution_count": 28,
   "metadata": {},
   "outputs": [],
   "source": [
    "mse = mean_squared_error(y_pred=y_pred,y_true=y_test)"
   ]
  },
  {
   "cell_type": "code",
   "execution_count": 29,
   "metadata": {},
   "outputs": [
    {
     "name": "stdout",
     "output_type": "stream",
     "text": [
      "26.560686718728135\n"
     ]
    }
   ],
   "source": [
    "print(mse)"
   ]
  },
  {
   "cell_type": "code",
   "execution_count": 30,
   "metadata": {},
   "outputs": [],
   "source": [
    "r2 = r2_score(y_pred=y_pred,y_true=y_test)"
   ]
  },
  {
   "cell_type": "code",
   "execution_count": 31,
   "metadata": {},
   "outputs": [
    {
     "name": "stdout",
     "output_type": "stream",
     "text": [
      "0.30809892547441314\n"
     ]
    }
   ],
   "source": [
    "print(r2)"
   ]
  },
  {
   "cell_type": "code",
   "execution_count": null,
   "metadata": {},
   "outputs": [],
   "source": []
  }
 ],
 "metadata": {
  "kernelspec": {
   "display_name": ".venv",
   "language": "python",
   "name": "python3"
  },
  "language_info": {
   "codemirror_mode": {
    "name": "ipython",
    "version": 3
   },
   "file_extension": ".py",
   "mimetype": "text/x-python",
   "name": "python",
   "nbconvert_exporter": "python",
   "pygments_lexer": "ipython3",
   "version": "3.11.0"
  }
 },
 "nbformat": 4,
 "nbformat_minor": 2
}
