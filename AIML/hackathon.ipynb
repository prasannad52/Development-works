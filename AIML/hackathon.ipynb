{
 "cells": [
  {
   "cell_type": "code",
   "execution_count": 1,
   "metadata": {},
   "outputs": [
    {
     "data": {
      "application/vnd.microsoft.datawrangler.viewer.v0+json": {
       "columns": [
        {
         "name": "index",
         "rawType": "int64",
         "type": "integer"
        },
        {
         "name": "Statement_id",
         "rawType": "object",
         "type": "string"
        },
        {
         "name": "Title",
         "rawType": "object",
         "type": "string"
        },
        {
         "name": "Category",
         "rawType": "object",
         "type": "string"
        },
        {
         "name": "Technology_Bucket",
         "rawType": "object",
         "type": "string"
        },
        {
         "name": "Datasetfile",
         "rawType": "object",
         "type": "unknown"
        },
        {
         "name": "Description",
         "rawType": "object",
         "type": "string"
        },
        {
         "name": "Department",
         "rawType": "object",
         "type": "string"
        },
        {
         "name": "Organisation",
         "rawType": "object",
         "type": "string"
        }
       ],
       "conversionMethod": "pd.DataFrame",
       "ref": "e67e3723-5e77-4540-886b-c3f7b0691e02",
       "rows": [
        [
         "0",
         "SIH1524",
         "Innovating for Sustainability: Driving Smart Resource Conservation (Energy & Water) in Home Appliances (Refrigerators, Air Conditioners, Washing Machines and Desert Air Coolers)",
         "Hardware",
         "Smart Resource Conservation",
         null,
         "Innovating for Sustainability: Driving Smart Resource Conservation (Energy & Water) in Home Appliances (Refrigerators, Air Conditioners, Washing Machines and Desert Air Coolers)",
         "Godrej Appliances",
         "Godrej Appliances"
        ],
        [
         "1",
         "SIH1525",
         "Innovating for Sustainability: Driving Smart Resource Conservation (Energy & Water) in Home Appliances (Refrigerators, Air Conditioners, Washing Machines and Desert Air Coolers)",
         "Software",
         "Smart Resource Conservation",
         null,
         "Innovating for Sustainability: Driving Smart Resource Conservation (Energy & Water) in Home Appliances (Refrigerators, Air Conditioners, Washing Machines and Desert Air Coolers)",
         "Godrej Appliances",
         "Godrej Appliances"
        ],
        [
         "2",
         "SIH1526",
         "Student Innovation",
         "Hardware",
         "Smart Education",
         null,
         "Smart Education, a Concept that Describes learning in digital age.it enables learner to learn more effectively, efficently, flexibly and comfortably.",
         "AICTE",
         "AICTE, MIC-Student Innovation"
        ],
        [
         "3",
         "SIH1527",
         "Student Innovation",
         "Hardware",
         "Disaster Management",
         null,
         "Disaster Management includes ideas related to risk mitigation and Planning before, after or Duration of Disaster.",
         "AICTE",
         "AICTE, MIC-Student Innovation"
        ],
        [
         "4",
         "SIH1528",
         "Student Innovation",
         "Hardware",
         "Miscellaneous",
         null,
         "Technology ideas in tertiary sectors like Hospitality, Financial Services, Entertainment and Retail.",
         "AICTE",
         "AICTE, MIC-Student Innovation"
        ]
       ],
       "shape": {
        "columns": 8,
        "rows": 5
       }
      },
      "text/html": [
       "<div>\n",
       "<style scoped>\n",
       "    .dataframe tbody tr th:only-of-type {\n",
       "        vertical-align: middle;\n",
       "    }\n",
       "\n",
       "    .dataframe tbody tr th {\n",
       "        vertical-align: top;\n",
       "    }\n",
       "\n",
       "    .dataframe thead th {\n",
       "        text-align: right;\n",
       "    }\n",
       "</style>\n",
       "<table border=\"1\" class=\"dataframe\">\n",
       "  <thead>\n",
       "    <tr style=\"text-align: right;\">\n",
       "      <th></th>\n",
       "      <th>Statement_id</th>\n",
       "      <th>Title</th>\n",
       "      <th>Category</th>\n",
       "      <th>Technology_Bucket</th>\n",
       "      <th>Datasetfile</th>\n",
       "      <th>Description</th>\n",
       "      <th>Department</th>\n",
       "      <th>Organisation</th>\n",
       "    </tr>\n",
       "  </thead>\n",
       "  <tbody>\n",
       "    <tr>\n",
       "      <th>0</th>\n",
       "      <td>SIH1524</td>\n",
       "      <td>Innovating for Sustainability: Driving Smart R...</td>\n",
       "      <td>Hardware</td>\n",
       "      <td>Smart Resource Conservation</td>\n",
       "      <td>NaN</td>\n",
       "      <td>Innovating for Sustainability: Driving Smart R...</td>\n",
       "      <td>Godrej Appliances</td>\n",
       "      <td>Godrej Appliances</td>\n",
       "    </tr>\n",
       "    <tr>\n",
       "      <th>1</th>\n",
       "      <td>SIH1525</td>\n",
       "      <td>Innovating for Sustainability: Driving Smart R...</td>\n",
       "      <td>Software</td>\n",
       "      <td>Smart Resource Conservation</td>\n",
       "      <td>NaN</td>\n",
       "      <td>Innovating for Sustainability: Driving Smart R...</td>\n",
       "      <td>Godrej Appliances</td>\n",
       "      <td>Godrej Appliances</td>\n",
       "    </tr>\n",
       "    <tr>\n",
       "      <th>2</th>\n",
       "      <td>SIH1526</td>\n",
       "      <td>Student Innovation</td>\n",
       "      <td>Hardware</td>\n",
       "      <td>Smart Education</td>\n",
       "      <td>NaN</td>\n",
       "      <td>Smart Education, a Concept that Describes lear...</td>\n",
       "      <td>AICTE</td>\n",
       "      <td>AICTE, MIC-Student Innovation</td>\n",
       "    </tr>\n",
       "    <tr>\n",
       "      <th>3</th>\n",
       "      <td>SIH1527</td>\n",
       "      <td>Student Innovation</td>\n",
       "      <td>Hardware</td>\n",
       "      <td>Disaster Management</td>\n",
       "      <td>NaN</td>\n",
       "      <td>Disaster Management includes ideas related to ...</td>\n",
       "      <td>AICTE</td>\n",
       "      <td>AICTE, MIC-Student Innovation</td>\n",
       "    </tr>\n",
       "    <tr>\n",
       "      <th>4</th>\n",
       "      <td>SIH1528</td>\n",
       "      <td>Student Innovation</td>\n",
       "      <td>Hardware</td>\n",
       "      <td>Miscellaneous</td>\n",
       "      <td>NaN</td>\n",
       "      <td>Technology ideas in tertiary sectors like Hosp...</td>\n",
       "      <td>AICTE</td>\n",
       "      <td>AICTE, MIC-Student Innovation</td>\n",
       "    </tr>\n",
       "  </tbody>\n",
       "</table>\n",
       "</div>"
      ],
      "text/plain": [
       "  Statement_id                                              Title  Category  \\\n",
       "0      SIH1524  Innovating for Sustainability: Driving Smart R...  Hardware   \n",
       "1      SIH1525  Innovating for Sustainability: Driving Smart R...  Software   \n",
       "2      SIH1526                                 Student Innovation  Hardware   \n",
       "3      SIH1527                                 Student Innovation  Hardware   \n",
       "4      SIH1528                                 Student Innovation  Hardware   \n",
       "\n",
       "             Technology_Bucket Datasetfile  \\\n",
       "0  Smart Resource Conservation         NaN   \n",
       "1  Smart Resource Conservation         NaN   \n",
       "2              Smart Education         NaN   \n",
       "3          Disaster Management         NaN   \n",
       "4                Miscellaneous         NaN   \n",
       "\n",
       "                                         Description         Department  \\\n",
       "0  Innovating for Sustainability: Driving Smart R...  Godrej Appliances   \n",
       "1  Innovating for Sustainability: Driving Smart R...  Godrej Appliances   \n",
       "2  Smart Education, a Concept that Describes lear...              AICTE   \n",
       "3  Disaster Management includes ideas related to ...              AICTE   \n",
       "4  Technology ideas in tertiary sectors like Hosp...              AICTE   \n",
       "\n",
       "                    Organisation  \n",
       "0              Godrej Appliances  \n",
       "1              Godrej Appliances  \n",
       "2  AICTE, MIC-Student Innovation  \n",
       "3  AICTE, MIC-Student Innovation  \n",
       "4  AICTE, MIC-Student Innovation  "
      ]
     },
     "execution_count": 1,
     "metadata": {},
     "output_type": "execute_result"
    }
   ],
   "source": [
    "import pandas as pd\n",
    "df = pd.read_excel(\"SIH_PS_2024 (1).xlsx\")\n",
    "df.head() "
   ]
  },
  {
   "cell_type": "code",
   "execution_count": 2,
   "metadata": {},
   "outputs": [
    {
     "name": "stdout",
     "output_type": "stream",
     "text": [
      "Requirement already satisfied: pandas in c:\\users\\prasanna dindi\\onedrive\\desktop\\udemy course\\.venv\\lib\\site-packages (2.2.3)Note: you may need to restart the kernel to use updated packages.\n",
      "\n",
      "Requirement already satisfied: openpyxl in c:\\users\\prasanna dindi\\onedrive\\desktop\\udemy course\\.venv\\lib\\site-packages (3.1.5)\n",
      "Requirement already satisfied: numpy>=1.23.2 in c:\\users\\prasanna dindi\\onedrive\\desktop\\udemy course\\.venv\\lib\\site-packages (from pandas) (2.1.3)\n",
      "Requirement already satisfied: python-dateutil>=2.8.2 in c:\\users\\prasanna dindi\\onedrive\\desktop\\udemy course\\.venv\\lib\\site-packages (from pandas) (2.9.0.post0)\n",
      "Requirement already satisfied: pytz>=2020.1 in c:\\users\\prasanna dindi\\onedrive\\desktop\\udemy course\\.venv\\lib\\site-packages (from pandas) (2024.2)\n",
      "Requirement already satisfied: tzdata>=2022.7 in c:\\users\\prasanna dindi\\onedrive\\desktop\\udemy course\\.venv\\lib\\site-packages (from pandas) (2024.2)\n",
      "Requirement already satisfied: et-xmlfile in c:\\users\\prasanna dindi\\onedrive\\desktop\\udemy course\\.venv\\lib\\site-packages (from openpyxl) (2.0.0)\n",
      "Requirement already satisfied: six>=1.5 in c:\\users\\prasanna dindi\\onedrive\\desktop\\udemy course\\.venv\\lib\\site-packages (from python-dateutil>=2.8.2->pandas) (1.16.0)\n"
     ]
    }
   ],
   "source": [
    "%pip install pandas openpyxl\n"
   ]
  },
  {
   "cell_type": "code",
   "execution_count": 3,
   "metadata": {},
   "outputs": [
    {
     "data": {
      "application/vnd.microsoft.datawrangler.viewer.v0+json": {
       "columns": [
        {
         "name": "index",
         "rawType": "int64",
         "type": "integer"
        },
        {
         "name": "Statement_id",
         "rawType": "object",
         "type": "string"
        },
        {
         "name": "Title",
         "rawType": "object",
         "type": "string"
        },
        {
         "name": "Category",
         "rawType": "object",
         "type": "string"
        },
        {
         "name": "Technology_Bucket",
         "rawType": "object",
         "type": "string"
        },
        {
         "name": "Datasetfile",
         "rawType": "object",
         "type": "unknown"
        },
        {
         "name": "Description",
         "rawType": "object",
         "type": "string"
        },
        {
         "name": "Department",
         "rawType": "object",
         "type": "string"
        },
        {
         "name": "Organisation",
         "rawType": "object",
         "type": "string"
        }
       ],
       "conversionMethod": "pd.DataFrame",
       "ref": "00bf556a-9713-427f-9de8-e47dfa27bcde",
       "rows": [
        [
         "1",
         "SIH1525",
         "Innovating for Sustainability: Driving Smart Resource Conservation (Energy & Water) in Home Appliances (Refrigerators, Air Conditioners, Washing Machines and Desert Air Coolers)",
         "Software",
         "Smart Resource Conservation",
         null,
         "Innovating for Sustainability: Driving Smart Resource Conservation (Energy & Water) in Home Appliances (Refrigerators, Air Conditioners, Washing Machines and Desert Air Coolers)",
         "Godrej Appliances",
         "Godrej Appliances"
        ],
        [
         "28",
         "SIH1555",
         "Create a Virtual Herbal Garden that provides an interactive, educational, and immersive experience to users, showcasing the diverse range of medicinal plants used in AYUSH (Ayurveda, Yoga & Naturopathy, Unani, Siddha, and Homeopathy).",
         "Software",
         "MedTech / BioTech / HealthTech",
         null,
         "Background: The AYUSH sector relies heavily on medicinal plants and herbs, which form the backbone of traditional healing practices. However, physical gardens that are not accessible to everyone. A Virtual Herbal Garden will bridge this gap by offering a digital platform where users can explore, learn, and understand the significance of various medicinal plants from the comfort of their homes. Description: Participants are tasked with developing a Virtual Herbal Garden that is engaging, informative, and user-friendly. This virtual garden should include: Interactive 3D Models: Realistic 3D models of medicinal plants that users can rotate, zoom, and explore from different angles. Detailed Information: Comprehensive details about each plant, including its botanical name, common names, habitat, medicinal uses, and methods of cultivation. Multimedia Integration: High-quality images, videos, and audio descriptions to enhance the learning experience. Search and Filter Options: Advanced search functionality to easily locate specific plants and filter them based on various criteria like medicinal uses, region, and type. Virtual Tours: Guided virtual tours highlighting specific themes, such as plants for digestive health, immunity, skin care, etc. User Interaction: Features that allow users to bookmark favourite plants, take notes, and share information on social media. Expected Outcome: The expected outcome is a comprehensive Virtual Herbal Garden that serves as a valuable educational tool for students, practitioners, and enthusiasts of the AYUSH sector. This platform should make the knowledge of medicinal plants accessible to a wider audience, promoting awareness and understanding of traditional herbal practices. It should be visually appealing, informative, and interactive, providing users with an immersive experience that combines technology with traditional knowledge.",
         "All India Institute of Ayurveda (AIIA)",
         "Ministry of AYUSH"
        ],
        [
         "59",
         "SIH1586",
         "Student Innovation",
         "Software",
         "Smart Education",
         null,
         "Smart Education, a Concept that Describes learning in digital age.it enables learner to learn more effectively,efficently,flexibly and comfortably.",
         "AICTE",
         "AICTE, MIC-Student Innovation"
        ],
        [
         "60",
         "SIH1587",
         "Student Innovation",
         "Software",
         "Disaster Management",
         null,
         "Disaster Management includes ideas related to risk mitigation and Planning before,after or Duration of Disaster.",
         "AICTE",
         "AICTE, MIC-Student Innovation"
        ],
        [
         "61",
         "SIH1588",
         "Student Innovation",
         "Software",
         "Miscellaneous",
         null,
         "Technology ideas in tertiary sectors like Hospitality, Financial Services, Entertainment and Retail.",
         "AICTE",
         "AICTE, MIC-Student Innovation"
        ],
        [
         "62",
         "SIH1589",
         "Student Innovation",
         "Software",
         "Blockchain & Cybersecurity",
         null,
         "Provide ideas in a decentralized and distributed ledger technology used to store digital information that powers cryptocurrencies and NFTs and can radically change multiple sectors",
         "AICTE",
         "AICTE, MIC-Student Innovation"
        ],
        [
         "63",
         "SIH1590",
         "Student Innovation",
         "Software",
         "Renewable / Sustainable Energy",
         null,
         "Innovative ideas that help manage and generate renewable /sustainable sources more efficiently.",
         "AICTE",
         "AICTE, MIC-Student Innovation"
        ],
        [
         "64",
         "SIH1591",
         "Student Innovation",
         "Software",
         "Travel & Tourism",
         null,
         "A solution/idea that can boost the current situation of the tourism industries including hotels, travel and others.",
         "AICTE",
         "AICTE, MIC-Student Innovation"
        ],
        [
         "65",
         "SIH1592",
         "Student Innovation",
         "Software",
         "Clean & Green Technology",
         null,
         "Solutions could be in the form of waste segregation, disposal, and improve sanitization system.",
         "AICTE",
         "AICTE, MIC-Student Innovation"
        ],
        [
         "66",
         "SIH1593",
         "Student Innovation",
         "Software",
         "Robotics and Drones",
         null,
         "There is a need to design drones and robots that can solve some of the pressing challenges of India such as handling medical emergencies, search and rescue operations, etc.",
         "AICTE",
         "AICTE, MIC-Student Innovation"
        ],
        [
         "67",
         "SIH1594",
         "Student Innovation",
         "Software",
         "Transportation & Logistics",
         null,
         "Submit your ideas to address the growing pressures on the city’s resources, transport networks, and logistic infrastructure",
         "AICTE",
         "AICTE, MIC-Student Innovation"
        ],
        [
         "68",
         "SIH1595",
         "Student Innovation",
         "Software",
         "Smart Vehicles",
         null,
         "Creating intelligent devices to improve the commutation sector",
         "AICTE",
         "AICTE, MIC-Student Innovation"
        ],
        [
         "69",
         "SIH1596",
         "Student Innovation",
         "Software",
         "Agriculture, FoodTech & Rural Development",
         null,
         "Developing solutions, keeping in mind the need to enhance the primary sector of India - Agriculture and to manage and process our agriculture produce",
         "AICTE",
         "AICTE, MIC-Student Innovation"
        ],
        [
         "70",
         "SIH1597",
         "Student Innovation",
         "Software",
         "MedTech / BioTech / HealthTech",
         null,
         "Cutting-edge technology in these sectors continues to be in demand. Recent shifts in healthcare trends, growing populations also present an array of opportunities for innovation.",
         "AICTE",
         "AICTE, MIC-Student Innovation"
        ],
        [
         "71",
         "SIH1598",
         "Student Innovation",
         "Software",
         "Heritage & Culture",
         null,
         "Ideas that showcase the rich cultural heritage and traditions of India",
         "AICTE",
         "AICTE, MIC-Student Innovation"
        ],
        [
         "72",
         "SIH1599",
         "Student Innovation",
         "Software",
         "Fitness & Sports",
         null,
         "Ideas that can boost fitness activities and assist in keeping fit.",
         "AICTE",
         "AICTE, MIC-Student Innovation"
        ],
        [
         "73",
         "SIH1600",
         "Student Innovation",
         "Software",
         "Smart Automation",
         null,
         "Ideas focused on the intelligent use of resources for transforming and advancements of technology with combining the artificial intelligence to explore more various sources and get valuable insights.",
         "AICTE",
         "AICTE, MIC-Student Innovation"
        ],
        [
         "74",
         "SIH1601",
         "Student Innovation",
         "Software",
         "Toys & Games",
         null,
         "Challenges your creative minds to conceptualize and develop unique toys & games.",
         "AICTE",
         "AICTE, MIC-Student Innovation"
        ],
        [
         "75",
         "SIH1602",
         "Student Innovation",
         "Software",
         "Space Technology",
         null,
         "For use of travel or activities beyond earth's atmosphere, for purposes such as spaceflight or space exploration.",
         "AICTE",
         "AICTE, MIC-Student Innovation"
        ],
        [
         "76",
         "SIH1603",
         "Research and develop a design on “ autonomous water surface cleaning robot “",
         "Software",
         "Robotics and Drones",
         "https://damassets.autodesk.net/content/dam/autodesk/www/pdfs/sih-2024-software-edition.pdf",
         "Design an autonomous water surface cleaning robot, to automate the task of cleaning water surfaces. These robots are particularly useful in environmental protection efforts, as they can perform high-efficiency cleaning without human intervention. It can be autonomous or remote-controlled. The robot needs to be lightweight and flexible for easy transportation. The specifications are as follows: Length × Height × Width - 2.5 m × 1.5 m × 0.75 m Weight - 80 kg Maximum Speed - 1.5 m/s Trash Payload - 25 kg Project submission must include conceptual sketches and images in the PPT presentation. At least one component must be optimized using the generative design module. The robot should incorporate Industry 4.0 applications, such as IoT and AI, for a smart and efficient cleaning solution. Teams choosing to submit idea for Autodesk’s problem statement are required to request their faculty (SIH SPOC) to fill this mandatory form. (https://forms.gle/KfBguyYGHmv5RQ778) Autodesk Fusion is a cloud-based 3D modeling, CAD, CAM, CAE, and PCB software platform for professional product design and manufacturing. Students and educators can click here to get FREE access to Fusion. (https://www.autodesk.com/education/edu-software/overview?sorting=featured&filters=individual) Participation Guidelines: For Idea Submission: Each student team will have to submit a PowerPoint presentation (5-7 Slides) about their project with conceptual sketches and images. No design files required at this stage and design should only be created during the Grand Finale For Grand Finale: Students must use Fusion to design autonomous water surface cleaning robot within the given time period and present the following to the jury members: PPT explaining the final project Public link of the design Rendered images and animations Note: Teams coming with pre-designed files will be disqualified. Marking Criteria: Please note that this marking criteria is for Autodesk's this particular Problem Statement only Design Objective:10 Design Process:10 Creativity and Novelty:30 Software Usage:30 Manufacturability:20 Total marks:100",
         "Autodesk",
         "Autodesk"
        ],
        [
         "77",
         "SIH1604",
         "Conversational Image Recognition Chatbot",
         "Software",
         "Smart Automation",
         "A good dataset will contribute to a model with good precision and recall. In the realm of object detection in images or motion pictures, there are some household NAmes commonly used and referenced by researchers and practitioners. The NAmes in the list include Pascal, ImageNet, SUN, and COCO.",
         "Background: Ever since the birth of AI and computer vision, modeling conversations remains one of the field’s challenges, especially to combine both natural language processing and image recognition. Chatbots are now widely used as part of platform as applications like Apple’s Siri, Google’s Google Assistant or Microsoft’s Cortana. Detailed Description: Generally, a conversational Chatbot is an application that is able to communicate with humans using natural language. However there exists a need for an image recognition deep learning based Chatbot is an application to recognize the images, uploaded by user and answer the questions about the image. The main problem domain of this project is building a image recognization Chatbot, which is capable of recognize the object in an image and generating the best response for any the user’s query about the image. Expected Solution: Image recognition Chatbot is expected to detect the object in the image and have the related dialog of the image after training, also have understanding of the sender’s messages so that it can predict which sort of response will be relevant and it must be correct lexically and grammatically while generating the reply.",
         "SBU-BEL",
         "Bharat Electronics Limited (BEL)"
        ],
        [
         "78",
         "SIH1605",
         "Women Safety Analytics – Protecting Women from safety threats",
         "Software",
         "Miscellaneous",
         null,
         "Background: The growing concern for the safety of women and the increase in crimes against women in various cities, highlight the need for advanced surveillance and analytical solutions to protect women from various possible threats. We need a promising approach to address these issues through real-time threat detection software. Detailed Description: By leveraging advanced analytics through real-time monitoring, Women Safety Analytics should create safer environments for women and assist law enforcement in effectively addressing and preventing crimes against women. The proactive approach of detecting anomalies and generating alerts can play a crucial role in enhancing public safety and fostering a secure atmosphere for women. Women safety analytics software should continuously monitor the scene to count the number of men and women present, offering insights into gender distribution in specific locations and times. It should identify unusual patterns, such as a lone woman at night, unusual gestures and generates alerts to pre-empt potential incidents. Advantages of the system: ? By providing real-time monitoring and alerts, the system helps to create a safer environment for women. ? Early detection enables law enforcement to intervene before situations escalate. ? Continuous analysis provides valuable data to identify hotspots and trends, aiding in strategic planning for city safety Expected Solution: Women safety analytics should include the following functionalities 1. Person detection along with Gender Classification 2. Gender Distribution : Count the number of men and women present in the scene 3. Identifying a Lone Woman at Night time 4. Detection of a Woman Surrounded by Men 5. Recognizing SOS situation through gesture analytics 6. Identifying hotspots where incidents are more likely to occur, based on the past alerts",
         "SBU-BEL",
         "Bharat Electronics Limited (BEL)"
        ],
        [
         "79",
         "SIH1606",
         "Micro-Doppler based Target Classification",
         "Software",
         "Robotics and Drones",
         null,
         "Description: The world today has bought on a need to pay increased attention to safety and security issues, for example, search and rescue operations, surveillance, and protection of critical infrastructure. These tasks are often labour intensive and potentially dangerous. This provides an incentive to create systems that aid operators to gain situational awareness. In this regard, unmanned aerial vehicles, pose a significant threat to privacy and security. To understand and assess this threat, classification between different drone models and types is required. One way in which this has been demonstrated experimentally is through this use of micro-Doppler information from radars. Normally birds and drones are often confused and there is need for a method which clarifies their corresponding class. Background: Due to substantial increase in the number of affordable drones in the consumer market and their regrettable misuse, there is a need for efficient technology to detect drones in airspace. Drone and birds both include micro-Doppler signatures due to their propeller blade rotation and wing beats respectively. These distinctive features can then be used to differentiate a drone from a bird, along with studying them separately. Detailed Description: Classification of drones and non-drones using micro-Doppler signatures captured from Radar as a sensor. Moving parts of an object produce modulated Doppler components called micro-Doppler. The modulated Doppler signature is presented as added components to the Doppler signature of the drone body. Due to rotating blades, frequency modulated components, which are quite revealing, are produced. To observe the time varying micro-Doppler’s, received FMCW should be processed by Joint time-frequency analysis. A Conventional air surveillance radar system(operating usually at L-Band or S-Band) can rely on the radar cross section(RCS) of an aircraft for detection, but this may not always provide reliable detection, but this may not always provide reliable detection in case of drones. Even if a dedicated system is built to be sensitive enough to detect small object like a drone, just RCS information is not adequate. Birds have similar physical size to drones and also will fly at similar altitude and speeds. A reliable drone detection radar system must have the capability to discriminate between a drone and a bird. And hence micro-Doppler signature analysis is the key parameter for classification. Expected Solution: Input: The micro-Doppler signatures of drones and bird Output: Class of the object(Drone or Bird)",
         "SBU-BEL",
         "Bharat Electronics Limited (BEL)"
        ],
        [
         "80",
         "SIH1607",
         "A smart AI based solution for traffic management on routes with heavy traffic from different directions, with real-time monitoring and adaptation of traffic light timings",
         "Software",
         "Smart Automation",
         null,
         "Background: Urban areas often face significant traffic congestion, especially at intersections where multiple routes converge. Traditional traffic management systems rely on pre-set traffic light timings, which may not adapt well to fluctuating traffic conditions. This can lead to increased waiting times, fuel consumption, and emissions. Description: An AI-based traffic management system can dynamically adjust traffic light timings based on real-time traffic data, improving traffic flow and reducing congestion. Expected Solution: Problem statement is to develop a smart, AI-based traffic management system that can monitor traffic conditions in real-time and adapt traffic light timings accordingly. The system should be capable of handling heavy traffic from multiple directions and optimizing traffic flow to minimize delays and improve overall efficiency.",
         "Department of Science and Technology",
         "Department of Science and Technology"
        ],
        [
         "81",
         "SIH1608",
         "Enhancing Monitoring and Management of Research, IPR, Innovation, and Start-ups in Gujarat State",
         "Software",
         "Smart Education",
         null,
         "Background: Gujarat has long been a leader in fostering innovation and entrepreneurship. The state is home to numerous research institutions, start-ups, and innovation hubs that drive economic growth and technological advancement. However, the current systems for monitoring and managing research activities, intellectual property rights (IPR), innovation developments, and start-up growth are fragmented and inefficient. Information is dispersed across various departments and organizations, leading to challenges in data accessibility, transparency, resource allocation, and overall management. To address these issues, there is a need for a comprehensive web application that can unify and streamline these processes, enhancing efficiency and productivity. Detailed Description: The proposed comprehensive web application aims to address the key challenges faced in monitoring and managing research, IPR, innovation, and start-ups in Gujarat. The application will serve as a centralized platform to integrate various functions and provide seamless access to information and resources. The key features of the web application include: Unified Data Repository: A centralized database where all research projects, patents, innovations, and start-up information are stored and easily accessible. Transparent Monitoring: Tools for stakeholders to track the progress and outcomes of research projects, innovation developments, and start-up growth, ensuring greater transparency. Efficient Resource Allocation: Mechanisms to optimize the allocation of resources, such as funding and mentorship, based on real-time data and insights. IPR Management: A streamlined process for managing intellectual property rights, including patent applications, status tracking, and protection of intellectual property. Support for Innovators and Start-ups: Access to resources, mentorship, and support services for innovators and entrepreneurs, facilitating their growth and success. Collaboration Tools: Features to enhance collaboration among researchers, innovators, policy makers, and other stakeholders, fostering a cohesive ecosystem. Data-Driven Insights: Analytics and reporting tools to provide data-driven insights for policy makers and funding agencies to make informed decisions. The application will cater to various users, including researchers, innovators, entrepreneurs, policy makers, investors, funding agencies, and IPR professionals. By integrating all these functions into a single platform, the application will address the inefficiencies and fragmentation currently hindering the growth and success of research and innovation in Gujarat. Researchers and Academics: Require a platform to manage and track their research projects, collaborations, and funding. Innovators and Entrepreneurs: Need a centralized system to access resources, support, and information related to their innovations and start-ups Policy Makers and Government Bodies: Require data-driven insights to make informed decisions on resource allocation and policy formulation. Investors and Funding Agencies: Need a transparent system to evaluate and support promising research projects and start-ups. IPR Professionals: Require an efficient system to manage patent applications, track IPR statuses, and protect intellectual property. Expected Solution: The implementation of this comprehensive web application is expected to yield significant positive outcomes: Centralized Data Repository: Establishment of a unified platform where all relevant data is stored, reducing fragmentation and improving data accessibility. Increased Transparency: Enhanced transparency in tracking progress and outcomes of various projects, facilitating better oversight and accountability. Better Resource Utilization: More effective allocation and utilization of resources, leading to improved outcomes for research and innovation projects. Accelerated Innovation: Faster and more efficient innovation processes due to improved support systems and collaboration opportunities. Economic Growth: Increased start-up success rates and innovation outputs, contributing to the overall economic growth of Gujarat. Enhanced IPR Protection: More efficient and effective management of intellectual property rights, reducing delays and improving protection for innovators. In summary, the proposed web application aims to create a more efficient, transparent, and supportive environment for research, IPR management, innovation, and start-up growth in Gujarat. By addressing the current challenges and leveraging modern technology, the application will significantly enhance the state's capacity to foster and sustain innovation and entrepreneurship.",
         "Education Department",
         "Government of Gujarat"
        ],
        [
         "82",
         "SIH1609",
         "Implementation of the Alumni Association platform for the University/Institute.",
         "Software",
         "Smart Education",
         null,
         "Background: Alumni associations play a pivotal role in fostering lifelong connections between graduates and their alma mater, facilitating networking, mentorship, and philanthropic support. However, many alumni associations face challenges in maintaining engagement, facilitating donations, and providing valuable services such as job networking and tracking alumni success stories. A comprehensive Alumni Association platform for a University/Institute, encompassing both web and mobile applications, aims to address these challenges effectively. Detailed Description: The proposed Alumni Association platform for the Government Engineering College will feature robust functionalities accessible through both web and mobile applications: Alumni Registration: User-friendly registration processes on both web and mobile platforms, allowing alumni to join the association, update their profiles, and stay connected with peers and the institution. Donation Portal: Secure mechanisms on both platforms for alumni to contribute donations easily and support various initiatives and projects undertaken by the college, fostering a culture of philanthropy. Networking Hub: Dedicated sections on both platforms to connect alumni based on shared interests, professions, and geographic locations, facilitating professional networking, mentorship, and collaboration opportunities. Job Portal: Integrated job search and posting features accessible via web and mobile apps, enabling alumni to explore career opportunities, post job openings, and connect with potential employers within the alumni network. Alumni Directory: Search functionalities available on both platforms to find alumni based on different criteria such as graduation year, field of study, industry, location, etc., promoting networking and community building. Success Story Tracking: Features on both web and mobile apps to showcase and track alumni achievements, success stories, and notable contributions to society, inspiring current students and fostering pride among alumni. Events and Reunions: Announcements, registrations, and management tools available on both platforms for organizing alumni events, reunions, workshops, and professional development sessions to maintain engagement and connection. Feedback and Surveys: Channels on both web and mobile apps for alumni to provide feedback on their experiences, suggest improvements, and participate in surveys to help shape future initiatives of the association. The platform will prioritize user experience, security, and scalability across both web and mobile applications to cater to the diverse needs of the Government Engineering College's alumni community. Expected Solution: Implementation of the Alumni Association platform for the Government Engineering College, comprising both web and mobile applications, is expected to achieve several positive outcomes: Enhanced Alumni Engagement: Seamless access to networking, career opportunities, and alumni events through web and mobile apps will strengthen connections among alumni, fostering a vibrant and active community. Increased Philanthropic Support: Convenient donation processes accessible via both platforms will encourage alumni to contribute towards the college's growth and development initiatives. Career Advancement: Access to job postings, mentorship opportunities, and professional networking on mobile devices will support alumni in their career growth and advancement. Knowledge Sharing: Exchange of knowledge, experiences, and best practices facilitated through both web and mobile apps will enrich professional development and lifelong learning initiatives. Pride and Recognition: Highlighting alumni achievements and success stories on both platforms will instill pride in the alma mater and inspire current students to excel in their academic and professional pursuits. Community Building: Interactive features available on both web and mobile apps will nurture a sense of belonging and camaraderie among alumni, strengthening their bond with the institution. In summary, the Alumni Association platform for the University/Institute, integrated with both web and mobile applications, aims to create a dynamic and supportive ecosystem where alumni can connect, contribute, and thrive, thereby enriching the overall educational experience and legacy of the institution.",
         "Education Department",
         "Government of Gujarat"
        ],
        [
         "83",
         "SIH1610",
         "Learning App for Deaf And Mute and sign language-English/Gujarati converter",
         "Software",
         "Smart Education",
         null,
         "Background: “Inclusivity” is the motto of Education department, Government of Gujarat. Opportunity for all is the new slogan and The Indian Government has come up with Indian Sign Language. There has been lot of work in done in American sign language and focusing on interpretation in English. Majority schools in India adopt local language. In Gujarat, the deaf and mute students would be learning Gujarati by sign language. There are two general methods of deaf education are manualism and oralism..The students learn at school but at home if they want to practice material in Digital form is in limited form especially considering Indian Sign Language and Gujarati as local language. Detailed Description: The proposed comprehensive Mobile Application aims to address the key challenges faced in learning beyond classroom by deaf and mute students. The key features of the application include: Interpretation of Alphabets and numbers in Gujarati: Explaining the alphabets and numbers in Gujarati. The students first should learn and then should get writing pad to practice the writing of alphabets and numbers. Words and Sentences: Explaining the basic words starting from each Gujarati alphabet for example ? –???. Writing Exercises based on this Mathematics : Tables. Basic calculation Sum, Subtract, Multiplication, division in Gujarati. Writing problems for assessment of learning. Science : Prepare learning of science principles to sign language tutorials and writing exercises based on this. Conversion of Gujarati sentences to Sign Language and vice versa: If some Gujarati news/ articles are fed, they should be converted to sign language Conversion of speech to sign Language and vice versa: If some Gujarati conversation/addressing is taking place, they should be converted to sign language Data Analytics : Report card of the student to assess his/her learning of Mathematics and Science The application will cater to various users, including teachers, students, parents and HR(company). By integrating all these functions into a single Application , the application will address the lack of resources and bridge of communication gap. Teachers: Get a platform for teaching and can give repeated exercises to fine tune students with Mathematics and science. . Students: Learning platform where they can learn at their own pace and do the exercises. Parents: Helping aid for parents who do not know sign language. HR: Inclusivity is part of company policy also. While interviewing speech to text and text to speech will be helpful. Expected Solution: The implementation of this comprehensive Mobile application is expected to yield significant positive outcomes: Learning of Basic Mathematics and Science: Establishment of a unified platform where all relevant data is stored, reducing fragmentation and improving data accessibility. Increased Communication: Enhanced transparency in tracking progress and outcomes of various projects, facilitating better oversight and accountability. Better Assessment of learning: More effective allocation and utilization of resources, leading to improved outcomes for research and innovation projects. Including specially abled to mainstream : Conversion of text to sign language, speech to sign language and vice versa will narrow down the communication gap that arises due to non understanding of sign language. In summary, the proposed Mobile application aims to create a more efficient and supportive environment for learning to deaf and mute students in Gujarat. By addressing the current challenges and leveraging modern technology, the application will significantly enhance the learning ability of specially abled students.",
         "Education Department",
         "Government of Gujarat"
        ],
        [
         "85",
         "SIH1612",
         "Automated Bus Scheduling and Route Management System for Delhi Transport Corporation",
         "Software",
         "Smart Vehicles",
         null,
         "Background: Efficient bus scheduling and route planning are essential for the smooth operation of public bus transport services. Currently, the Delhi Transport Corporation (DTC) relies on manual methods for scheduling and planning, which are time-consuming and resource-intensive. To improve operational efficiency, reduce errors, and enhance service reliability, DTC needs an automated software solution capable of handling both linked and unlinked duty scheduling. Additionally, the solution should facilitate route management by mapping all existing routes and highlighting overlaps with proposed new routes. This project aims to develop a comprehensive software solution to streamline bus scheduling, optimize resource utilization, and improve route planning. Detailed Description: The Automated Bus Scheduling and Route Management System will utilize lgorithms, data analytics, and geographic information system (GIS) technologies to automate various aspects of bus scheduling and route management. The system will potentially include (but not limited to) features such as: Linked Duty Scheduling: Assign a specific crew to a bus at the start of their duty, ensuring they remain with the bus throughout their shift. Provide tools to manage and monitor crew and bus assignments for better familiarity and accountability. Unlinked Duty Scheduling: Allow crews to hand over buses to other crew members after assigned completing their trips. Manage rest periods for crew menbers and after their reassign them to different buses rest period. Route Management: Map all existing routes and provide a visual representation of the bus network. Enable users to draw new routes and automatically highlight overlaps with existing routes. Optimize route planning to reduce congestion and improve service coverage. Expected Output: A fully functional prototype of the Automated Bus Scheduling and Route Management System demonstrating the above features through the integration of algorithms, data analytics, and GIS technologies. The system will offer a user-friendly interface for schedulers, planners, and managers to interact with the system, manage schedules, plan routes, and access real-time data and reports.",
         "University School of Information, Communication and Technology (USICT), Guru Gobind Singh Indraprastha University(GGSIPU), Government of NCT of Delhi",
         "Government of NCT of Delhi"
        ],
        [
         "86",
         "SIH1613",
         "Automated System for Career Advancements of the Faculties of Higher Education",
         "Software",
         "Smart Education",
         null,
         "Background: This problem requires an innovative approach to enhance the efficiency and transparency of faculty self-appraisal in the university settings. Through a robust web-based platform, the system should address the complexities associated with traditional evaluation processes. It should capture and manages intricate details of faculty activities, encompassing research publications, event participation, seminars, projects, and lectures. The project must aim to create a user-friendly environment for faculty members, optimizing the self-appraisal experience. Employing a secure registration and login system ensures data confidentiality and personalized access. The meticulous automated tracking of research outputs (as done automatically by google scholar) and academic engagements streamlines the evaluation process, providing a consolidated record for administrators. By introducing features for logging events, seminars. projects, and lectures, the system offers a holistic view of faculty contributions beyond the classroom. This comprehensive solution should aligns with the objectives of modernizing appraisal methodologies, fostering a culture of continuous improvement, and supporting Paperless India motive. Administrators, on the other hand, can leverage this data to make informed decisions about faculty development and resource allocation. University Administrators can log in to the Admin Panel and access all the form entries submitted by the faculty members. They can view all the details in the form, sort the form entries according to Name, Employee Code or Date of Submission. They can then download the form submission details in a PDF format. In contemporary academic institutions, the process of faculty self-appraisal plays a crucial role in ensuring quality education, fostering professional development, and aligning individual contributions with institutional goals. However, traditional appraisal methods often entail cumbersome paperwork, lack of transparency, and inefficiencies that can hinder comprehensive evaluation. This real-time application seeks to address these challenges by introducing a streamlined, web-based solution that enhances the efficiency and transparency of the appraisal process. This innovative platform should be designed to meticulously capture and manage a wide range of faculty activity, including research publications (automatically as done by google scholar), event participation, seminars, projects, and lectures. By leveraging technology, the system should provide a user-friendly interface that facilitates easy logging and tracking of academic contributions. The secure registration and login system should ensure that faculty data remains confidential and accessible only to authorized personnel. Moreover, the platform should support administrators by offering a consolidated view of faculty performance. The Admin Panel should enable administrators to access, Sort, and download detailed appraisal data, thereby supporting informed decision- making regarding Faculty development and resource allocation. This digital approach should not only modernizes the appraisal process but also it should aligns with the broader objective of promoting sustainable and paperless administrative practices. Detailed Description: In the dynamic landscape of higher education, the imperative for effective systems to evaluate and enhance faculty performance has become increasingly apparent. Existing approaches to faculty appraisal often lack transparency and a data-driven foundation, hindering the ability to recognize and promote excellence. This underscores the pressing need for an innovative solution. The “Automated System for Career Advancements of the Faculties of Higher Education\"\" project should addresses this critical gap by introducing a comprehensive and dynamic platform. This application must empower faculty members to engage in a transparent and assessment self-driven of their professional activities. By facilitating documentation and evaluation of contributions in teaching, research, and community engagement, the system must offer a transformative approach to performance appraisal within university context. The project must offer numerous benefits to both faculty members and university administrators. Faculty should be able to maintain a detailed and organized record of their professional activities, helping them track progress and identify areas for improvement. Administrators, on the other hand, should leverage this data to make informed decisions about faculty development and resource allocation. Expected Solutions: The primary objectives of the \"\"Automated System for Career Advancements of the Faculties of Higher Education\"\" are to alleviate the challenges inherent in traditional paper-based processes. This project must aim to streamline and modernize faculty self-appraisal by implementing a secure, user-friendly web-based platform. The key focus must be on reducing administrative burdens, minimizing time consumption through digital processes, and enhancing data accuracy. By centralizing faculty information, the system seeks to provide administrators with efficient tools for evaluation, contributing to a more transparent and accountable appraisal process. Ultimately, the project aims to optimize the overall faculty assessment experience, fostering a culture of continuous improvement in higher education institutions. REAL-TIME APPLICATION Faculty should be able to update their activities, such as research publications, event participation, and seminars, in real-time, eliminating delays associated with traditional methods. This dynamic system must ensure administrators have instant access to the latest information for timely and informed decision-making. The website's real-time capabilities enhance the overall efficiency of the faculty self-appraisal process, promoting a more agile and responsive approach to performance evaluation in the academic environment. SOFTWARE REQUIREMENT -Web Browser: Compatible web browser (e.g., Chrome, Firefox) for accessing and interacting with the Faculty Self-Appraisal Database Management Website. -Postman: Postman for testing API endpoints and ensuring seamless communication between the web application and server. -Git and GitHub: Git for version control and GitHub for collaborative development, facilitating efficient code management and collaboration. -VSCode: Visual Studio Code (VSCode) as the integrated development environment (IDE) for code editing, debugging, and project management during the development of the web application. HARDWARE REQUIREMENT -OS: Windows 10 or above or any other OS (e.g. Linux). -Processor (not minimum requirement): A modern quad-core or above for seamless and smooth development process of application. -RAM: At least 4 GB of available RAM to be able to run the Web App on the Browser. -GPU: Any GPU can be preferred. -Storage: Sufficient storage can be fulfilled by SSD or HDD. FUNCTIONAL REQUIREMENTS -User Authentication: Users must register and log in securely. Unique user profiles for faculty members and authorized administrators. -Data Collection Form: Implement a comprehensive \"\"SELF APPRAISAL FORM\"\" for faculty activities. Capture personal and professional details in a user-friendly interface. -Manage Database: Establish a secure database to store faculty self- appraisal data. Ensure efficient data retrieval and management for evaluation purposes. -Client-Side Scripting: Employ client-side scripting (e.g., JavaScript) for dynamic and responsive user interfaces. Enhance user experience with real-time form validation and interactive features. -Server-Side Scripting: Utilize server-side scripting (e.g.. Node.js, Python) for processing and storing data securely. Enable seamless communication between the front-end and back-end components. -Event Logging: Enable faculty to log events, seminars, projects, and lectures for a comprehensive assessment. Capture details to provide insights into faculty contributions beyond traditional metrics NON - FUNCTIONAL REQUIREMENTS -Performance: The system must respond promptly to user interactions, with minimal latency during data retrieval and form submissions. -Scalability: The web application should accommodate an increasing number of users and data entries without compromising performance. -Reliability: Ensure high system availability with minimal downtime for routine maintenance, updates, or unforeseen issues. -Security: Implement robust security measures, including encryption and access controls, to protect sensitive faculty data and maintain user privacy. -Usability: The interface must be intuitive and user-friendly, requiring minimal training for faculty members and administrators to navigate and use the system efficiently. The implementation of the given problem must successfully address the longstanding challenges embedded in traditional paper-based faculty self-appraisal processes within higher education. The system must possess crucial features, such as secure user authentication, ensuring that faculty members and authorized administrators have unique and protected access to the platform. A comprehensive system should be seamlessly integrated, providing faculty members with a user-friendly interface to submit personal and professional details efficiently. The system must establishe a secure database, ensuring the confidentiality and integrity of faculty self-appraisal data. Robust client-side scripting, powered by JavaScript, it should enhance the user experience with dynamic and responsive interfaces, real-time form validation, and interactive features. Moreover, the system must include an admin panel that provides administrators with centralized access to all submitted appraisal forms. This panel must allow administrators to view, sort, and manage appraisal data efficiently. They can sort entries based on various criteria such as Name, Employee Code, or Date of Submission, streamlining the process of data retrieval and analysis. Additionally, administrators can download the submission details in PDF format, facilitating easy record-keeping and reporting.",
         "University School of Information, Communication and Technology (USICT), Guru Gobind Singh Indraprastha University(GGSIPU), Government of NCT of Delhi",
         "Government of NCT of Delhi"
        ],
        [
         "87",
         "SIH1614",
         "Publications summary generator for faculty members profile building",
         "Software",
         "Smart Education",
         null,
         "Description: 1. Background: For a much simplified and initial solution, input (publication record) can also be provided in a consolidated single bibtex file. However, it is desirable to provide input as an excel sheet, as mentioned earlier. 2. Description: The proposed solution should be able to crawl different popular academic databases, like Google Scholar, DBLP, etc. Often it is desired to have a publication record in a specific period for submission to various accrediting agencies by HEI's; therefore solution may have a provision for such customized queries. Expected solutions: The desired solution is required for generating publication summary for faculty profile showcase. Following are the identified inputs and expected outcomes Input: 1. Faculty names as mentioned in their respective academic profile (research papers) in an excel sheet 2. Year-wise publication record in journals which is exportable in words and excel 3. Year-wise publication record in conferences which is exportable in words and excel 4. Customized publication records in a particular duration",
         "University School of Information, Communication and Technology (USICT), Guru Gobind Singh Indraprastha University(GGSIPU), Government of NCT of Delhi",
         "Government of NCT of Delhi"
        ],
        [
         "88",
         "SIH1615",
         "Learning path dashboard for enhancing skills",
         "Software",
         "Smart Education",
         null,
         "Background: For a much simplified and initial solution, input (publication record) can also be provided in a consolidated single .bibtex file. However, it is desirable to provide input as an excel sheet, as mentioned earlier. Description: The proposed solution should be able. Instructor shall have educational resources files in different formats like pdf, word, etc. and hyper-links of relevant academic literature Expected solutions: The desired solution is required to: -Learning dashboard showing different reading statistics like reading time of a particular topic. Total finishing time of a particular skill. -The instructor should be able to easily create a learning path along with incorporating learning resources, as mentioned \"\"inputs.\"\" including videos. -Progress made by the learner should be continuously updated. -The desired solution must follow UX principles",
         "University School of Information, Communication and Technology (USICT), Guru Gobind Singh Indraprastha University(GGSIPU), Government of NCT of Delhi",
         "Government of NCT of Delhi"
        ],
        [
         "89",
         "SIH1616",
         "The technological solutions for capturing AQI values through mobile and other forms of stations",
         "Software",
         "Clean & Green Technology",
         null,
         "DPCC is using different stations at fixed sites for measurement of AQI and other pollution parameters. These fixed stations suffered from various limitations and generally do not give representative values e.g. station located near an industrial area will give higher readings due to proximity to such industrial area which may not be representative of the wider area. Similarly, a temporary construction site/activity near these fixed sites give higher pollution readings due to local reasons. The technological solutions may be required for capturing AQI values through mobile and other forms of stations. Drone would be one of the options where they can record real-time pollution parameters through on-board sensors.",
         "Department of Information Technology",
         "Government of NCT of Delhi"
        ],
        [
         "90",
         "SIH1617",
         "Dynamic route rationalization model based on machine learning/AI would be required based on real-time traffic and road parameters.",
         "Software",
         "Smart Automation",
         null,
         "Transport Sector - DTC is trying to work out various modules for route rationalization. The real-time monitoring of buses for effective route rationalization may be one of the challenges to prevent bunching of buses on a specific route or long delays in arrival of buses. The problem cannot be addressed by fixed time schedule owing to various factors like traffic Conditions, road conditions and other such factors. A dynamic route rationalization model based on machine learning/AI would be required based on real-time traffic and road parameters.",
         "Department of Information Technology",
         "Government of NCT of Delhi"
        ],
        [
         "91",
         "SIH1618",
         "Online monitoring of Unauthorized construction across the city",
         "Software",
         "Robotics and Drones",
         null,
         "MCD is working on monitoring of unauthorized construction across th ecity. A viable and low cost solution is required e.g. Drone based surveys of swathes of land/areas as per defined time intervals will help real-time detection of unauthorized construction",
         "Department of Information Technology",
         "Government of NCT of Delhi"
        ],
        [
         "92",
         "SIH1619",
         "Online real-time survey and monitoring of water bodies in Delhi",
         "Software",
         "Miscellaneous",
         null,
         "Technological solution for real-time survey and monitoring of water bodies in Delhi is one of the critical areas for rejuvenation of these water bodies",
         "Department of Information Technology",
         "Government of NCT of Delhi"
        ],
        [
         "93",
         "SIH1620",
         "Queuing models in OPDs/ availability of beds/ admission of patients. A hospital based solution is ideal which can be integrated with city wide module",
         "Software",
         "MedTech / BioTech / HealthTech",
         null,
         "Technological solution as per queuing models in OPDs/availability of beds/admission of patients would be one area. Study of dispensation of various types of medicines/consumables and Inventory management modules at hospital level are key areas requiring support. NIC has already developed some modules but their implementation in Delhi is yet to be started. A hospital based solution is ideal which can be integrated with city wide module may be required.",
         "Department of Information Technology",
         "Government of NCT of Delhi"
        ],
        [
         "94",
         "SIH1621",
         "Online testing and monitoring of quality of medicines and consumables",
         "Software",
         "MedTech / BioTech / HealthTech",
         null,
         "Suitable technological module for testing and monitoring of quality of medicines and consumables being received in hospitals would be required so that the system ensures necessary compilance and rejection of low quality supplies without manual intervention",
         "Department of Information Technology",
         "Government of NCT of Delhi"
        ],
        [
         "95",
         "SIH1622",
         "Online issuance of Caste and other certificates by Revenue Department need real-time monitoring",
         "Software",
         "Smart Automation",
         null,
         "The issuance of Caste and other certificates by Revenue Department need real-time monitoring to evaluate the resource allocation and demand for such certificates. The allocation of resources at present is done without any analysis leading to huge backlogs in some Sub-divison where the application load is very high. Any effective monitoring at District and Central level with detailed evaluation shall enable providing better allocation of resources for issuanc of such certificates",
         "Department of Information Technology",
         "Government of NCT of Delhi"
        ],
        [
         "96",
         "SIH1623",
         "real-time monitoring and evaluation software for application received in Fire Department relating to inspections, follow-ups, issue of NOCs",
         "Software",
         "Smart Automation",
         null,
         "A real-time monitoring and evaluation software for application received in Fire Department relating to inspections, follow-ups, issue of NOCs and such licensing requirement so as to ensusre automatic system monitoring without any manual support.",
         "Department of Information Technology",
         "Government of NCT of Delhi"
        ],
        [
         "97",
         "SIH1624",
         "To develop an Artificial Intelligence (AI) based model for electricity demand projection including peak demand projection for Delhi Power system",
         "Software",
         "Smart Automation",
         null,
         "Background: The load profile of power requirement in NCT of Delhi is highly peculiar. We are witnessing huge load variations during the winter and summer months and also during day and night during the same 24-hour window. This causes imbalance in matching the requisite power purchase with the electricity demand. Description: The peak load in Delhi touched 8300 MW this summer while the minimum load during winters goes as low as 2000 MW. The peak during the summer months also occurs twice i.e. first during the day time at about 15:30 hrs and second time in night hours after 23:00 hrs. Further, the solar generation comes during the day time and wanes by the evening hours thereby lending a Duck-curve effect. Solar plants have been allowed +/- 15% variation by CERC. Further, there is uneven load growth in the city, the upcoming areas are witnessing huge load growth while the developed areas are having the lower organic load growth. In addition to that the load curve in Delhi is highly peaky in nature due to the fact that most of the load is domestic and commercial load while industrial load is minimal. Here it may be taken note that while in other States, industrial load which is 24 x 7 in nature lends stability to the overall load curve of the State. Further, in Delhi agricultural load is minimal. In bigger States, having considerable agricultural load, the supply on agricultural feeders is normally given when ample power is available at cheaper rates, especially during early morning hours/ night hours, which in -turn provides stability to the State' Transmission and Distribution network and also balances power purchase stipulation. Most of the Long Term power is available RTC (Round the Clock) and Slot-wise power is more expensive. Expected Solution: An Artificial Intelligence based model be developed with suitable compensation methodology to factor the weather effects (like temperature humidity, and wind speed, rains/showers), public holidays/ weekly holidays, natural load growth, and real estate development.",
         "Delhi State Load Despatch Centre/Delhi Transco Limited (DTL)",
         "Government of NCT of Delhi"
        ],
        [
         "98",
         "SIH1625",
         "Smart Classroom Management Software for Enhanced Learning Environments",
         "Software",
         "Smart Automation",
         null,
         "Background: In modern educational settings, managing classrooms efficiently while ensuring a conducive learning environment is crucial. Traditional methods of classroom management are often manual, time-consuming, and prone to human error, which can disrupt the learning process. Leveraging software-based solutions in classroom management can enhance operational efficiency, ensure safety, and create an engaging learning atmosphere for students. This project aims to develop a smart software solution to streamline classroom operations, improve resource utilization, and enhance the overall learning experience. Detailed Description: The Smart Classroom Management Software (SCMS) can utilize advanced algorithms, data analytics, and cloud-based technologies to automate various aspects of classroom management. The system can potentially include (but not limited to) features such as: 1. Attendance Automation: Use facial recognition algorithms or mobile app-based check-ins to automatically record student attendance. Generate real-time attendance reports accessible by teachers and administration. 2. Resource Management: Track the usage of classroom resources such as projectors, computers, and other teaching aids through a centralized software platform. Automate the scheduling and maintenance of these resources to minimize downtime. 3. Safety and Security Alerts: Implement software-based alerts for emergencies such as fire, unauthorized access, or other security concerns, integrated with existing security systems. Alert authorities and stakeholders through real-time notifications and reports. 4. Interactive Learning Tools: Integration with existing smart boars and interactive displays to adapt to the teaching content and student needs. Provide real-time feedback and analytics on student engagement and performance. 5. Data Analytics: Collect and analyse data on various classroom activities to provide insights into student behaviour, attendance patterns, and resource utilization. Generate predictive reports to aid in decision-making and improve educational outcomes. AI-based Chabot for helping students to understand their learning gaps. Expected Output: A fully functional prototype of the Smart Classroom Management Software (SCMS) demonstrating the above features through the integration of advanced algorithms, data analytics, and cloud-based technologic. A user-friendly interface for students, (teachers and administrators to interact with the system and access reports.",
         "Eduction Department",
         "Government of NCT of Delhi"
        ],
        [
         "99",
         "SIH1626",
         "Health Data Information & Management System Mobile Application (HDIMS)",
         "Software",
         "MedTech / BioTech / HealthTech",
         null,
         "Hospitals/Departments shall be able to enter and Update Data in the Mobile Application which can be viewed by the Super Admin dynamically for efficient Implementation of Health and Family Welfare Schemes, other Health programmes and provide key inputs for policy formulation and appropriate programme interventions. This Mobile Application will facilitates the flow of physical performance from the Facility level to the Sub-district, District and State/Union Territory level using Health Data Information & Management System Mobile Application (HDIMS) interface",
         "Health and Family Welfare Department",
         "Government of NCT of Delhi"
        ],
        [
         "100",
         "SIH1627",
         "Drug Inventory and supply chain Tracking system",
         "Software",
         "MedTech / BioTech / HealthTech",
         null,
         "With the aim to provide \"Right Quantity of \"Right Product\" on \"Right Place\" on \"Right Time\" in \"Right Condition\" at \"Right Cost\" for \"Right People\" and also to streamline the distribution of drugs to institutions and ensure availability of drugs at all times, a new, innovative system named Drug Inventory and supply chain Tracking system is required: To improve efficiency and effectiveness of procurement and distribution systems through robust quality controls To provide dashboard based online monitoring of all activities at each level Tracking of vendor activities like preparation of Supply Order, Shipment etc. Monitoring of Drug consumption pattern at the Hospitals/Medical Institutions Level",
         "Health and Family Welfare Department",
         "Government of NCT of Delhi"
        ],
        [
         "101",
         "SIH1628",
         "Smart Competency Diagnostic and Candidate Profile Score Calculator",
         "Software",
         "Smart Education",
         null,
         "Project Concept: Comprehensive Employment Platform/Portal The current employment portal lacks a personalized and adaptive approach to job matching and skill development. There is a need for an intelligent system that not only matches job seekers with potential employers but also identifies and suggests training courses to bridge skill gaps. We wish to design a competency diagnostic which would ask a series of questions to students to test their competence and based on their scores in the test, recommend jobs to them and also appropriate training courses to them to cover the gaps in their skill curve. Requirements: 1. AI-Powered Job/Training Recommendation System: • Implement an AI-based recommendation system trained on multiple data points (e.g., skills, experience, preferences) to analyze job seekers' profiles and recommend suitable job opportunities. • Training Course Recommendations: Suggest relevant online courses, workshops, and training programs based on the desired job roles. 2. Skill Gap Analysis and Recommendations: • Gap Identification: The recommendation System should assess job seekers' competencies against the requirements of their desired job roles to identify areas for improvement. • Personalized Suggestions: Provide tailored recommendations for online courses, workshops, and training programs to help job seekers upskill and close identified gaps. 3. Adaptive Learning Pathways: • Personalized Learning: Develop adaptive learning pathways based on the job seeker's progress and feedback. • Content Variety: Offer a mix of micro-courses, webinars, and hands-on projects relevant to the job market to enhance learning and skill development. 4. Real-Time Job Market Insights based on candidate’s skills and competencies: • Dashboard: Create a dashboard displaying real-time data on trending jobs, skills in demand, and salary benchmarks. • Data Analytics: Use data analytics to provide insights into job market trends and forecast future skill requirements. 5. Skills Verification and Certification: • Skill Assessments: Implement a system for verifying skills and certifying competencies through assessments and tests. • Badges and Certifications: Offer badges and certifications that candidates can display on their profiles and share on social media platforms like LinkedIn. 6. Resume Wizard • Automated Resume Building: Develop a resume wizard to help candidates automatically build their resumes based on their profiles, ensuring a professional and comprehensive presentation of their skills and experiences. 7. Community and Peer Support: • Community Forum: Integrate a community forum where individuals can share experiences, ask questions, and receive support from peers and mentors. • Virtual Events: Organize virtual events, workshops, and webinars focused on employment and career development, including special sessions for people with special needs. Expected Outcome: The system will facilitate a personalized job matching process and offer targeted skill development recommendations, helping job seekers become more competitive in the job market. NOTE : This is an innovation opportunity and students are encouraged to think out of the box to develop solutions which can be presented in newer ways + which can address the needs in out of the box ways for a certain industry OR makes the platform generic. Above description serves as a guide to specify essential needs that can be satisfied for the developed solution and is not limited only to the scope described",
         "Punjab Skill Development Mission (PSDM)",
         "Government of Punjab"
        ],
        [
         "102",
         "SIH1629",
         "Freelancing Platform",
         "Software",
         "Smart Education",
         null,
         "Project Concept : Freelancing Opportunities for India There is a significant gap in connecting freelancers and gig workers with short-term and project-based job opportunities. An platform like upwork is needed to seamlessly connect freelancers with employers and provide tools for managing freelance projects. Requirements: 1. Freelance Job Marketplace: • Develop a marketplace where freelancers can find short-term jobs, gig work, and project-based opportunities. • Allow employers to post projects, specify requirements, and invite freelancers to apply. 2. Freelancer Profile and Portfolio Management: • Enable freelancers to create detailed profiles showcasing their skills, experiences, and portfolio of past work. • Integrate a rating and review system for feedback on completed projects. 3. Extensive Search & Analytics • Enable Employers/Freelancers to do extensive search in the available data / generated data. • Generation of AI enabled insights into the Data and providing newer ways of information availability for job seekers / employers to engage. • AI based Recommendation Systems for seeking opportunities 4.Escrow Account Creation • Create provisions for an escrow account that can be used to hold the money until the job is fully delivered. • Integrate secure payment gateways to facilitate smooth financial transactions between employers and freelancers. Expected Outcome: The platform will connect freelancers with a wide range of job opportunities and provide them with tools to manage projects efficiently, leading to better job satisfaction and increased income opportunities. NOTE : This is an innovation opportunity and students are encouraged to think out of the box to develop solutions which can be presented in newer ways + which can address the needs in out of the box ways for a certain industry OR makes the platform generic. Above description serves as a guide to specify essential needs that can be satisfied for the developed solution and is not limited only to the scope described",
         "Punjab Skill Development Mission (PSDM)",
         "Government of Punjab"
        ],
        [
         "103",
         "SIH1630",
         "Mentor Connect",
         "Software",
         "Smart Education",
         null,
         "Project Concept: Mentoring - The best way Mentoring during the Career/Education is a vital aspect for success of a candidate and this can achieve amazingly positive changes in the life of a mentee. Today , India is known due to its demographic advantage and career directions are infinite. However newer directions are demanding candidates to be coached and mentored for progress. This application or platform can be developed by students understanding this knowledge development need and bring together mentor and mentees. Create a platform where candidates can connect with mentors based on the availability of the mentors and mentors should be able to help candidates with their queries and concerns around careers, skill development etc. Mentors could be senior leaders from the industry or could be subject matter experts who have spent appreciable time in the industry and are aware of intricacies around jobs in a specific industry. Requirements: 1. Create an automated calendar booking system: • Booking Automation: Develop an automated calendar booking system that that could create bookings automatically with a mentor based on the mentor’s availability and schedules appointments with mentors based on their availability. The system will check mentors' calendars and automatically find and book suitable time slots for meetings. • User-Friendly Interface: Provide a simple, intuitive interface for candidates to select their preferred time slots, ensuring easy and efficient scheduling. • Integration with Calendly: Consider integrating with existing tools like Calendly to leverage their robust scheduling capabilities. 2. Embedded video call feature: • Video Call Integration: Embed a video call feature within the platform to facilitate virtual meetings between mentors and candidates. • Chat Functionality: Incorporate a chat feature within the video call to allow text-based communication during the session, enabling the sharing of links, documents, and other resources. • Secure and Reliable: Ensure the video call and chat functionalities are secure, reliable, and easy to use. Expected Outcome: The platform will help connect candidates with mentors from the industries and thereby increase their chances of employment through expert guidance and referrals. NOTE : This is an innovation opportunity and students are encouraged to think out of the box to develop solutions which can be presented in newer ways + which can address the needs in out of the box ways for a certain industry OR makes the platform generic. Above description serves as a guide to specify essential needs that can be satisfied for the developed solution and is not limited only to the scope described",
         "Punjab Skill Development Mission (PSDM)",
         "Government of Punjab"
        ],
        [
         "104",
         "SIH1631",
         "AI-Powered Student Assistance Chatbot for Department of Technical Education, Government of Rajasthan.",
         "Software",
         "Smart Education",
         null,
         "Background: There are numerous engineering and polytechnic institutes in Rajasthan running under the Department of Technical Education, Government of Rajasthan. Notably, during the admission process, there is a significant increase in enquiries from various groups, including students, their parents, and other stakeholders. These enquiries cover a wide range of queries related to admission process, eligibility criteria, information about different colleges, fee structure, curriculum , scholarship , hostel facilities, previous year's college and branch-specific allotments placement opportunities and many more. Currently, stakeholders have tocontact colleges individually through phone or email, and sometimes even visit the colleges personally. This process is not only cumbersome for the stakeholders but also demanding to pool manpower for the colleges to manage these inquiries. Detailed Description: With the continuous rise in enquiries, it is becoming increasingly difficult for the colleges to respond promptly and effectively using traditional communication methods. To address this issue more efficiently and ensure timely assistance for everyone, there is a pressing need to adopt new technological solutions. One effective approach is to develop an AI-powered chatbot at centralized level that would serve as a virtual assistant, available 24/7 to answer a wide range of questions. By automating responses to common enquiries, the chatbot would significantly enhance the accessibility to important information and allow staff to focus on handling more complex queries and other critical tasks. For example, the chatbot would provide insights into information about various engineering and polytechnic colleges that falls under the jurisdiction of Department of Technical Education, and guide users through the admission processes, explain fee structures, share curriculum updates, provide details about available scholarships, share alumni information, and share information on job placement opportunities etc This will empower the technical education department because of the ease of providing information, help and advice instantly to prospective students, their parents, and all interested parties. The required information provided by all colleges can be integrated with ease in software. Expected Solutions: 1. Efficient Information Retrieval: The chatbot should rapidly access and provide accurate information from a comprehensive database on topics such as admissions, fees, scholarships, recommendations based on previous years cutoff, minimizing the need for human assistance. Incorporate Natural Language Processing (NLP) to support voice based assistance in English languages and can be extended in Hindi and other regional languages ensuring wide accessibility and understanding. 2. Enhanced User Experience: Design an intuitive interface that allows users to navigate easily and find information quickly. The interface should be straightforward, accessible on common platform, and capable of understanding natural language, ensuring user-friendliness. 3. Reduced Workload: By automating responses to Frequently Asked Questions (FAQ’s), the chatbot will reduce the workload on department staff, allowing them to concentrate on more complex and urgent tasks. 4. Data Insights: The chatbot will gather valuable data from user interactions, helping the department to identify common concerns and optimize it’s services based on these insights.",
         "Center for Electronic Governance",
         "Government of Rajasthan"
        ],
        [
         "105",
         "SIH1632",
         "An Interactive Job and Internship Platform for Technical Education Department, Govt. of Rajasthan",
         "Software",
         "Smart Education",
         null,
         "Background: In today's competitive job market, graduates are encountering enormous challenges while their transition from education to employment. Most of the existing platforms do not provide access to a wide array of job opportunities comprehensively. This limitation spans both the private and government sectors, as well as international employment avenues. Another critical shortcoming is the lack of essential resources such as counselling and guidance facilities. Additionally, there is insufficient support for students seeking internships and industrial training. Detailed Description: This platform shall offer a holistic approach to job searching and career development. It focuses on: · Advanced algorithms and AI-driven matchmaking through connecting job seekers with employers. · Extensive access to job opportunities across various sectors and regions including Private sector, Government sector and Overseas Employment · Counseling Services and Guidance Resources · Emphasis on securing internships and industrial training opportunities. · Mentorship Programs: Pairing with industry professionals for guidance Expected Solution: To address the challenges faced by graduates in the modern job market, we propose the development of a comprehensive and integrated platform that will: 1. Enhance Job Market Connectivity: · Establish a robust and interactive platform that bridges the gap between job seekers and potential employers. · Utilize advanced algorithms and AI to match candidates with suitable job opportunities based on their skills, qualifications, and preferences. 2. Expand Access to Opportunities: · Provide a centralized portal offering exhaustive listings of job opportunities private sector, government sector and overseas employment opportunities · Ensure that the platform is updated regularly with diverse and current job listings to maximize employment possibilities for job seekers. 3. Offer Comprehensive Critical Resources: · Integrate a suite of resources tailored to job seekers, including professional counseling and career guidance services. · Provide tools and resources for resume building, interview preparation, and job application processes. 4. Improve Student Support: · Implement dedicated sections for internships and industrial training opportunities to assist students in gaining practical experience. · Offer mentoring and support services to guide students through the process of securing internships and navigating early career challenges. By implementing this comprehensive solution, the platform will significantly enhance graduates connectivity with potential employers, broaden their access to diverse job opportunities, and provide the critical resources and support needed to succeed in the modern job market.",
         "Center for Electronic Governance",
         "Government of Rajasthan"
        ],
        [
         "106",
         "SIH1633",
         "Intelligent platform to Interconnect Alumni and Student for Technical Education Department, Govt. of Rajasthan",
         "Software",
         "Smart Education",
         null,
         "There is a demand for comprehensive Alumni Student interaction platform for Technical Education Department, Govt. of Rajasthan that can strengthen connections between alumni and current students. Following are the issues currently faced: ? Lack of Centralized System: Technical education currently lacks a centralized system for tracking and updating alumni information, including contact details, specialization, and career paths, which resulting into lack of effective communication and engagement. ? Need for Structured Interaction: Without organized platforms, students lack opportunities on valuable real-world experiences and mentorship from alumni. ? Need for Motivation and Guidance: Many students lack motivation and guidance for clarity in career path . Alumni can be essential mentors and role models, providing insights and advice based on their experiences. Description: This problem aims to establish a platform at Technical Education Department, Govt. of Rajasthan to provide interaction and collaboration among alumni and current students, focusing on: ? Enhancing Alumni Engagement: Increase alumni involvement with the institution and its students. ? Providing Mentorship and Guidance: Inspire students with real-world insights and career guidance from alumni. ? Building a Supportive Network: Develop a robust network for lifelong connections and collaborative opportunities, creating an ecosystem where alumni and students can learn from and support each other. This innovative platform should leverage advanced technologies such as artificial intelligence, machine learning, natural language processing (NLP), etc.. By leveraging these advanced technologies, the platform can significantly enhance its functionality and user experiences such as suggest connections between students and alumni with similar interests or career paths, industry, and skills. Expected Solutions: ? Create an Alumni Database: Develop a centralized database to store and update information on alumni, including their employment status, contact details, educational and professional achievements, and areas of expertise. ? Build an Engagement Platform: Design and implement an online platform for alumni and students to connect, interact, and collaborate. This platform should support: ? Discussion forums ? Mentorship programs ? Career guidance sessions ? Placement assistance ? Academic support ? Conduct Interaction Sessions: Organize regular interaction events, such as: ? Alumni meetups ? Online webinars ? Panel discussions These sessions will provide students with opportunities to learn from alumni, seek advice, and expand their professional networks. Further, the platform shall detect and prevent fake profiles or fraudulent activities on the platform using blockchain or any authenticated technique. It shall detect and filter inappropriate or harmful content in forums, comments, and user profiles. It may integrate AI-driven chatbots to answer common questions, provide guidance, and assist students with navigating the website.",
         "Center for Electronic Governance",
         "Government of Rajasthan"
        ],
        [
         "107",
         "SIH1637",
         "Mobile App for Direct Market Access for Farmers",
         "Software",
         "Agriculture, FoodTech & Rural Development",
         null,
         "Background: Farmers often face challenges in accessing markets, leading to lower income due to middlemen. This gap restricts their ability to sell produce at fair prices. Description: Create a mobile application that connects farmers directly with consumers and retailers. The app should include features for listing produce, negotiating prices, and managing transactions, thereby reducing dependence on intermediaries. Expected Solution: A user-friendly mobile platform that enables farmers to showcase their products and connect with buyers directly, enhancing their income potential.",
         "University of Agricultural Sciences, Dharwad (UASD), The Indian Council of Agricultural Research",
         "Ministry of Agriculture and Farmers Welfare"
        ]
       ],
       "shape": {
        "columns": 8,
        "rows": 178
       }
      },
      "text/html": [
       "<div>\n",
       "<style scoped>\n",
       "    .dataframe tbody tr th:only-of-type {\n",
       "        vertical-align: middle;\n",
       "    }\n",
       "\n",
       "    .dataframe tbody tr th {\n",
       "        vertical-align: top;\n",
       "    }\n",
       "\n",
       "    .dataframe thead th {\n",
       "        text-align: right;\n",
       "    }\n",
       "</style>\n",
       "<table border=\"1\" class=\"dataframe\">\n",
       "  <thead>\n",
       "    <tr style=\"text-align: right;\">\n",
       "      <th></th>\n",
       "      <th>Statement_id</th>\n",
       "      <th>Title</th>\n",
       "      <th>Category</th>\n",
       "      <th>Technology_Bucket</th>\n",
       "      <th>Datasetfile</th>\n",
       "      <th>Description</th>\n",
       "      <th>Department</th>\n",
       "      <th>Organisation</th>\n",
       "    </tr>\n",
       "  </thead>\n",
       "  <tbody>\n",
       "    <tr>\n",
       "      <th>1</th>\n",
       "      <td>SIH1525</td>\n",
       "      <td>Innovating for Sustainability: Driving Smart R...</td>\n",
       "      <td>Software</td>\n",
       "      <td>Smart Resource Conservation</td>\n",
       "      <td>NaN</td>\n",
       "      <td>Innovating for Sustainability: Driving Smart R...</td>\n",
       "      <td>Godrej Appliances</td>\n",
       "      <td>Godrej Appliances</td>\n",
       "    </tr>\n",
       "    <tr>\n",
       "      <th>28</th>\n",
       "      <td>SIH1555</td>\n",
       "      <td>Create a Virtual Herbal Garden that provides a...</td>\n",
       "      <td>Software</td>\n",
       "      <td>MedTech / BioTech / HealthTech</td>\n",
       "      <td>NaN</td>\n",
       "      <td>Background: The AYUSH sector relies heavily on...</td>\n",
       "      <td>All India Institute of Ayurveda (AIIA)</td>\n",
       "      <td>Ministry of AYUSH</td>\n",
       "    </tr>\n",
       "    <tr>\n",
       "      <th>59</th>\n",
       "      <td>SIH1586</td>\n",
       "      <td>Student Innovation</td>\n",
       "      <td>Software</td>\n",
       "      <td>Smart Education</td>\n",
       "      <td>NaN</td>\n",
       "      <td>Smart Education, a Concept that Describes lear...</td>\n",
       "      <td>AICTE</td>\n",
       "      <td>AICTE, MIC-Student Innovation</td>\n",
       "    </tr>\n",
       "    <tr>\n",
       "      <th>60</th>\n",
       "      <td>SIH1587</td>\n",
       "      <td>Student Innovation</td>\n",
       "      <td>Software</td>\n",
       "      <td>Disaster Management</td>\n",
       "      <td>NaN</td>\n",
       "      <td>Disaster Management includes ideas related to ...</td>\n",
       "      <td>AICTE</td>\n",
       "      <td>AICTE, MIC-Student Innovation</td>\n",
       "    </tr>\n",
       "    <tr>\n",
       "      <th>61</th>\n",
       "      <td>SIH1588</td>\n",
       "      <td>Student Innovation</td>\n",
       "      <td>Software</td>\n",
       "      <td>Miscellaneous</td>\n",
       "      <td>NaN</td>\n",
       "      <td>Technology ideas in tertiary sectors like Hosp...</td>\n",
       "      <td>AICTE</td>\n",
       "      <td>AICTE, MIC-Student Innovation</td>\n",
       "    </tr>\n",
       "    <tr>\n",
       "      <th>...</th>\n",
       "      <td>...</td>\n",
       "      <td>...</td>\n",
       "      <td>...</td>\n",
       "      <td>...</td>\n",
       "      <td>...</td>\n",
       "      <td>...</td>\n",
       "      <td>...</td>\n",
       "      <td>...</td>\n",
       "    </tr>\n",
       "    <tr>\n",
       "      <th>239</th>\n",
       "      <td>SIH1776</td>\n",
       "      <td>Design and develop an AI-powered operational m...</td>\n",
       "      <td>Software</td>\n",
       "      <td>Smart Automation</td>\n",
       "      <td>NaN</td>\n",
       "      <td>Background: At present the ITBP guards 3,488 k...</td>\n",
       "      <td>Indo-Tibetan Border Police (ITBP)</td>\n",
       "      <td>Indo-Tibetan Border Police (ITBP), MHA</td>\n",
       "    </tr>\n",
       "    <tr>\n",
       "      <th>240</th>\n",
       "      <td>SIH1777</td>\n",
       "      <td>AI-Driven Inclusive Assessment Tools for Skill...</td>\n",
       "      <td>Software</td>\n",
       "      <td>Smart Education</td>\n",
       "      <td>NaN</td>\n",
       "      <td>Develop an AI-powered quality assessment tool ...</td>\n",
       "      <td>National Council for Vocational Education and ...</td>\n",
       "      <td>Ministry of Skill Development and Entrepreneur...</td>\n",
       "    </tr>\n",
       "    <tr>\n",
       "      <th>242</th>\n",
       "      <td>SIH1779</td>\n",
       "      <td>Voice-Controlled Gaming Tools for Enhanced Lea...</td>\n",
       "      <td>Software</td>\n",
       "      <td>Toys &amp; Games</td>\n",
       "      <td>NaN</td>\n",
       "      <td>Develop voice-controlled gaming tools that enh...</td>\n",
       "      <td>National Council for Vocational Education and ...</td>\n",
       "      <td>Ministry of Skill Development and Entrepreneur...</td>\n",
       "    </tr>\n",
       "    <tr>\n",
       "      <th>244</th>\n",
       "      <td>SIH1781</td>\n",
       "      <td>AI-Enhanced Career Guidance System for Persona...</td>\n",
       "      <td>Software</td>\n",
       "      <td>Smart Education</td>\n",
       "      <td>NaN</td>\n",
       "      <td>Develop an AI-powered career guidance system t...</td>\n",
       "      <td>National Council for Vocational Education and ...</td>\n",
       "      <td>Ministry of Skill Development and Entrepreneur...</td>\n",
       "    </tr>\n",
       "    <tr>\n",
       "      <th>245</th>\n",
       "      <td>SIH1782</td>\n",
       "      <td>An online system to automatically verify new t...</td>\n",
       "      <td>Software</td>\n",
       "      <td>Miscellaneous</td>\n",
       "      <td>https://drive.google.com/drive/folders/13p8Z_X...</td>\n",
       "      <td>Background: Press Registrar General of India (...</td>\n",
       "      <td>Ministry of Information and Broadcasting</td>\n",
       "      <td>Ministry of Information and Broadcasting</td>\n",
       "    </tr>\n",
       "  </tbody>\n",
       "</table>\n",
       "<p>178 rows × 8 columns</p>\n",
       "</div>"
      ],
      "text/plain": [
       "    Statement_id                                              Title  Category  \\\n",
       "1        SIH1525  Innovating for Sustainability: Driving Smart R...  Software   \n",
       "28       SIH1555  Create a Virtual Herbal Garden that provides a...  Software   \n",
       "59       SIH1586                                 Student Innovation  Software   \n",
       "60       SIH1587                                 Student Innovation  Software   \n",
       "61       SIH1588                                 Student Innovation  Software   \n",
       "..           ...                                                ...       ...   \n",
       "239      SIH1776  Design and develop an AI-powered operational m...  Software   \n",
       "240      SIH1777  AI-Driven Inclusive Assessment Tools for Skill...  Software   \n",
       "242      SIH1779  Voice-Controlled Gaming Tools for Enhanced Lea...  Software   \n",
       "244      SIH1781  AI-Enhanced Career Guidance System for Persona...  Software   \n",
       "245      SIH1782  An online system to automatically verify new t...  Software   \n",
       "\n",
       "                  Technology_Bucket  \\\n",
       "1       Smart Resource Conservation   \n",
       "28   MedTech / BioTech / HealthTech   \n",
       "59                  Smart Education   \n",
       "60              Disaster Management   \n",
       "61                    Miscellaneous   \n",
       "..                              ...   \n",
       "239                Smart Automation   \n",
       "240                 Smart Education   \n",
       "242                    Toys & Games   \n",
       "244                 Smart Education   \n",
       "245                   Miscellaneous   \n",
       "\n",
       "                                           Datasetfile  \\\n",
       "1                                                  NaN   \n",
       "28                                                 NaN   \n",
       "59                                                 NaN   \n",
       "60                                                 NaN   \n",
       "61                                                 NaN   \n",
       "..                                                 ...   \n",
       "239                                                NaN   \n",
       "240                                                NaN   \n",
       "242                                                NaN   \n",
       "244                                                NaN   \n",
       "245  https://drive.google.com/drive/folders/13p8Z_X...   \n",
       "\n",
       "                                           Description  \\\n",
       "1    Innovating for Sustainability: Driving Smart R...   \n",
       "28   Background: The AYUSH sector relies heavily on...   \n",
       "59   Smart Education, a Concept that Describes lear...   \n",
       "60   Disaster Management includes ideas related to ...   \n",
       "61   Technology ideas in tertiary sectors like Hosp...   \n",
       "..                                                 ...   \n",
       "239  Background: At present the ITBP guards 3,488 k...   \n",
       "240  Develop an AI-powered quality assessment tool ...   \n",
       "242  Develop voice-controlled gaming tools that enh...   \n",
       "244  Develop an AI-powered career guidance system t...   \n",
       "245  Background: Press Registrar General of India (...   \n",
       "\n",
       "                                            Department  \\\n",
       "1                                    Godrej Appliances   \n",
       "28              All India Institute of Ayurveda (AIIA)   \n",
       "59                                               AICTE   \n",
       "60                                               AICTE   \n",
       "61                                               AICTE   \n",
       "..                                                 ...   \n",
       "239                  Indo-Tibetan Border Police (ITBP)   \n",
       "240  National Council for Vocational Education and ...   \n",
       "242  National Council for Vocational Education and ...   \n",
       "244  National Council for Vocational Education and ...   \n",
       "245           Ministry of Information and Broadcasting   \n",
       "\n",
       "                                          Organisation  \n",
       "1                                    Godrej Appliances  \n",
       "28                                   Ministry of AYUSH  \n",
       "59                       AICTE, MIC-Student Innovation  \n",
       "60                       AICTE, MIC-Student Innovation  \n",
       "61                       AICTE, MIC-Student Innovation  \n",
       "..                                                 ...  \n",
       "239             Indo-Tibetan Border Police (ITBP), MHA  \n",
       "240  Ministry of Skill Development and Entrepreneur...  \n",
       "242  Ministry of Skill Development and Entrepreneur...  \n",
       "244  Ministry of Skill Development and Entrepreneur...  \n",
       "245           Ministry of Information and Broadcasting  \n",
       "\n",
       "[178 rows x 8 columns]"
      ]
     },
     "execution_count": 3,
     "metadata": {},
     "output_type": "execute_result"
    }
   ],
   "source": [
    "df[(df['Category']=='Software')]"
   ]
  },
  {
   "cell_type": "code",
   "execution_count": 4,
   "metadata": {},
   "outputs": [
    {
     "data": {
      "text/plain": [
       "array(['Smart Resource Conservation', 'Smart Education',\n",
       "       'Disaster Management', 'Miscellaneous',\n",
       "       'Blockchain & Cybersecurity', 'Renewable / Sustainable Energy',\n",
       "       'Travel & Tourism', 'Clean & Green Technology',\n",
       "       'Robotics and Drones', 'Transportation & Logistics',\n",
       "       'Smart Vehicles', 'Agriculture, FoodTech & Rural Development',\n",
       "       'MedTech / BioTech / HealthTech', 'Heritage & Culture',\n",
       "       'Fitness & Sports', 'Smart Automation', 'Toys & Games',\n",
       "       'Space Technology'], dtype=object)"
      ]
     },
     "execution_count": 4,
     "metadata": {},
     "output_type": "execute_result"
    }
   ],
   "source": [
    "df['Technology_Bucket'].unique()"
   ]
  },
  {
   "cell_type": "code",
   "execution_count": 5,
   "metadata": {},
   "outputs": [
    {
     "data": {
      "application/vnd.microsoft.datawrangler.viewer.v0+json": {
       "columns": [
        {
         "name": "index",
         "rawType": "int64",
         "type": "integer"
        },
        {
         "name": "Statement_id",
         "rawType": "object",
         "type": "string"
        },
        {
         "name": "Title",
         "rawType": "object",
         "type": "string"
        },
        {
         "name": "Category",
         "rawType": "object",
         "type": "string"
        },
        {
         "name": "Technology_Bucket",
         "rawType": "object",
         "type": "string"
        },
        {
         "name": "Datasetfile",
         "rawType": "object",
         "type": "unknown"
        },
        {
         "name": "Description",
         "rawType": "object",
         "type": "string"
        },
        {
         "name": "Department",
         "rawType": "object",
         "type": "string"
        },
        {
         "name": "Organisation",
         "rawType": "object",
         "type": "string"
        }
       ],
       "conversionMethod": "pd.DataFrame",
       "ref": "51502cbb-82e3-4547-8bb3-5f1b7ef2e04a",
       "rows": [
        [
         "63",
         "SIH1590",
         "Student Innovation",
         "Software",
         "Renewable / Sustainable Energy",
         null,
         "Innovative ideas that help manage and generate renewable /sustainable sources more efficiently.",
         "AICTE",
         "AICTE, MIC-Student Innovation"
        ],
        [
         "114",
         "SIH1644",
         "A web application specifically designed for Indian coal mines to quantify their carbon footprint and explore pathways to carbon neutrality.",
         "Software",
         "Renewable / Sustainable Energy",
         null,
         "Background: India faces a complex challenge in balancing its reliance on coal for energy with its climate change commitments. Coal mining is a major source of carbon emissions, a greenhouse gas contributing to global warming. To achieve carbon neutrality, the Indian coal sector needs to offset its emissions. This can be done through a combination of strategies like reducing emissions from mining activities, adopting cleaner technologies, and offsetting remaining emissions by planting trees that absorb carbon dioxide. A web-based application can be a powerful tool in this journey by helping quantify a mine's carbon footprint and evaluate potential pathways to carbon neutrality. Description: The web based application will have following objectives: Activity wise quantification of Carbon emission in Coal Mines Estimation of existing Carbon Sinks Gap analysis between C emission and sinks and suggesting pathways to carbon neutrality Expected Solution: A comprehensive software solution that includes: Emission estimation: The app would allow users to input data on various mining activities (e.g., excavation, transportation, equipment usage) and estimate the associated carbon emissions based on establishd emission factors. Estimation of Per Capita emissions of a Mine. Carbon Neutrality Pathways: The app could offer features for simulating different emission reduction strategies like: Clean technologies: Assessing the impact of adopting electric vehicles, methane capture systems, and renewable energy sources for mine operations. Afforestation offsets: Calculating the amount of land required for tree plantation to offset remaining emissions based on state specific afforestation plan and Carbon emission reduction. Other Renewables: explore alternative use of energy to reduce direct electricity consumption. Any other pathways: Carbon Credits: Estimation of potential Carbon credit earned as per present market rates. Data visualization: The app should present results visually, using charts and graphs to track emission trends and the effectiveness of implemented strategies. Scalability: Design the app to accommodate different mine sizes and types (underground vs open-cast). Benefits: Transparency: Providing a clear picture of a mine's carbon footprint. Decision support: Helping mine operators make informed choices for emission reduction. Cost savings: Identifying opportunities to optimize operations and potentially reduce costs associated with emissions. Sustainability goals: Aiding Indian coal mines in their journey towards carbon neutrality and supporting the country's overall climate goals.",
         "Central Mine Planning & Design Institute Limited",
         "Ministry of Coal"
        ],
        [
         "205",
         "SIH1739",
         "Building Integrated Photo-voltaic (BIPV) potential assessment and visualisation using LOD-1 3D City Model",
         "Software",
         "Renewable / Sustainable Energy",
         null,
         "Description: Building Integrated Photovoltaic (BIPV) systems are the solar power generating products or systems that are seamlessly integrated into the building envelop. The satellite data from Indian Satellites such as Cartosat-2/3 and Cartosat-1 are capable of generating 3D city models up to LoD-1. These LoD1 models, which are derived by extruding a footprint to a uniform height, can be used for simulating building shadows. This project aims to develop an interactive application for assessing BIPV potential using LOD-1 3D city model. It will involve simulating shadow of adjoining buildings on each face of the building and estimating incident solar energy on the vertical face of the building. The application will render the building surface according to available BIPV potential. Challenge: * 3D Visualisation of LOD-1 City Model * Simulating Building Shadows in 3D * 3D Rendering of BIPV Potential on Building Usage: Application of Space-based inputs for Renewable Energy Users: The application will be deployed on VEDAS portal's '3D City Model and Rooftop Solar Potential' application. It will be usefu for Policy-makers (State & Central Government), Solar Energy Solution Providers, Architects and citizens. Available Solutions (if Yes, reasons for not using them): Commercial Architectural Packages like Autodesk are suitable for building-level analysis and require substantial level of details. 3D GIS packages such as ESRI City Engine or Cesium provide visualisation capabilities. Software for city-wide BIPV potential estimation are currently not available in public domain. Desired Outcome: An interactive application where user provides a date (for calculating sun-position) and daily Global Horizontal Irradiation (GHI) value, and the application generates corresponding 3D city model rendered according to incident solar energy for that day. The application also provide total BIPV and rooftop PV energy potential available in the building.",
         "Indian Space Research Organization (ISRO)",
         "Indian Space Research Organization (ISRO)"
        ]
       ],
       "shape": {
        "columns": 8,
        "rows": 3
       }
      },
      "text/html": [
       "<div>\n",
       "<style scoped>\n",
       "    .dataframe tbody tr th:only-of-type {\n",
       "        vertical-align: middle;\n",
       "    }\n",
       "\n",
       "    .dataframe tbody tr th {\n",
       "        vertical-align: top;\n",
       "    }\n",
       "\n",
       "    .dataframe thead th {\n",
       "        text-align: right;\n",
       "    }\n",
       "</style>\n",
       "<table border=\"1\" class=\"dataframe\">\n",
       "  <thead>\n",
       "    <tr style=\"text-align: right;\">\n",
       "      <th></th>\n",
       "      <th>Statement_id</th>\n",
       "      <th>Title</th>\n",
       "      <th>Category</th>\n",
       "      <th>Technology_Bucket</th>\n",
       "      <th>Datasetfile</th>\n",
       "      <th>Description</th>\n",
       "      <th>Department</th>\n",
       "      <th>Organisation</th>\n",
       "    </tr>\n",
       "  </thead>\n",
       "  <tbody>\n",
       "    <tr>\n",
       "      <th>63</th>\n",
       "      <td>SIH1590</td>\n",
       "      <td>Student Innovation</td>\n",
       "      <td>Software</td>\n",
       "      <td>Renewable / Sustainable Energy</td>\n",
       "      <td>NaN</td>\n",
       "      <td>Innovative ideas that help manage and generate...</td>\n",
       "      <td>AICTE</td>\n",
       "      <td>AICTE, MIC-Student Innovation</td>\n",
       "    </tr>\n",
       "    <tr>\n",
       "      <th>114</th>\n",
       "      <td>SIH1644</td>\n",
       "      <td>A web application specifically designed for In...</td>\n",
       "      <td>Software</td>\n",
       "      <td>Renewable / Sustainable Energy</td>\n",
       "      <td>NaN</td>\n",
       "      <td>Background: India faces a complex challenge in...</td>\n",
       "      <td>Central Mine Planning &amp; Design Institute Limited</td>\n",
       "      <td>Ministry of Coal</td>\n",
       "    </tr>\n",
       "    <tr>\n",
       "      <th>205</th>\n",
       "      <td>SIH1739</td>\n",
       "      <td>Building Integrated Photo-voltaic (BIPV) poten...</td>\n",
       "      <td>Software</td>\n",
       "      <td>Renewable / Sustainable Energy</td>\n",
       "      <td>NaN</td>\n",
       "      <td>Description: Building Integrated Photovoltaic ...</td>\n",
       "      <td>Indian Space Research Organization (ISRO)</td>\n",
       "      <td>Indian Space Research Organization (ISRO)</td>\n",
       "    </tr>\n",
       "  </tbody>\n",
       "</table>\n",
       "</div>"
      ],
      "text/plain": [
       "    Statement_id                                              Title  Category  \\\n",
       "63       SIH1590                                 Student Innovation  Software   \n",
       "114      SIH1644  A web application specifically designed for In...  Software   \n",
       "205      SIH1739  Building Integrated Photo-voltaic (BIPV) poten...  Software   \n",
       "\n",
       "                  Technology_Bucket Datasetfile  \\\n",
       "63   Renewable / Sustainable Energy         NaN   \n",
       "114  Renewable / Sustainable Energy         NaN   \n",
       "205  Renewable / Sustainable Energy         NaN   \n",
       "\n",
       "                                           Description  \\\n",
       "63   Innovative ideas that help manage and generate...   \n",
       "114  Background: India faces a complex challenge in...   \n",
       "205  Description: Building Integrated Photovoltaic ...   \n",
       "\n",
       "                                           Department  \\\n",
       "63                                              AICTE   \n",
       "114  Central Mine Planning & Design Institute Limited   \n",
       "205         Indian Space Research Organization (ISRO)   \n",
       "\n",
       "                                  Organisation  \n",
       "63               AICTE, MIC-Student Innovation  \n",
       "114                           Ministry of Coal  \n",
       "205  Indian Space Research Organization (ISRO)  "
      ]
     },
     "execution_count": 5,
     "metadata": {},
     "output_type": "execute_result"
    }
   ],
   "source": [
    "df[(df['Technology_Bucket'] == 'Renewable / Sustainable Energy') & (df['Category'] == 'Software')]"
   ]
  },
  {
   "cell_type": "code",
   "execution_count": 7,
   "metadata": {},
   "outputs": [
    {
     "data": {
      "application/vnd.microsoft.datawrangler.viewer.v0+json": {
       "columns": [
        {
         "name": "index",
         "rawType": "int64",
         "type": "integer"
        },
        {
         "name": "Statement_id",
         "rawType": "object",
         "type": "string"
        },
        {
         "name": "Title",
         "rawType": "object",
         "type": "string"
        },
        {
         "name": "Category",
         "rawType": "object",
         "type": "string"
        },
        {
         "name": "Technology_Bucket",
         "rawType": "object",
         "type": "string"
        },
        {
         "name": "Datasetfile",
         "rawType": "object",
         "type": "unknown"
        },
        {
         "name": "Description",
         "rawType": "object",
         "type": "string"
        },
        {
         "name": "Department",
         "rawType": "object",
         "type": "string"
        },
        {
         "name": "Organisation",
         "rawType": "object",
         "type": "string"
        }
       ],
       "conversionMethod": "pd.DataFrame",
       "ref": "e13f2fbd-03d2-451b-9f68-dfe0242bb5d8",
       "rows": [
        [
         "60",
         "SIH1587",
         "Student Innovation",
         "Software",
         "Disaster Management",
         null,
         "Disaster Management includes ideas related to risk mitigation and Planning before,after or Duration of Disaster.",
         "AICTE",
         "AICTE, MIC-Student Innovation"
        ],
        [
         "120",
         "SIH1650",
         "Early Warning System for Glacial Lake Outburst Floods (GLOFs)",
         "Software",
         "Disaster Management",
         null,
         "• Background: Glacial Lake Outburst Floods (GLOFs) occur when the dam containing a glacial lake fails, releasing large volumes of water suddenly and causing catastrophic downstream flooding. Climate change is increasing the number and size of glacial lakes, heightening the risk of GLOFs. Curent monitoring and prediction methods can be improved with advanced technologies like remote sensing, sensors installed near glacial lakes and machine learning. • Description: The aim is to develop a remote sensing and/or sensor-based Early Warning System (EWS) for GLOFs by utilizing remote sensing data, network of IoT sensors and advanced data analytics. The system will continuously monitor and identify critical changes in lake size, water level, temperature, sudden water flow, dam stability and ground movement etc. around glacial lakes. The machine learning algorithms will analyse the information to detect early signs of potential outbursts. This approach will significantly enhance the capability to predict and respond to GLOFs, improving safety, reducing economic losses, and contributing to resilient infrastructure planning in glacial regions. • Expected Solution: A Sensor which can be installed in glacial lake area, or a predictive model that significantly improves the Early Warning System ability for GLOFs, providing critical lead time for evacuation and mitigation efforts.",
         "DGRE, DRDO",
         "Ministry of Defence"
        ],
        [
         "154",
         "SIH1687",
         "Real-Time Disaster Information Aggregation Software",
         "Software",
         "Disaster Management",
         null,
         "Background: Disaster response agencies often stuggle to gather timely and specific information about emergencies from various sources. Social media platforms serve as a valuable repository of such data, but manually monitoring and sorting through the vast amount of information is inefficient and resource-intensive. Description: There is a pressing need for a software solution that can efficiently aggregate and categorize specific disaster-related data from social media, news portals, and other open sources. This software would utilize advanced algorithms to sift through the abundance of information and classify it into different categories data would then be presented on a user- friendly dashboard, allowing disaster response agencies to quickly access relevant information and plan their actions accordingly. Expected Solutions: The software solutions will streamline the process of gathering and categorizing disaster-related data from various soucres, significantly reducing the time required for response efforts. By providing real-time insights and actionable information, the software will enhance the effectiveness of disaster response operations, ultimately saving lives.",
         "NDRF",
         "The National Disaster Response Force (NDRF), MHA"
        ]
       ],
       "shape": {
        "columns": 8,
        "rows": 3
       }
      },
      "text/html": [
       "<div>\n",
       "<style scoped>\n",
       "    .dataframe tbody tr th:only-of-type {\n",
       "        vertical-align: middle;\n",
       "    }\n",
       "\n",
       "    .dataframe tbody tr th {\n",
       "        vertical-align: top;\n",
       "    }\n",
       "\n",
       "    .dataframe thead th {\n",
       "        text-align: right;\n",
       "    }\n",
       "</style>\n",
       "<table border=\"1\" class=\"dataframe\">\n",
       "  <thead>\n",
       "    <tr style=\"text-align: right;\">\n",
       "      <th></th>\n",
       "      <th>Statement_id</th>\n",
       "      <th>Title</th>\n",
       "      <th>Category</th>\n",
       "      <th>Technology_Bucket</th>\n",
       "      <th>Datasetfile</th>\n",
       "      <th>Description</th>\n",
       "      <th>Department</th>\n",
       "      <th>Organisation</th>\n",
       "    </tr>\n",
       "  </thead>\n",
       "  <tbody>\n",
       "    <tr>\n",
       "      <th>60</th>\n",
       "      <td>SIH1587</td>\n",
       "      <td>Student Innovation</td>\n",
       "      <td>Software</td>\n",
       "      <td>Disaster Management</td>\n",
       "      <td>NaN</td>\n",
       "      <td>Disaster Management includes ideas related to ...</td>\n",
       "      <td>AICTE</td>\n",
       "      <td>AICTE, MIC-Student Innovation</td>\n",
       "    </tr>\n",
       "    <tr>\n",
       "      <th>120</th>\n",
       "      <td>SIH1650</td>\n",
       "      <td>Early Warning System for Glacial Lake Outburst...</td>\n",
       "      <td>Software</td>\n",
       "      <td>Disaster Management</td>\n",
       "      <td>NaN</td>\n",
       "      <td>• Background: Glacial Lake Outburst Floods (GL...</td>\n",
       "      <td>DGRE, DRDO</td>\n",
       "      <td>Ministry of Defence</td>\n",
       "    </tr>\n",
       "    <tr>\n",
       "      <th>154</th>\n",
       "      <td>SIH1687</td>\n",
       "      <td>Real-Time Disaster Information Aggregation Sof...</td>\n",
       "      <td>Software</td>\n",
       "      <td>Disaster Management</td>\n",
       "      <td>NaN</td>\n",
       "      <td>Background: Disaster response agencies often s...</td>\n",
       "      <td>NDRF</td>\n",
       "      <td>The National Disaster Response Force (NDRF), MHA</td>\n",
       "    </tr>\n",
       "  </tbody>\n",
       "</table>\n",
       "</div>"
      ],
      "text/plain": [
       "    Statement_id                                              Title  Category  \\\n",
       "60       SIH1587                                 Student Innovation  Software   \n",
       "120      SIH1650  Early Warning System for Glacial Lake Outburst...  Software   \n",
       "154      SIH1687  Real-Time Disaster Information Aggregation Sof...  Software   \n",
       "\n",
       "       Technology_Bucket Datasetfile  \\\n",
       "60   Disaster Management         NaN   \n",
       "120  Disaster Management         NaN   \n",
       "154  Disaster Management         NaN   \n",
       "\n",
       "                                           Description  Department  \\\n",
       "60   Disaster Management includes ideas related to ...       AICTE   \n",
       "120  • Background: Glacial Lake Outburst Floods (GL...  DGRE, DRDO   \n",
       "154  Background: Disaster response agencies often s...        NDRF   \n",
       "\n",
       "                                         Organisation  \n",
       "60                      AICTE, MIC-Student Innovation  \n",
       "120                               Ministry of Defence  \n",
       "154  The National Disaster Response Force (NDRF), MHA  "
      ]
     },
     "execution_count": 7,
     "metadata": {},
     "output_type": "execute_result"
    }
   ],
   "source": [
    "df[(df['Technology_Bucket'] == 'Disaster Management') & (df['Category'] == 'Software')]"
   ]
  }
 ],
 "metadata": {
  "kernelspec": {
   "display_name": ".venv",
   "language": "python",
   "name": "python3"
  },
  "language_info": {
   "codemirror_mode": {
    "name": "ipython",
    "version": 3
   },
   "file_extension": ".py",
   "mimetype": "text/x-python",
   "name": "python",
   "nbconvert_exporter": "python",
   "pygments_lexer": "ipython3",
   "version": "3.11.0"
  }
 },
 "nbformat": 4,
 "nbformat_minor": 2
}
